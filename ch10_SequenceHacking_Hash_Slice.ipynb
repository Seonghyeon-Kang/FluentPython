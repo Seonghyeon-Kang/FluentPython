{
 "cells": [
  {
   "cell_type": "markdown",
   "metadata": {},
   "source": [
    "## Chapter 10 시퀀스 해킹, 해시, 슬라이스\n",
    "Vector2d를 능가하는 다차원 Vector 버전을 만들어 본다."
   ]
  },
  {
   "cell_type": "code",
   "execution_count": 37,
   "metadata": {},
   "outputs": [],
   "source": [
    "\"\"\" 기존 클래스에 함수를 포함하기 위한 데코레이터 \"\"\"\n",
    "import functools\n",
    "\n",
    "def extend(klass):\n",
    "    def decorator(func):\n",
    "        #print(func.__name__, func, \"was added to class\", klass.__name__)\n",
    "        setattr(klass, func.__name__, func)\n",
    "        return func\n",
    "    return decorator"
   ]
  },
  {
   "cell_type": "markdown",
   "metadata": {},
   "source": [
    "### 10.2 Vector 버전 #1: Vector2d 호환\n",
    "생성자 시그니처가 달라진 점 외에 요소 두 개를 가진 Vector 클래스는 Vector2d로 수행했던 모든 테스트와 동일한 결과가 나오도록 만들어졌다."
   ]
  },
  {
   "cell_type": "code",
   "execution_count": 38,
   "metadata": {},
   "outputs": [],
   "source": [
    "\"\"\" [예제 10-2] Vector 최초 버전 \"\"\"\n",
    "\n",
    "from array import array\n",
    "import reprlib\n",
    "import math\n",
    "import numbers\n",
    "\n",
    "class Vector:\n",
    "    typecode = 'd'\n",
    "    \n",
    "    def __init__(self, components): # 초기화 함수가 없으면 object.__init()를 호출한다.\n",
    "        self._components = array(self.typecode, components) # 백터 요소를 배열로 저장한다.\n",
    "        \n",
    "    def __iter__(self):\n",
    "        return iter(self._components)\n",
    "    \n",
    "    def __repr__(self):\n",
    "        components = reprlib.repr(self._components) \n",
    "        components = components[components.find('['):-1]\n",
    "        return 'Vector({})'.format(components) # [0.0, 1.0, 2.0, 3.0, ...] 형태로 출력된다.\n",
    "                                               # reprlib.repr(list(self._components))로도 가능하지만 단순한 출력을 위해 모든 항목을 list에 복사하는 것은 낭비이다.\n",
    "    def __str__(self):\n",
    "        return str(tuple(self))\n",
    "    \n",
    "    def __bytes__(self):\n",
    "        return (bytes([ord(self.typecode)]) + bytes(self._components))\n",
    "    \n",
    "    def __eq__(self, other):\n",
    "        return tuple(self) == tuple(other)\n",
    "    \n",
    "    def __bool__(self):\n",
    "        return bool(abs(self))\n",
    "    \n",
    "    def __abs__(self):\n",
    "        return math.sqrt(sum(x*x for x in self))\n",
    "\n",
    "    @classmethod\n",
    "    def frombytes(cls, octets):\n",
    "        typecode = chr(octets[0])\n",
    "        memv = memoryview(octets[1:]).cast(typecode)\n",
    "        return cls(memv) # memoryview를 바로 생성자에 전달한다. "
   ]
  },
  {
   "cell_type": "code",
   "execution_count": 39,
   "metadata": {},
   "outputs": [
    {
     "data": {
      "text/plain": [
       "Vector([3.1, 4.2])"
      ]
     },
     "execution_count": 39,
     "metadata": {},
     "output_type": "execute_result"
    }
   ],
   "source": [
    "Vector([3.1, 4.2])"
   ]
  },
  {
   "cell_type": "code",
   "execution_count": 40,
   "metadata": {},
   "outputs": [
    {
     "data": {
      "text/plain": [
       "Vector([3.1, 4.2, 5.3])"
      ]
     },
     "execution_count": 40,
     "metadata": {},
     "output_type": "execute_result"
    }
   ],
   "source": [
    "Vector((3.1, 4.2, 5.3))"
   ]
  },
  {
   "cell_type": "code",
   "execution_count": 41,
   "metadata": {},
   "outputs": [
    {
     "data": {
      "text/plain": [
       "Vector([0.0, 1.0, 2.0, 3.0, 4.0, ...])"
      ]
     },
     "execution_count": 41,
     "metadata": {},
     "output_type": "execute_result"
    }
   ],
   "source": [
    "Vector(range(10)) # Vector(array('d', [0.0, 1.0, 2.0, 3.0, 4.0, ...]))를 2번째 코트도 변환한 것"
   ]
  },
  {
   "cell_type": "markdown",
   "metadata": {},
   "source": [
    "### 10.3 프로토콜과 덕 타이핑\n",
    "객체지향 프로그래밍에서 프로토콜은 문서에만 정의되어 있고 실제 코드에서는 정의되지 않는 비공식 인터페이스다. 예를 들어 파이썬의 시퀀스 프로토콜은 \\_\\_len\\_\\_( )과 \\_\\_getitem\\_\\_( ) 메서드를 동반할 뿐이다."
   ]
  },
  {
   "cell_type": "code",
   "execution_count": 42,
   "metadata": {},
   "outputs": [],
   "source": [
    "\"\"\" [예제 10-3] 시퀀스 프로토콜 \"\"\"\n",
    "import collections \n",
    "\n",
    "Card = collections.namedtuple('card', ['rank', 'suit'])\n",
    "\n",
    "class FrenchDeck:\n",
    "    ranks = [str(n) for n in range(2, 11)] + list('JQKA')\n",
    "    suits = 'spades diamonds clubs hearts'.split()\n",
    "    \n",
    "    def __init__(self):\n",
    "        self._cards = [Card(rank, suit)\n",
    "                       for suit in self.suits\n",
    "                       for rank in self.ranks]\n",
    "    \n",
    "    def __len__(self):\n",
    "        return len(self._cards)\n",
    "    \n",
    "    def __getitem__(self, position):\n",
    "        return self._cards[position]"
   ]
  },
  {
   "cell_type": "markdown",
   "metadata": {},
   "source": [
    "### 10.4 Vector 버전 #2: 슬라이스 가능한 시퀀스\n",
    "\n",
    "\\_\\_len\\_\\_( ), \\_\\_getitem\\_\\_( )을 구현하면 아래와 같은 연산이 가능하다. 슬라이싱도 지원된다. 그러나 Vector의 슬라이스도 배열이 아니라 Vector 객체가 되면 더 좋을 것이다. Vector를 슬라이싱해서 Vector 객체를 생성하려면, 슬라이싱 연산을 배열에 위임하면 안되며, \\_\\_getitem\\_\\_( ) 메서드가 받은 인수를 분석해서 제대로 처리해야 한다."
   ]
  },
  {
   "cell_type": "code",
   "execution_count": 43,
   "metadata": {},
   "outputs": [],
   "source": [
    "@extend(Vector)\n",
    "def __len__(self):\n",
    "    return len(self._components)\n",
    "\n",
    "@extend(Vector)\n",
    "def __getitem__(self, index):\n",
    "    return self._components[index]"
   ]
  },
  {
   "cell_type": "code",
   "execution_count": 44,
   "metadata": {},
   "outputs": [
    {
     "data": {
      "text/plain": [
       "3"
      ]
     },
     "execution_count": 44,
     "metadata": {},
     "output_type": "execute_result"
    }
   ],
   "source": [
    "v1 = Vector([3, 4, 5])\n",
    "len(v1)"
   ]
  },
  {
   "cell_type": "code",
   "execution_count": 45,
   "metadata": {},
   "outputs": [
    {
     "data": {
      "text/plain": [
       "(3.0, 5.0)"
      ]
     },
     "execution_count": 45,
     "metadata": {},
     "output_type": "execute_result"
    }
   ],
   "source": [
    "v1[0], v1[-1]"
   ]
  },
  {
   "cell_type": "code",
   "execution_count": 46,
   "metadata": {},
   "outputs": [
    {
     "data": {
      "text/plain": [
       "array('d', [1.0, 2.0, 3.0])"
      ]
     },
     "execution_count": 46,
     "metadata": {},
     "output_type": "execute_result"
    }
   ],
   "source": [
    "v7 = Vector(range(7))\n",
    "v7[1:4]"
   ]
  },
  {
   "cell_type": "markdown",
   "metadata": {},
   "source": [
    "#### 10.4.1 슬라이싱의 작동 방식\n",
    "예제를 통해 slice( )를 살펴보자"
   ]
  },
  {
   "cell_type": "code",
   "execution_count": 47,
   "metadata": {},
   "outputs": [
    {
     "name": "stdout",
     "output_type": "stream",
     "text": [
      "1\n",
      "slice(1, 4, None)\n",
      "slice(1, 4, 2)\n",
      "(slice(1, 4, 2), 9)\n",
      "(slice(1, 4, 2), slice(7, 9, None))\n"
     ]
    }
   ],
   "source": [
    "\"\"\" [예제 10-4] __getitem__()과 slice()의 동작 확인 \"\"\"\n",
    "\n",
    "class MySeq:\n",
    "    def __getitem__(self, index):\n",
    "        return index # 전달받은 인수를 그대로 반환한다.\n",
    "    \n",
    "s = MySeq()\n",
    "print(\"{!r}\".format(s[1]))\n",
    "print(\"{!r}\".format(s[1:4]))\n",
    "print(\"{!r}\".format(s[1:4:2]))\n",
    "print(\"{!r}\".format(s[1:4:2, 9]))   # [] 안에 콤마가 들어가면 __getitem__()이 튜플을 받는다\n",
    "print(\"{!r}\".format(s[1:4:2, 7:9])) # 튜플 안에 여러 슬라이스 객체가 들어 있을 수 있다."
   ]
  },
  {
   "cell_type": "code",
   "execution_count": 1,
   "metadata": {},
   "outputs": [
    {
     "name": "stdout",
     "output_type": "stream",
     "text": [
      "<class 'slice'>\n",
      "['__class__', '__delattr__', '__dir__', '__doc__', '__eq__', '__format__', '__ge__', '__getattribute__', '__gt__', '__hash__', '__init__', '__init_subclass__', '__le__', '__lt__', '__ne__', '__new__', '__reduce__', '__reduce_ex__', '__repr__', '__setattr__', '__sizeof__', '__str__', '__subclasshook__', 'indices', 'start', 'step', 'stop']\n"
     ]
    }
   ],
   "source": [
    "\"\"\" [예제 10-5] slice 클래스의 속성 조사 \"\"\"\n",
    "print(repr(slice)) # slice는 내장된 자료형이다.\n",
    "print(repr(dir(slice))) # slice 객체를 조사하면 start, stop, step 속성과 indices() 를 볼 수 있다. "
   ]
  },
  {
   "cell_type": "code",
   "execution_count": 49,
   "metadata": {},
   "outputs": [
    {
     "name": "stdout",
     "output_type": "stream",
     "text": [
      "Help on method_descriptor:\n",
      "\n",
      "indices(...)\n",
      "    S.indices(len) -> (start, stop, stride)\n",
      "    \n",
      "    Assuming a sequence of length len, calculate the start and stop\n",
      "    indices, and the stride length of the extended slice described by\n",
      "    S. Out of bounds indices are clipped in a manner consistent with the\n",
      "    handling of normal slices.\n",
      "\n"
     ]
    }
   ],
   "source": [
    "help(slice.indices) # index의 복수"
   ]
  },
  {
   "cell_type": "code",
   "execution_count": 50,
   "metadata": {},
   "outputs": [
    {
     "name": "stdout",
     "output_type": "stream",
     "text": [
      "(0, 5, 2)\n",
      "(2, 5, 1)\n"
     ]
    }
   ],
   "source": [
    "\"\"\" 'ABCDE'처럼 길이가 5인 시퀀스에 적용한 슬라이스의 예 \"\"\"\n",
    "\n",
    "print(\"{!r}\".format(slice(None, 10, 2).indices(5)))\n",
    "print(\"{!r}\".format(slice(-3, None, None).indices(5))) # indices는 index가 5개임을 의미한다."
   ]
  },
  {
   "cell_type": "markdown",
   "metadata": {},
   "source": [
    "#### 10.4.2 슬라이스를 인식하는 \\_\\_getitem\\_\\_(   )\n",
    "[예제 10-6]은 Vector가 시퀀스로 동작하기 위해 필요한 \\_\\_len\\_\\_( )과 \\_\\_getitem\\_\\_( )를 보여준다. 이제는 \\_\\_getitem\\_\\_( )이 슬라이싱도 제대로 처리하도록 구현되어 있다.\n",
    "\n",
    "참고: isintance( )를 많이 사용한다는 것은 객체지향 설계가 잘못되었다는 것을 나타낼 수 있지만, \\_\\_getitem\\_\\_( )에서 슬라이스를 처리하는 경우에는 정당화될 수 있다. [예제 10-6]에서 추상 베이스 클래스(ABC)인 numbers.Integral에 대해 테스트하는 것을 보라. isinstance( ) 테스트에서 ABC를 사용하면 API를 더욱 융통성 있고 미래의 확장에 대비할 수 있게 해준다. 11장에서 이유를 설명한다. 불행히도 파이썬 3.4 표준 라이브러리에는 slice에 대한 ABC가 없다."
   ]
  },
  {
   "cell_type": "code",
   "execution_count": 51,
   "metadata": {},
   "outputs": [],
   "source": [
    "\"\"\" [예제 10-6] 예제 10-2의 Vector 클래스에 추가된 __len__(), __getitem__() 메서드 \"\"\"\n",
    "@extend(Vector)\n",
    "def __len__(self):\n",
    "    return len(self._components)\n",
    "\n",
    "@extend(Vector)\n",
    "def __getitem__(self, index):\n",
    "    cls = type(self) # 객체의 클래스(Vector)를 가져온다.\n",
    "    if isinstance(index, slice):\n",
    "        return cls(self._components[index])\n",
    "    elif isinstance(index, numbers.Integral): \n",
    "        return self._components[index]\n",
    "    else:\n",
    "        msg = '{cls.__name__} indices must be integers' # format 안에서도 . 연산자는 동작한다.\n",
    "        raise TypeError(msg.format(cls=cls))"
   ]
  },
  {
   "cell_type": "code",
   "execution_count": 52,
   "metadata": {},
   "outputs": [],
   "source": [
    "v = Vector(range(7))"
   ]
  },
  {
   "cell_type": "code",
   "execution_count": 53,
   "metadata": {},
   "outputs": [
    {
     "name": "stdout",
     "output_type": "stream",
     "text": [
      "6.0\n",
      "(1.0, 2.0, 3.0)\n",
      "(6.0,)\n"
     ]
    }
   ],
   "source": [
    "print(v7[-1])\n",
    "print(v7[1:4])\n",
    "print(v7[-1:])"
   ]
  },
  {
   "cell_type": "code",
   "execution_count": 54,
   "metadata": {},
   "outputs": [
    {
     "ename": "TypeError",
     "evalue": "Vector indices must be integers",
     "output_type": "error",
     "traceback": [
      "\u001b[0;31m---------------------------------------------------------------------------\u001b[0m",
      "\u001b[0;31mTypeError\u001b[0m                                 Traceback (most recent call last)",
      "\u001b[0;32m<ipython-input-54-466e35ca4c3e>\u001b[0m in \u001b[0;36m<module>\u001b[0;34m\u001b[0m\n\u001b[0;32m----> 1\u001b[0;31m \u001b[0mv7\u001b[0m\u001b[0;34m[\u001b[0m\u001b[0;36m1\u001b[0m\u001b[0;34m,\u001b[0m \u001b[0;36m2\u001b[0m\u001b[0;34m]\u001b[0m \u001b[0;31m# Vector는 다차원 인덱싱을 지원하지 않으므로 인덱스나 슬라이스로 구성된 튜플은 에러를 발생시킨다.\u001b[0m\u001b[0;34m\u001b[0m\u001b[0m\n\u001b[0m",
      "\u001b[0;32m<ipython-input-51-0f3fb3a420f4>\u001b[0m in \u001b[0;36m__getitem__\u001b[0;34m(self, index)\u001b[0m\n\u001b[1;32m     13\u001b[0m     \u001b[0;32melse\u001b[0m\u001b[0;34m:\u001b[0m\u001b[0;34m\u001b[0m\u001b[0m\n\u001b[1;32m     14\u001b[0m         \u001b[0mmsg\u001b[0m \u001b[0;34m=\u001b[0m \u001b[0;34m'{cls.__name__} indices must be integers'\u001b[0m \u001b[0;31m# format 안에서도 . 연산자는 동작한다.\u001b[0m\u001b[0;34m\u001b[0m\u001b[0m\n\u001b[0;32m---> 15\u001b[0;31m         \u001b[0;32mraise\u001b[0m \u001b[0mTypeError\u001b[0m\u001b[0;34m(\u001b[0m\u001b[0mmsg\u001b[0m\u001b[0;34m.\u001b[0m\u001b[0mformat\u001b[0m\u001b[0;34m(\u001b[0m\u001b[0mcls\u001b[0m\u001b[0;34m=\u001b[0m\u001b[0mcls\u001b[0m\u001b[0;34m)\u001b[0m\u001b[0;34m)\u001b[0m\u001b[0;34m\u001b[0m\u001b[0m\n\u001b[0m",
      "\u001b[0;31mTypeError\u001b[0m: Vector indices must be integers"
     ]
    }
   ],
   "source": [
    "v7[1, 2] # Vector는 다차원 인덱싱을 지원하지 않으므로 인덱스나 슬라이스로 구성된 튜플은 에러를 발생시킨다."
   ]
  },
  {
   "cell_type": "markdown",
   "metadata": {},
   "source": [
    "### 10.5 Vector버전 #3: 동적 속성 접근\n",
    "앞에 있는 요소 몇 개는 v[0], v[1], v[2] 대신 x, y, z로 접근할 수 있다면 편리할 것이다. \n",
    "```\n",
    ">>> v = Vector(range(10))\n",
    ">>> v.x\n",
    "0.0\n",
    ">>> v.y, v.z, v.t\n",
    "(1.0, 2.0, 3.0)\n",
    "```\n",
    "\\_\\_getattr\\_\\_( ) 특별 메서드를 이용하면 더욱 깔끔하게 구현할 수 있다. 속성을 찾지 못하면 인터프리터는 \\_\\_getattr\\_\\_( ) 메서드를 호출한다. 다시말해 my_boj.x 표현식이 주어지면, 파이썬은 my_obj 객체에 x 속성이 있는지 검사한다. 속성이 없으면 이 객체의 클래스(my_obj.\\_\\_class\\_\\_)에서 더 검색한다. 그리고 나서 상속 그래프를 따라 계속 올라간다. 그래도 x 속성을 찾지 못하면 self와 속성명을 문자열로 전달해서 my_obj의 클래스에 정의된 \\_\\_getattr\\_\\_( ) 메서드를 호출한다."
   ]
  },
  {
   "cell_type": "code",
   "execution_count": 55,
   "metadata": {},
   "outputs": [],
   "source": [
    "\"\"\" [예제 10-8] Vector 클래스에 추가된 __getattr__( ) 메서드 \"\"\"\n",
    "setattr(Vector, 'shortcut_names', 'xyzt')\n",
    "#shorcut_name = 'xyzt'\n",
    "\n",
    "@extend(Vector)\n",
    "def __getattr__(self, name):\n",
    "    cls = type(self) # Vector 클래스를 가져온다.\n",
    "    if len(name) == 1: # 한 글자 name의 위치를 찾는다. str.find()는 'yz'의 위치도 찾을 수 있으므로, 위에서 name의 길이가 1인지 확인한다.\n",
    "        pos = cls.shortcut_names.find(name)\n",
    "        if 0 <= pos < len(self._components):\n",
    "            return self._components[pos]\n",
    "    msg = '{.__name__!r} object has no attribute {!r}'\n",
    "    raise AttributeError(msg.format(cls, name)) # 실패하면 표준 메시지와 함께 AttributeError가 발생한다."
   ]
  },
  {
   "cell_type": "code",
   "execution_count": 56,
   "metadata": {},
   "outputs": [
    {
     "data": {
      "text/plain": [
       "0.0"
      ]
     },
     "execution_count": 56,
     "metadata": {},
     "output_type": "execute_result"
    }
   ],
   "source": [
    "v = Vector(range(10))\n",
    "v.x"
   ]
  },
  {
   "cell_type": "code",
   "execution_count": 57,
   "metadata": {},
   "outputs": [
    {
     "data": {
      "text/plain": [
       "(1.0, 2.0, 3.0)"
      ]
     },
     "execution_count": 57,
     "metadata": {},
     "output_type": "execute_result"
    }
   ],
   "source": [
    "v.y, v.z, v.t"
   ]
  },
  {
   "cell_type": "markdown",
   "metadata": {},
   "source": [
    "파이썬은 해당 이름의 속성을 찾지 못할 때 최후 수단으로 \\_\\_getatt\\_\\_( ) 메서드를 호출한다. 그러나 v.x = 10 문장으로 x 속성에 값을 할당할 때 v 객체에 x 속성이 추가되므로, 더 이상 v.x값을 가져오기 위해  \\_\\_getatt\\_\\_( )을 호출하지 않는다. 여기서 주의할 점은 모든 속성의 설정을 막은 것이 아니라 지원되는 읽기 전용 속성 x, y, z, t와의 혼동을 피하기 위해 단일 소문자로 되어 있는 속성의 설정만 막고 있다는 것이다.\n",
    "\n",
    "※ 주의: 클래스 수준에서 \\_\\_slots\\_\\_를 정의하면 새로운 객체 속성을 생성할 수 없다는 것을 알고 있으므로, 우리가 구현한 \\_\\_setattr\\_\\_( ) 대신 \\_\\_slots\\_\\_ 속성을 사용하고 싶을 것이다. 그러나 단치 객체 속성의 생성을 막기 위해 \\_\\_slots\\_\\_를 사용하는 것은 권장하지 않는다. \\_\\_slots\\_\\_는 메모리를 절약하기 위해 사용해야 한다."
   ]
  },
  {
   "cell_type": "code",
   "execution_count": 58,
   "metadata": {},
   "outputs": [
    {
     "name": "stdout",
     "output_type": "stream",
     "text": [
      "(0.0, 1.0, 2.0, 3.0, 4.0)\n",
      "0.0\n",
      "10\n",
      "(0.0, 1.0, 2.0, 3.0, 4.0)\n"
     ]
    }
   ],
   "source": [
    "\"\"\" [예제 10-9] 부적절한 동작. v.x에 값을 할당하더라도 에러가 발생하지는 않지만 값은 변하지 않는다. \"\"\"\n",
    "v = Vector(range(5))\n",
    "print(v)\n",
    "print(v.x)\n",
    "v.x = 10 # x라는 속성이 추가되기 때문에 더 이상 __getatt__( )을 호출하여 Vector[0]의 값을 가져오지 않는다.\n",
    "print(v.x)\n",
    "print(v)"
   ]
  },
  {
   "cell_type": "code",
   "execution_count": 59,
   "metadata": {},
   "outputs": [],
   "source": [
    "\"\"\" [예제 10-10] 예제 10-9의 문제를 개선하기 위해 __setatt__( )를 추가 \"\"\"\n",
    "@extend(Vector)\n",
    "def __setattr__(self, name, value):\n",
    "    cls = type(self)\n",
    "    if len(name) == 1:\n",
    "        if name in cls.shortcut_names:\n",
    "            error = 'read only attribute {attr_name!r}'\n",
    "        elif name.islower():\n",
    "            error = \"can't set attributes 'a' to 'z' in {cls_name!r}\"\n",
    "        else:\n",
    "            error = ''\n",
    "        if error:\n",
    "            msg = error.format(cls_name=cls.__name__, attr_name=name)\n",
    "            raise AttributeError(msg)\n",
    "    super().__setattr__(name, value) # 에러가 발생하지 않을 때는 표준 동작을 위해 슈퍼클래스의 함수를 호출한다."
   ]
  },
  {
   "cell_type": "code",
   "execution_count": 60,
   "metadata": {},
   "outputs": [
    {
     "ename": "AttributeError",
     "evalue": "read only attribute 'x'",
     "output_type": "error",
     "traceback": [
      "\u001b[0;31m---------------------------------------------------------------------------\u001b[0m",
      "\u001b[0;31mAttributeError\u001b[0m                            Traceback (most recent call last)",
      "\u001b[0;32m<ipython-input-60-ca06d805fab0>\u001b[0m in \u001b[0;36m<module>\u001b[0;34m\u001b[0m\n\u001b[0;32m----> 1\u001b[0;31m \u001b[0mv1\u001b[0m\u001b[0;34m.\u001b[0m\u001b[0mx\u001b[0m \u001b[0;34m=\u001b[0m \u001b[0;36m10\u001b[0m\u001b[0;34m\u001b[0m\u001b[0m\n\u001b[0m",
      "\u001b[0;32m<ipython-input-59-5f1aa99f00b1>\u001b[0m in \u001b[0;36m__setattr__\u001b[0;34m(self, name, value)\u001b[0m\n\u001b[1;32m     12\u001b[0m         \u001b[0;32mif\u001b[0m \u001b[0merror\u001b[0m\u001b[0;34m:\u001b[0m\u001b[0;34m\u001b[0m\u001b[0m\n\u001b[1;32m     13\u001b[0m             \u001b[0mmsg\u001b[0m \u001b[0;34m=\u001b[0m \u001b[0merror\u001b[0m\u001b[0;34m.\u001b[0m\u001b[0mformat\u001b[0m\u001b[0;34m(\u001b[0m\u001b[0mcls_name\u001b[0m\u001b[0;34m=\u001b[0m\u001b[0mcls\u001b[0m\u001b[0;34m.\u001b[0m\u001b[0m__name__\u001b[0m\u001b[0;34m,\u001b[0m \u001b[0mattr_name\u001b[0m\u001b[0;34m=\u001b[0m\u001b[0mname\u001b[0m\u001b[0;34m)\u001b[0m\u001b[0;34m\u001b[0m\u001b[0m\n\u001b[0;32m---> 14\u001b[0;31m             \u001b[0;32mraise\u001b[0m \u001b[0mAttributeError\u001b[0m\u001b[0;34m(\u001b[0m\u001b[0mmsg\u001b[0m\u001b[0;34m)\u001b[0m\u001b[0;34m\u001b[0m\u001b[0m\n\u001b[0m\u001b[1;32m     15\u001b[0m     \u001b[0msuper\u001b[0m\u001b[0;34m(\u001b[0m\u001b[0;34m)\u001b[0m\u001b[0;34m.\u001b[0m\u001b[0m__setattr__\u001b[0m\u001b[0;34m(\u001b[0m\u001b[0mname\u001b[0m\u001b[0;34m,\u001b[0m \u001b[0mvalue\u001b[0m\u001b[0;34m)\u001b[0m \u001b[0;31m# 에러가 발생하지 않을 때는 표준 동작을 위해 슈퍼클래스의 함수를 호출한다.\u001b[0m\u001b[0;34m\u001b[0m\u001b[0m\n",
      "\u001b[0;31mAttributeError\u001b[0m: read only attribute 'x'"
     ]
    }
   ],
   "source": [
    "v1.x = 10"
   ]
  },
  {
   "cell_type": "markdown",
   "metadata": {},
   "source": [
    "#### 10.6 Vector버전 #4: 해싱 및 더 빠른 == \n",
    "기존 \\_\\_eq\\_\\_( ) 메서드와 함께 \\_\\_hash\\_\\_( ) 메서드를 구현하면 Vector 객체를 해시할 수 있게 된다. functools.reduce( ) 함수를 사용하면 시퀀스형을 인자로 받는 \\_\\_hash\\_\\_( ) 구현이 쉬워진다. 이 외에도 아래의 3가지 방법이 가능하다."
   ]
  },
  {
   "cell_type": "code",
   "execution_count": null,
   "metadata": {},
   "outputs": [],
   "source": [
    "\"\"\" [예제 10-11] 0에서 5까지 정수를 XOR로 누적 계산하는 세 가지 방법 \"\"\"\n",
    "n = 0\n",
    "for i in range(6): # 저자가 2번째로 선호\n",
    "    n ^= i\n",
    "print(n)"
   ]
  },
  {
   "cell_type": "code",
   "execution_count": null,
   "metadata": {},
   "outputs": [],
   "source": [
    "import functools\n",
    "functools.reduce(lambda a, b: a^b, range(6))"
   ]
  },
  {
   "cell_type": "code",
   "execution_count": null,
   "metadata": {},
   "outputs": [],
   "source": [
    "import operator # 저자가 가장 선호\n",
    "functools.reduce(operator.xor, range(6))"
   ]
  },
  {
   "cell_type": "code",
   "execution_count": 61,
   "metadata": {},
   "outputs": [],
   "source": [
    "\"\"\" [예제 10-12] __hash__( ) 메서드 추가 \"\"\"\n",
    "from array import array\n",
    "import reprlib\n",
    "import math\n",
    "import functools\n",
    "import operator\n",
    "\n",
    "@extend(Vector)\n",
    "def __eq__(self, other):\n",
    "    return tuple(self) == tuple(other) # 바뀐 것은 없지만 두 함수가 밀접한 관계이므로 가까이 두었다.\n",
    "\n",
    "@extend(Vector)\n",
    "def __hash__(self):\n",
    "    hashes = (hash(x) for x in self._components)\n",
    "    return fuctools.reduce(operator.xor, hashes, 0) # reduce()를 사용할 때는 세 번째 인수를 전달해서 reduce(<함수>, <반복형>, <초깃값>) 형태로 호출하고\n",
    "                                                    # 'TypeError':reduce() of empty sequnce withg no initial value' 예외가 발생하지 않게 예방하는 것이 좋다.\n",
    "                                                    # <초깃값>은 시퀀스가 비어 있을 때 반환되는 값이며, 리듀스 루프 안에서 첫 번째 인수로 사용된다. 따라서 함수에 대한 항등원을 \n",
    "                                                    # 사용해야 한다. 예를 들어 +, |, ^ 연산에는 0이 되어야하지만, *, & 연산의 경우에는 1이 되어야 한다."
   ]
  },
  {
   "cell_type": "markdown",
   "metadata": {},
   "source": [
    "\\_\\_eq\\_\\_( ) 메서드를 간단히 수정해서 커다란 백터를 더 빠르고 메모리를 적게 사용하도록 바꿔볼 수 있다. 피연산자 전체를 복사해서 튜플을 만들기 때문에 요소가 두 개 밖에 없는 Vector2d의 경우에는 나쁘지 않지만, 아주 큰 다차원 벡터의 경우에는 얘기가 다르다. \n",
    "```\n",
    "def __eq_(self, other):\n",
    "    if len(self) != len(other): # 길이가 다르면, 다른 객체이다. \n",
    "        return False\n",
    "    for a, b in zip(self, other): # 입력 중 하나가 소진되면 zip()은 경고없이 값 생산을 중단한다.\n",
    "        if a != b:\n",
    "            return False\n",
    "    return True\n",
    "```\n",
    "\n",
    "짧게 표현하면 아래와 같다.\n",
    "```\n",
    "def __eq__(self, other):\n",
    "    return len(self) == len(other) and all(a == b for a, b in zip(self, other))\n",
    "```"
   ]
  },
  {
   "cell_type": "markdown",
   "metadata": {},
   "source": [
    "멋진 zip( ) 함수: zip( ) 함수는 튜플을 변수에 언패킹해서 각 변수에 병렬로 입력할 수 있다."
   ]
  },
  {
   "cell_type": "code",
   "execution_count": null,
   "metadata": {},
   "outputs": [],
   "source": [
    "list(zip(range(3), 'ABC', [0.0 ,1.1, 2.2, 3.3])) # 반복형 중에서 어느 것이라도 소진되면 경고 메시지 없이 중단한다."
   ]
  },
  {
   "cell_type": "code",
   "execution_count": null,
   "metadata": {},
   "outputs": [],
   "source": [
    "from itertools import zip_longest\n",
    "list(zip_longest(range(3), 'ABC', [0.0 ,1.1, 2.2, 3.3], fillvalue=-1)) # 빠진 값을 채워가면서 마지막 반복형이 소진될 때까지 튜플을 생성한다."
   ]
  },
  {
   "cell_type": "markdown",
   "metadata": {},
   "source": [
    "### 10.7 Vector 버전 #5: 포매팅\n",
    "포멧 명시간이 언어를 확장하려면 내장 자료형에서 지원하는 포맷 코드를 다른 용도로 사용하지 않는 것이 좋다. 때문에 극좌표에서는 'p', 초평면좌표에서는 'h'를 사용한 것은 좋은 선택이다.\n",
    "<li>실수형 포맷 코드: 'eEfFgGn%'</li>\n",
    "<li>정수형 포맷 코드: 'bcdoxXn'</li>\n",
    "<li>문자열         : 's'</li>"
   ]
  },
  {
   "cell_type": "code",
   "execution_count": 86,
   "metadata": {},
   "outputs": [],
   "source": [
    "\"\"\" [예제 10-16] Vector 클래스 최종 버전에 대한 doctest와 전체코드 \"\"\"\n",
    "from array import array\n",
    "import reprlib\n",
    "import math\n",
    "import numbers\n",
    "import functools\n",
    "import operator\n",
    "import itertools\n",
    "\n",
    "class Vector:\n",
    "    typecode = 'd'\n",
    "    \n",
    "    def __init__(self, components): # 초기화 함수가 없으면 object.__init()를 호출한다.\n",
    "        self._components = array(self.typecode, components) # 백터 요소를 배열로 저장한다.\n",
    "        \n",
    "    def __iter__(self):\n",
    "        return iter(self._components)\n",
    "    \n",
    "    def __repr__(self):\n",
    "        components = reprlib.repr(self._components) \n",
    "        components = components[components.find('['):-1]\n",
    "        return 'Vector({})'.format(components) # [0.0, 1.0, 2.0, 3.0, ...] 형태로 출력된다.\n",
    "                                               # reprlib.repr(list(self._components))로도 가능하지만 단순한 출력을 위해 모든 항목을 list에 복사하는 것은 낭비이다.\n",
    "    def __str__(self):\n",
    "        return str(tuple(self))\n",
    "    \n",
    "    def __bytes__(self):\n",
    "        return (bytes([ord(self.typecode)]) + bytes(self._components))\n",
    "    \n",
    "    def __eq__(self, other):\n",
    "        return tuple(self) == tuple(other)\n",
    "    \n",
    "    def __bool__(self):\n",
    "        return bool(abs(self))\n",
    "    \n",
    "    def __abs__(self):\n",
    "        return math.sqrt(sum(x*x for x in self))\n",
    "\n",
    "    @classmethod\n",
    "    def frombytes(cls, octets):\n",
    "        typecode = chr(octets[0])\n",
    "        memv = memoryview(octets[1:]).cast(typecode)\n",
    "        return cls(memv) # memoryview를 바로 생성자에 전달한다. \n",
    "    \n",
    "    def __len__(self):\n",
    "        return len(self._components)\n",
    "\n",
    "    def __getitem__(self, index):\n",
    "        cls = type(self) # 객체의 클래스(Vector)를 가져온다.\n",
    "        if isinstance(index, slice):\n",
    "            return cls(self._components[index])\n",
    "        elif isinstance(index, numbers.Integral): \n",
    "            return self._components[index]\n",
    "        else:\n",
    "            msg = '{cls.__name__} indices must be integers'\n",
    "            raise TypeError(msg.format(cls=cls))\n",
    "            \n",
    "    shortcut_names = 'xyzt'\n",
    "\n",
    "    def __getattr__(self, name):\n",
    "        cls = type(self)\n",
    "        if len(name) == 1:\n",
    "            pos = cls.shortcut_names.find(name)\n",
    "            if 0 <= pos < len(self._components):\n",
    "                return self._components[pos]\n",
    "        msg = '{.__name__!r} object has no attribute {!r}'\n",
    "        raise AttributeError(msg.format(cls, name))\n",
    "        \n",
    "    def __setattr__(self, name, value):\n",
    "        cls = type(self)\n",
    "        if len(name) == 1:\n",
    "            if name in cls.shorcut_names:\n",
    "                error = 'read only attribute {attr_name!r}'\n",
    "            elif name.islower():\n",
    "                error = \"can't set attributes 'a' to 'z' in {cls_name!r}\"\n",
    "            else:\n",
    "                error = ''\n",
    "            if error:\n",
    "                msg = error.format(cls_name=cls.__name__, attr_name=name)\n",
    "                raise AttributeError(msg)\n",
    "        super().__setattr__(name, value) # 에러가 발생하지 않을 때는 표준 동작을 위해 슈퍼클래스의 함수를 호출한다.\n",
    "        \n",
    "    def __eq_(self, other):\n",
    "        if len(self) != len(other):\n",
    "            return False\n",
    "        for a, b in zip(self, other):\n",
    "            if a != b:\n",
    "                return False\n",
    "        return True\n",
    "    \n",
    "    def angle(self, n): # 초구면좌표에 대한 공식 ( https://ko.wikipedia.org/wiki/초구면_좌표계 ) 을 이용해서 특정 좌표에 대한 각좌표를 계산한다.\n",
    "        r = math.sqrt(sum(x * x for x in self[n:]))\n",
    "        a = math.atan2(r, self[n-1])\n",
    "        if (n==len(self) - 1) and (self[-1] < 0):\n",
    "            return math.pi*2 - a\n",
    "        else:\n",
    "            return a\n",
    "        \n",
    "    def angles(self): # 요청에 따라 각 좌표를 모두 계산하는 제너레이터 표현식을 생성한다.\n",
    "        return (self.angle(n) for n in range(1, len(self)))\n",
    "    \n",
    "    def __format__(self, fmt_spec=''):\n",
    "        if fmt_spec.endswith('h'): # 초구면좌표(hyperspherical coordinate)\n",
    "            fmt_spec = fmt_spec[:-1]\n",
    "            coords = itertools.chain([abs(self)], self.angles()) # 하나의 반지름과 나머지는 극좌표를 표현함\n",
    "            outer_fmt = '<{}>'\n",
    "        else:\n",
    "            coords = self\n",
    "            outer_fmt = '({})'\n",
    "        components = (format(c, fmt_spec) for c in coords) # 좌표의 각 항목을 요청에 따라 포맷하는 제너레이터 표현식을 생성한다.\n",
    "        return outer_fmt.format(', '.join(components))"
   ]
  },
  {
   "cell_type": "code",
   "execution_count": 87,
   "metadata": {},
   "outputs": [
    {
     "data": {
      "text/plain": [
       "'(3.00, 4.00)'"
      ]
     },
     "execution_count": 87,
     "metadata": {},
     "output_type": "execute_result"
    }
   ],
   "source": [
    "\"\"\" 2차원 직교좌표에 대한 format() 테스트 \"\"\"\n",
    "v1 = Vector([3, 4])\n",
    "format(v1, '.2f')"
   ]
  },
  {
   "cell_type": "code",
   "execution_count": 88,
   "metadata": {},
   "outputs": [
    {
     "data": {
      "text/plain": [
       "'(3.000e+00, 4.000e+00)'"
      ]
     },
     "execution_count": 88,
     "metadata": {},
     "output_type": "execute_result"
    }
   ],
   "source": [
    "format(v1, '.3e')"
   ]
  },
  {
   "cell_type": "code",
   "execution_count": 89,
   "metadata": {},
   "outputs": [
    {
     "data": {
      "text/plain": [
       "'(3.0, 4.0, 5.0)'"
      ]
     },
     "execution_count": 89,
     "metadata": {},
     "output_type": "execute_result"
    }
   ],
   "source": [
    "\"\"\" 3차원, 7차원 직교좌표에 대한 format() 테스트 \"\"\"\n",
    "v3 = Vector([3, 4, 5])\n",
    "format(v3)"
   ]
  },
  {
   "cell_type": "code",
   "execution_count": 90,
   "metadata": {},
   "outputs": [
    {
     "data": {
      "text/plain": [
       "'(0.0, 1.0, 2.0, 3.0, 4.0, 5.0, 6.0)'"
      ]
     },
     "execution_count": 90,
     "metadata": {},
     "output_type": "execute_result"
    }
   ],
   "source": [
    "format(Vector(range(7)))"
   ]
  },
  {
   "cell_type": "code",
   "execution_count": 91,
   "metadata": {},
   "outputs": [
    {
     "name": "stdout",
     "output_type": "stream",
     "text": [
      "debug [1.4142135623730951] [0.7853981633974483]\n"
     ]
    },
    {
     "data": {
      "text/plain": [
       "'<1.4142135623730951, 0.7853981633974483>'"
      ]
     },
     "execution_count": 91,
     "metadata": {},
     "output_type": "execute_result"
    }
   ],
   "source": [
    "\"\"\" 2차원, 3차원, 4차원 구면좌표에 대한 format() 테스트 \"\"\"\n",
    "format(Vector([1, 1]), 'h') # doctest:+ELLIPSIS"
   ]
  },
  {
   "cell_type": "code",
   "execution_count": 68,
   "metadata": {},
   "outputs": [
    {
     "data": {
      "text/plain": [
       "'<1.414e+00, 7.854e-01>'"
      ]
     },
     "execution_count": 68,
     "metadata": {},
     "output_type": "execute_result"
    }
   ],
   "source": [
    "format(Vector([1, 1]), '.3eh')"
   ]
  },
  {
   "cell_type": "code",
   "execution_count": 69,
   "metadata": {},
   "outputs": [
    {
     "data": {
      "text/plain": [
       "'<1.41421, 0.78540>'"
      ]
     },
     "execution_count": 69,
     "metadata": {},
     "output_type": "execute_result"
    }
   ],
   "source": [
    "format(Vector([1, 1]), '.5fh')"
   ]
  },
  {
   "cell_type": "code",
   "execution_count": 70,
   "metadata": {},
   "outputs": [
    {
     "data": {
      "text/plain": [
       "'<1.7320508075688772, 0.9553166181245093, 0.7853981633974483>'"
      ]
     },
     "execution_count": 70,
     "metadata": {},
     "output_type": "execute_result"
    }
   ],
   "source": [
    "format(Vector([1, 1, 1]), 'h') # doctest:+ELLIPSIS"
   ]
  },
  {
   "cell_type": "code",
   "execution_count": 92,
   "metadata": {},
   "outputs": [
    {
     "name": "stdout",
     "output_type": "stream",
     "text": [
      "debug [3.4641016151377544] [0.9553166181245093, 0.7853981633974483]\n"
     ]
    },
    {
     "data": {
      "text/plain": [
       "'<3.464, 0.955, 0.785>'"
      ]
     },
     "execution_count": 92,
     "metadata": {},
     "output_type": "execute_result"
    }
   ],
   "source": [
    "format(Vector([2, 2, 2]), '.3fh')"
   ]
  },
  {
   "cell_type": "code",
   "execution_count": 72,
   "metadata": {},
   "outputs": [
    {
     "data": {
      "text/plain": [
       "'<0.00000, 0.00000, 0.00000>'"
      ]
     },
     "execution_count": 72,
     "metadata": {},
     "output_type": "execute_result"
    }
   ],
   "source": [
    "format(Vector([0, 0, 0]), '.5fh') "
   ]
  },
  {
   "cell_type": "code",
   "execution_count": 73,
   "metadata": {},
   "outputs": [
    {
     "data": {
      "text/plain": [
       "'<2.0, 2.0943951023931957, 2.186276035465284, 3.9269908169872414>'"
      ]
     },
     "execution_count": 73,
     "metadata": {},
     "output_type": "execute_result"
    }
   ],
   "source": [
    "format(Vector([-1, -1, -1, -1]), 'h') # doctest:+ELLIPSIS"
   ]
  }
 ],
 "metadata": {
  "kernelspec": {
   "display_name": "Python 3",
   "language": "python",
   "name": "python3"
  },
  "language_info": {
   "codemirror_mode": {
    "name": "ipython",
    "version": 3
   },
   "file_extension": ".py",
   "mimetype": "text/x-python",
   "name": "python",
   "nbconvert_exporter": "python",
   "pygments_lexer": "ipython3",
   "version": "3.6.7"
  }
 },
 "nbformat": 4,
 "nbformat_minor": 2
}
