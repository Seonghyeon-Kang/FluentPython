{
 "cells": [
  {
   "cell_type": "markdown",
   "metadata": {},
   "source": [
    "## 8. 객체 참조, 가변성, 재활용\n",
    "### 8.1 변수는 상자가 아니다\n",
    "[그림 8-1]을 보면 파이썬에서 상자 비유는 잘못된 반면, 포스트잇은 변수가 실제 작동하는 방식을 잘 보여주고 있다. <p><img src=\"Figure8-1.png\"></p>"
   ]
  },
  {
   "cell_type": "code",
   "execution_count": 1,
   "metadata": {},
   "outputs": [
    {
     "name": "stdout",
     "output_type": "stream",
     "text": [
      "[1, 2, 3, 4]\n"
     ]
    }
   ],
   "source": [
    "\"\"\" [예제 8-1] 사본이 아니라 동일한 리스트를 참조하는 변수 a와 b \"\"\"\n",
    "a = [1,2,3]\n",
    "b = a\n",
    "a.append(4)\n",
    "print(b)"
   ]
  },
  {
   "cell_type": "code",
   "execution_count": 2,
   "metadata": {},
   "outputs": [
    {
     "name": "stdout",
     "output_type": "stream",
     "text": [
      "Gizmo id: 140618640191896\n"
     ]
    }
   ],
   "source": [
    "\"\"\" [예제 8-2] 객체가 생성된 후에야 변수가 객체에 할당된다. \"\"\"\n",
    "class Gizmo:\n",
    "    def __init__(self):\n",
    "        print('Gizmo id: {:d}'.format(id(self)))\n",
    "\n",
    "x = Gizmo()"
   ]
  },
  {
   "cell_type": "code",
   "execution_count": 3,
   "metadata": {},
   "outputs": [
    {
     "name": "stdout",
     "output_type": "stream",
     "text": [
      "Gizmo id: 140618640551888\n"
     ]
    },
    {
     "ename": "TypeError",
     "evalue": "unsupported operand type(s) for *: 'Gizmo' and 'int'",
     "output_type": "error",
     "traceback": [
      "\u001b[0;31m---------------------------------------------------------------------------\u001b[0m",
      "\u001b[0;31mTypeError\u001b[0m                                 Traceback (most recent call last)",
      "\u001b[0;32m<ipython-input-3-2847569b1328>\u001b[0m in \u001b[0;36m<module>\u001b[0;34m\u001b[0m\n\u001b[0;32m----> 1\u001b[0;31m \u001b[0my\u001b[0m \u001b[0;34m=\u001b[0m \u001b[0mGizmo\u001b[0m\u001b[0;34m(\u001b[0m\u001b[0;34m)\u001b[0m \u001b[0;34m*\u001b[0m \u001b[0;36m10\u001b[0m \u001b[0;31m# 객체에 숫자를 곱하면 예외가 생성된다.\u001b[0m\u001b[0;34m\u001b[0m\u001b[0m\n\u001b[0m\u001b[1;32m      2\u001b[0m                  \u001b[0;31m# 위와 다른 id를 볼 때 객체가 변수보다 먼저 생성됨을 알 수 있다.\u001b[0m\u001b[0;34m\u001b[0m\u001b[0;34m\u001b[0m\u001b[0m\n",
      "\u001b[0;31mTypeError\u001b[0m: unsupported operand type(s) for *: 'Gizmo' and 'int'"
     ]
    }
   ],
   "source": [
    "y = Gizmo() * 10 # 객체에 숫자를 곱하면 예외가 생성된다. \n",
    "                 # 위와 다른 id를 볼 때 객체가 변수보다 먼저 생성됨을 알 수 있다.\n",
    "                 # 변수를 먼저 선언하고 값을 대입하는 절차적 언어와 차이점"
   ]
  },
  {
   "cell_type": "code",
   "execution_count": 4,
   "metadata": {},
   "outputs": [
    {
     "data": {
      "text/plain": [
       "['Gizmo',\n",
       " 'In',\n",
       " 'Out',\n",
       " '_',\n",
       " '__',\n",
       " '___',\n",
       " '__builtin__',\n",
       " '__builtins__',\n",
       " '__doc__',\n",
       " '__loader__',\n",
       " '__name__',\n",
       " '__package__',\n",
       " '__spec__',\n",
       " '_dh',\n",
       " '_i',\n",
       " '_i1',\n",
       " '_i2',\n",
       " '_i3',\n",
       " '_i4',\n",
       " '_ih',\n",
       " '_ii',\n",
       " '_iii',\n",
       " '_oh',\n",
       " 'a',\n",
       " 'b',\n",
       " 'exit',\n",
       " 'get_ipython',\n",
       " 'quit',\n",
       " 'x']"
      ]
     },
     "execution_count": 4,
     "metadata": {},
     "output_type": "execute_result"
    }
   ],
   "source": [
    "dir() # 할당문의 오른쪽이 실행되는 동안 예외가 발생했기 때문에 변수 y는 생성되지 않는다."
   ]
  },
  {
   "cell_type": "markdown",
   "metadata": {},
   "source": [
    "### 8.2 정체성, 동질성, 별명\n",
    "모든 객체는 정체성, 자료형, 값을 가지고 있다. 객체의 정체성은 일단 생성한 후에는 결코 변경되지 않는다. 정체성은 메모리 내의 객체 주소라고 생각할 수 있다. is 연산자는 두 객체의 정체성을 비교한다. id( ) 함수는 정체성을 나타내는 정수를 반환한다.\n",
    "#### 8.2.1 == 연산자와 is 연산자 간의 선택\n",
    "== 연산자는 객체의 값(동치성)을 비교하는 반면, is 연산자는 객체의 정체성을 비교한다. a == b는 a.\\_\\_eq\\_\\_(b)를 줄인 구문이다. \n",
    "```\n",
    "x in None\n",
    "x in not None\n",
    "```\n",
    "#### 8.2.2 튜플의 상대적 불변성\n",
    "리스트, 딕셔너리, 집합 등 대부분의 파이썬 컬렉션과 마찬가지로 튜플도 객체에 대한 참조를 담는다. <sub>반면 str, bytes, array.array 같은 단일형 시퉌스는 참조 대신 문자, 바이트, 숫자 등의 데이터를 물리적으로 연속된 메모리에 저장한다.</sub> 참조된 항목이 가변형이면 튜플 자체는 불변형이지만 참조된 항목은 변할 수 있다. 즉 참조된 객체까지 불변성을 가지는 것은 아니다."
   ]
  },
  {
   "cell_type": "code",
   "execution_count": 5,
   "metadata": {},
   "outputs": [
    {
     "name": "stdout",
     "output_type": "stream",
     "text": [
      "True\n",
      "140618640030984\n",
      "(1, 2, [30, 40, 99])\n",
      "140618640030984\n",
      "False\n"
     ]
    }
   ],
   "source": [
    "\"\"\" [예제 8-5] 초기 t1, t2는 동일하지만, t1 튜플안에 있는 가변 항목을 변경하면 달라진다. \"\"\"\n",
    "\n",
    "t1 = (1, 2, [30, 40])\n",
    "t2 = (1, 2, [30, 40])\n",
    "print(t1 == t2)\n",
    "\n",
    "print(id(t1[-1])) # 마지막 엘리먼트의 id 출력\n",
    "t1[-1].append(99) # 마지막 엘리먼트에 99 추가\n",
    "print(t1)\n",
    "\n",
    "print(id(t1[-1])) # 마지막 엘리먼트의 id(참조)는 동일하지만 \n",
    "print(t1 == t2)   # 99가 추가되었기 때문에 내용은 달라졌다."
   ]
  },
  {
   "cell_type": "markdown",
   "metadata": {},
   "source": [
    "### 8.3 기본 복사는 얕은 복사\n",
    "리스트나 대부분의 내장 가변 컬렉션을 복사하는 가장 손쉬운 방법은 그 자료형 자체의 내장 생성자를 사용하는 것이다. 생성자나 [:]를 사용하면 얕은 사본을 생성한다."
   ]
  },
  {
   "cell_type": "code",
   "execution_count": 6,
   "metadata": {},
   "outputs": [
    {
     "name": "stdout",
     "output_type": "stream",
     "text": [
      "[3, [55, 44], (7, 8, 9)]\n",
      "[3, [55, 44], (7, 8, 9)]\n",
      "True\n",
      "False\n"
     ]
    }
   ],
   "source": [
    "l1 = [3, [55, 44], (7, 8, 9)]\n",
    "l2 = list(l1) # 생성자나 :를 사용하면 얕은 사본을 생성한다.\n",
    "              # l2 = l1[:]도 동일한 결과이다\n",
    "              # l2 = l1는 결과가 모두 True로 다르다\n",
    "print(l1)\n",
    "print(l2)\n",
    "\n",
    "print(l1 == l2)\n",
    "print(l1 is l2)"
   ]
  },
  {
   "cell_type": "code",
   "execution_count": 7,
   "metadata": {},
   "outputs": [
    {
     "name": "stdout",
     "output_type": "stream",
     "text": [
      "l1: [3, [44], (7, 8, 9), 100]\n",
      "l2: [3, [44], (7, 8, 9)]\n",
      "l1: [3, [44, 33, 22], (7, 8, 9), 100]\n",
      "l2: [3, [44, 33, 22], (7, 8, 9, 10, 11)]\n"
     ]
    }
   ],
   "source": [
    "\"\"\" [예제 8-6] 다른 리스트를 담고 있는 리스트의 얕은 복사 \"\"\"\n",
    "l1 = [3, [55, 44], (7, 8, 9)]\n",
    "l2 = list(l1) # 얕은 복사\n",
    "l1.append(100)\n",
    "l1[1].remove(55)\n",
    "\n",
    "print('l1:', l1)\n",
    "print('l2:', l2)\n",
    "\n",
    "l1[1] += [33, 22] # 리스트의 += 연산자는 기존 리스트를 변경한다.\n",
    "l2[2] += (10, 11) # 튜플의 += 연산자는 새로운 튜플을 만들어서 다시 바인딩 한다. (아래 그림 참고)\n",
    "\n",
    "print('l1:', l1)\n",
    "print('l2:', l2)"
   ]
  },
  {
   "cell_type": "markdown",
   "metadata": {},
   "source": [
    "<p><img src=\"Figure8-4.png\"></p>"
   ]
  },
  {
   "cell_type": "markdown",
   "metadata": {},
   "source": [
    "#### 8.3.1 객체의 깊은 복사와 얕은 복사\n",
    "얕게 복사한다고 해서 늘 문제가 생기는 것은 아니지만, 내포된 객체의 참조를 공유하지 않도록 깊은 복사가 필요할 수 있다. copy 모듈이 제공하는 deepcopy( ) 함수는 깊은 복사를, copy( ) 함수는 얕은 복사를 지원한다."
   ]
  },
  {
   "cell_type": "code",
   "execution_count": 1,
   "metadata": {},
   "outputs": [
    {
     "name": "stdout",
     "output_type": "stream",
     "text": [
      "140298263487040 140298263487096 140298263487432\n",
      "['Alice', 'Clarie', 'David']\n"
     ]
    }
   ],
   "source": [
    "\"\"\" [예제 8-8] 승객을 승차 및 하차하는 버스 \"\"\"\n",
    "class Bus:\n",
    "    def __init__(self, passengers=None):\n",
    "        if passengers is None:\n",
    "            self.passengers = []\n",
    "        else:\n",
    "            self.passengers = list(passengers)\n",
    "            \n",
    "    def pick(self, name):\n",
    "        self.passengers.append(name)\n",
    "    \n",
    "    def drop(self, name):\n",
    "        self.passengers.remove(name)\n",
    "        \n",
    "import copy\n",
    "bus1 = Bus(['Alice', 'Bill', 'Clarie', 'David']) \n",
    "bus2 = copy.copy(bus1)     # 얕은 복사\n",
    "bus3 = copy.deepcopy(bus1) # 깊은 복사\n",
    "\n",
    "print(id(bus1), id(bus2), id(bus3)) # 얕은 복사와 깊은 복사 모두 객체의 id는 다르다\n",
    "bus1.drop('Bill')\n",
    "print(bus2.passengers)              # 얕은 복사는 참조가 같기 때문에 bus1의 변경이 bus2에 영향을 준다"
   ]
  },
  {
   "cell_type": "code",
   "execution_count": 9,
   "metadata": {},
   "outputs": [
    {
     "name": "stdout",
     "output_type": "stream",
     "text": [
      "140618639679752 140618639679752 140618640181832\n",
      "['Alice', 'Bill', 'Clarie', 'David']\n"
     ]
    }
   ],
   "source": [
    "print(id(bus1.passengers), id(bus2.passengers), id(bus3.passengers)) # 얕은 복사는 리스트의 참조가 같고 깊은 복사는 참조가 다르다\n",
    "print(bus3.passengers) # 때문에 bus3은 bus1의 변화에 영향을 받지 않는다."
   ]
  },
  {
   "cell_type": "code",
   "execution_count": 6,
   "metadata": {},
   "outputs": [
    {
     "name": "stdout",
     "output_type": "stream",
     "text": [
      "140298262982984\n",
      "140298262982984\n",
      "140298263375752\n"
     ]
    }
   ],
   "source": [
    "print(id(bus1.__dict__['passengers'])) # Attribute를 저장하는 __dict__ 의 키값에 \n",
    "print(id(bus2.__dict__['passengers'])) # 얕은 복사는 동일한 id\n",
    "print(id(bus3.__dict__['passengers'])) # 깊은 복사는 새로운 id가 할당된 것을 확인할 수 있다."
   ]
  },
  {
   "cell_type": "markdown",
   "metadata": {},
   "source": [
    "일반적으로 깊은 사본을 만드는 일은 간단하지 않다. 특히 객체 안에 순환 참조가 있으면 단순한 알고리즘은 무한 루프에 빠질 수 있다. 또한 복사하면 안 되는 외부 리소스나 싱글턴을 객체가 참조하는 경우도 깊은 복사의 경우 문제일 수 있다. 따라서 \\__copy__()와 \\__deepcopy__() 특별 메소드를 구현해서 copy(), deepcopy()의 동작을 제어할 수 있다. "
   ]
  },
  {
   "cell_type": "code",
   "execution_count": 7,
   "metadata": {},
   "outputs": [
    {
     "name": "stdout",
     "output_type": "stream",
     "text": [
      "[10, 20, [[...], 30]]\n",
      "[10, 20, [[...], 30]]\n"
     ]
    },
    {
     "data": {
      "text/plain": [
       "[10, 20, [[...], 30]]"
      ]
     },
     "execution_count": 7,
     "metadata": {},
     "output_type": "execute_result"
    }
   ],
   "source": [
    "\"\"\" [예제 8-10] 순환 참조를 깊에 복사하는 예 \"\"\"\n",
    "\n",
    "a = [10, 20]\n",
    "b = [a, 30]\n",
    "\n",
    "a.append(b)\n",
    "\n",
    "print(a)\n",
    "\n",
    "from copy import deepcopy\n",
    "c = deepcopy(a)\n",
    "print(c)\n",
    "\n",
    "c[2][0][2][0][2][0][2][0] #...."
   ]
  },
  {
   "cell_type": "markdown",
   "metadata": {},
   "source": [
    "#### 8.4 참조로서의 함수 매개변수\n",
    "파이썬은 Call by sharing, 즉 사본으로 매개변수를 전달한다. 때문에 함수는 인수로 전달받은 모든 가변객체를 변경할 수 있지만 객체의 정체성 자체는 변경할 수 없다. 즉, 어떤 객체를 다른 객체로 바꿀 수는 없다. "
   ]
  },
  {
   "cell_type": "code",
   "execution_count": 11,
   "metadata": {},
   "outputs": [
    {
     "name": "stdout",
     "output_type": "stream",
     "text": [
      "3\n",
      "1 2\n"
     ]
    }
   ],
   "source": [
    "\"\"\" [예제 8-11] 함수는 전달받은 가변 객체를 수정할 수 있다. \"\"\"\n",
    "def f(a, b):\n",
    "    a += b\n",
    "    return a \n",
    "\n",
    "x = 1\n",
    "y = 2\n",
    "print(f(1, 2))\n",
    "print(x, y) # x가 3으로 바뀌지 않았다."
   ]
  },
  {
   "cell_type": "code",
   "execution_count": 12,
   "metadata": {},
   "outputs": [
    {
     "name": "stdout",
     "output_type": "stream",
     "text": [
      "[1, 2, 3, 4]\n",
      "[1, 2, 3, 4] [3, 4]\n"
     ]
    }
   ],
   "source": [
    "a = [1, 2]\n",
    "b = [3, 4]\n",
    "print(f(a, b))\n",
    "print(a, b) # a의 elements가 추가되었다. 리스트는 변경되었다."
   ]
  },
  {
   "cell_type": "code",
   "execution_count": 13,
   "metadata": {},
   "outputs": [
    {
     "name": "stdout",
     "output_type": "stream",
     "text": [
      "(1, 2, 3, 4)\n",
      "(1, 2) (3, 4)\n"
     ]
    }
   ],
   "source": [
    "t = (1, 2)\n",
    "u = (3, 4)\n",
    "print(f(t, u))\n",
    "print(t, u) # 튜플은 변경되지 않았다."
   ]
  },
  {
   "cell_type": "markdown",
   "metadata": {},
   "source": [
    "#### 8.4.1 가변형 매개변수 기본값으로 사용하기 : 좋지 않은 생각\n",
    "기본값을 가진 선택적 인수는 파이썬 함수 정의에서 아주 좋은 기능으로 하위 호환성을 유지하며 API를 개선할 수 있게 해준다. 그러나 매개변수 기본값으로 가변 객체를 사용하는 것은 피해야한다. "
   ]
  },
  {
   "cell_type": "code",
   "execution_count": 14,
   "metadata": {},
   "outputs": [
    {
     "name": "stdout",
     "output_type": "stream",
     "text": [
      "['Carrie']\n"
     ]
    }
   ],
   "source": [
    "\"\"\" [예제 8-12] 가변형이 기본값이 될 때의 위험성을 보여주는 간단한 클래스 \"\"\"\n",
    "class HauntedBus:\n",
    "    \"\"\" 유령 승객이 출몰하는 버스 모델 \"\"\"\n",
    "    \n",
    "    def __init__(self, passengers=[]): # 인수를 전달하지 않는 경우 이 매개변수는 기본값인 빈 리스트에 바인딩 된다. \n",
    "        self.passengers = passengers   # passengers 인수를 전달하지 않는 경우 self.passengers를 기본값인 빈 리스트에 대한 별명으로 설정한다.  \n",
    "        \n",
    "    def pick(self, name):\n",
    "        self.passengers.append(name) # 함수 객체 속성인 가변형 기본 리스트를 변경하게 된다. \n",
    "        \n",
    "    def drop(self, name):\n",
    "        self.passengers.remove(name) \n",
    "        \n",
    "bus = HauntedBus()\n",
    "bus.pick('Carrie')\n",
    "print(bus.passengers)"
   ]
  },
  {
   "cell_type": "code",
   "execution_count": 15,
   "metadata": {},
   "outputs": [
    {
     "name": "stdout",
     "output_type": "stream",
     "text": [
      "['Carrie']\n"
     ]
    }
   ],
   "source": [
    "bus1 = HauntedBus()\n",
    "print(bus.passengers)"
   ]
  },
  {
   "cell_type": "code",
   "execution_count": 16,
   "metadata": {},
   "outputs": [
    {
     "name": "stdout",
     "output_type": "stream",
     "text": [
      "['Carrie']\n",
      "['Carrie', 'Dive']\n"
     ]
    }
   ],
   "source": [
    "bus2 = HauntedBus()\n",
    "print(bus2.passengers)\n",
    "bus2.pick('Dive')\n",
    "print(bus2.passengers)"
   ]
  },
  {
   "cell_type": "code",
   "execution_count": 17,
   "metadata": {},
   "outputs": [
    {
     "data": {
      "text/plain": [
       "True"
      ]
     },
     "execution_count": 17,
     "metadata": {},
     "output_type": "execute_result"
    }
   ],
   "source": [
    "bus1.passengers is bus2.passengers # bus1과 bus2가 동일 리스트를 참조한다."
   ]
  },
  {
   "cell_type": "code",
   "execution_count": 18,
   "metadata": {},
   "outputs": [
    {
     "name": "stdout",
     "output_type": "stream",
     "text": [
      "(['Carrie', 'Dive'],)\n",
      "True\n"
     ]
    }
   ],
   "source": [
    "print(HauntedBus.__init__.__defaults__) # 유령 학생이 있음\n",
    "print(HauntedBus.__init__.__defaults__[0] is bus1.passengers)"
   ]
  },
  {
   "cell_type": "markdown",
   "metadata": {},
   "source": [
    "#### 8.4.2 가변 매개변수에 대한 방어적 프로그래밍\n",
    "TwilightBus<sup>불가사의한 버스</sup> 클래스는 인터페이스 디자인에서 가장 중요한 '최소 놀람의 법칙(?)<sup>Princliple of least astonishment</sup>를 어긴다. 학생이 버스에서 내린다고 해서 그 학생이 농구팀 출전 명단에서 빠진다는 것은 분명 놀라운 일이다."
   ]
  },
  {
   "cell_type": "code",
   "execution_count": 19,
   "metadata": {},
   "outputs": [
    {
     "name": "stdout",
     "output_type": "stream",
     "text": [
      "['Sue', 'Maya', 'Diana']\n"
     ]
    }
   ],
   "source": [
    "\"\"\" [예제 8-15] 받은 인수를 변경하는 위험성을 보여주는 간단한 클래스 \"\"\"\n",
    "\n",
    "class TwilightBus:\n",
    "    \"\"\" 승객이 사라지게 만드는 버스 모델 \"\"\"\n",
    "    \n",
    "    def __init__(self, passengers=None):\n",
    "        if passengers is None:\n",
    "            self.passengers = []\n",
    "        else:\n",
    "            self.passengers = passengers # 이 할당문에 의해 self.passengers는 passenger의 변경이 된다.\n",
    "            #self.passengers = list(passengers) # 이렇게 수정하면 문제가 없어진다.\n",
    "            \n",
    "    def pick(self, name):\n",
    "        self.passengers.append(name)\n",
    "        \n",
    "    def drop(self, name):\n",
    "        self.passengers.remove(name)\n",
    "        \n",
    "if __name__ == '__main__':\n",
    "    basketball_team = ['Sue', 'Tina', 'Maya', 'Diana', 'Pat']\n",
    "    bus = TwilightBus(basketball_team)\n",
    "    bus.drop('Tina')\n",
    "    bus.drop('Pat')\n",
    "    print(basketball_team)"
   ]
  },
  {
   "cell_type": "markdown",
   "metadata": {},
   "source": [
    "### 8.5 del과 가비지 컬렉션\n",
    "del 명령은 객체의 참조를 제거하는 것이지 객체를 제거하는 것이 아니다. del 명령의 결과로 객체가 가비지 컬렉트될 수 있지만, 제거된 변수가 객체를 참조하는 최후의 변수거나 객체에 도달할 수 없을 때만 가비지 컬렉트된다. 변수를 새로운 객체에 바인딩하는 경우에도 이전 객체에 대한 참조 카운트를 0으로 만들어 객체가 제거될 수 있다. CPython의 경우 가비지 컬렉션은 주로 참조 카운트<sup>reference count</sup>에 기반한다. <b>refcount</b>가 0이 되자마자 CPython이 객체의 \\_\\_del\\_\\_( ) 메서드를 호출하고 객체에 할당되어 있는 메모리를 해제함으로써 객체가 제거된다. \n",
    "\n",
    "※ 주의 : \\_\\_del\\_\\_( )이라는 특별 메서드가 있기는 하지만, 객체가 제거되도록 만들지 않으며, 사용자 코드에서 직접 호출하면 안 된다. \\_\\_del\\_\\_( )은 객체가 제거되기 직전에 외부 리소스를 해제할 기회를 주기 위해 파이썬 인터프리터가 호출된다. 사용자 코드에서 \\_\\_del\\_\\_( )을 구현해야 하는 경우는 거의 없지만, 종종 파이썬 초보자들이 타당한 이유 없이 이 메서드에 시간을 쏟는 경우가 있다. \\_\\_del__( )은 제대로 사용하기 다소 어렵다. 파이썬 언어 참조 문서의 '데이터 모델' 장에서 \\_\\_del__( ) 특별 메스드 문서( http://bit.ly/1GsWPac )를 참조하라.\n",
    "\n",
    "객체가 소멸될 때를 보여주기 위해 [예제 8-16]에서는 weakref.finalize( )를 사용해서 객체가 소멸될 때 호출되는 콜백 함수를 등록한다."
   ]
  },
  {
   "cell_type": "code",
   "execution_count": 20,
   "metadata": {},
   "outputs": [
    {
     "name": "stdout",
     "output_type": "stream",
     "text": [
      "True\n",
      "True\n",
      "Gone with the wind ...\n",
      "False\n"
     ]
    }
   ],
   "source": [
    "\"\"\" [예제 8-16] 가리키는 참조가 없을 때 객체가 소멸되는 것을 지켜보기 \"\"\"\n",
    "import weakref\n",
    "s1 = {1,2,3}\n",
    "s2 = s1 # s1과 s2는 동일한 집합 {1,2,3}을 가리키는 별명이다.\n",
    "\n",
    "def bye(): # 이 함수는 제거될 객체의 메서드에 바인딩되거나 제거될 객체를 참조하면 안 된다.\n",
    "    print('Gone with the wind ...')\n",
    "    \n",
    "ender = weakref.finalize(s1, bye) # s1이 가리키는 객체에 대해 bye() 콜백을 등록한다. 즉, s1이 사라질 때 bye()가 호출된다.\n",
    "print(ender.alive) # finalize 객체가 호출되기 전의 alive 속성은 참이다.\n",
    "\n",
    "del s1 # 앞에서 설명한 대로 del은 객체가 아니라 객체에 대한 참조를 제거한다.\n",
    "print(ender.alive)\n",
    "\n",
    "s2 = 'spam' # 마지막 참조인 s2를 다른 객체에 바인딩하면 {1,2,3} 튜플에 도달할 수 없게 된다. 튜플이 제거되고 bye() 콜백이 호출되고,\n",
    "            # ender.alive는 거짓이 된다. \n",
    "print(ender.alive)"
   ]
  },
  {
   "cell_type": "markdown",
   "metadata": {},
   "source": [
    "### 8.6 약한 참조\n",
    "객체 참조 카운트가 0이 되면 가비지 컬렉터는 해당 객체를 제거한다. 그러나 불필요하게 객체를 유지시키지 않으면서 객체를 참조할 수 있으면 도움이 되는 경우가 종종 있다. 캐시가 대표적인 경우이다. 약한 참조는 참조 카운트를 증가시키지 않고 객체를 참조한다. 참조의 대상인 객체를 참조 대상<sup>referent</sup>이하고 한다. 따라서 약한 참조는 참조 대상이 가비지 컬렉트되는 것을 방지하지 않는다고 말할 수 있다.\n",
    "\n",
    "약한 참조는 캐시 애플리케이션에서 유용하게 사용된다. 캐시가 참조하고 있다고 해서 캐시된 객체가 계속 남아있기 원치 않기 때문이다.\n",
    "\n",
    "[예제 8-17]은 weakref.ref 객체를 호출해서 참조 대상에 접근하는 방법을 보여준다. 객체가 살아 있으면 약한 참조 호출은 참조된 객체를 반환하고, 그렇지 않으면 None을 반환한다."
   ]
  },
  {
   "cell_type": "code",
   "execution_count": 21,
   "metadata": {},
   "outputs": [
    {
     "name": "stdout",
     "output_type": "stream",
     "text": [
      "<weakref at 0x7fe45411bae8; to 'set' at 0x7fe45c8514a8>\n",
      "{0, 1}\n",
      "None\n",
      "True\n"
     ]
    }
   ],
   "source": [
    "\"\"\" [예제 8-17] 약한 참조는 콜러블이다. 객체가 살아 있으면 참조된 객체를 반환하고, 그렇지 않으면 None을 반환한다. \"\"\"\n",
    "\n",
    "import weakref\n",
    "a_set = {0, 1}\n",
    "wref = weakref.ref(a_set)\n",
    "print(wref)\n",
    "print(wref())\n",
    "\n",
    "a_set = {2, 3, 4} # {0, 1}에 대한 참조가 모두 제거됨 \n",
    "print(wref())\n",
    "\n",
    "print(wref() is None)\n",
    "\n",
    "# ※ 파이썬 3.6에서는 컨솔에서는 책처럼 구현되지 않음. 암묵적인 '_' 변수 할당이 사라진듯 함"
   ]
  },
  {
   "cell_type": "markdown",
   "metadata": {},
   "source": [
    "#### 8.6.1 WeakValueDictionary 촌극\n",
    "위 예제에서는 약한 참조 개념을 익히기 위해 weakref.ref 객체를 직접 만들었지만 실제로 대부분의 파이썬 프로그램은 weakref 컬렉션(WeakKeyDictionary, WeakValueDictionary, WeakSet, finalize( ))을 쓴다. 이 중 WeakValueDictionary 클래스는 객체에 대한 약한 참조를 값으로 가지는 가변 매핑을 구현한다. 참조된 객체가 프로그램 다른 곳에서 가비지 컬렉트되면 해당 키도 WeakValueDictionary에서 자동으로 제거된다. "
   ]
  },
  {
   "cell_type": "code",
   "execution_count": 22,
   "metadata": {},
   "outputs": [],
   "source": [
    "\"\"\" [예제 8-18]은 치즈의 종류를 나타내는 간단한 클래스를 구현한다. \"\"\"\n",
    "class Cheese:\n",
    "    \n",
    "    def __init__(self, kind):\n",
    "        self.kind = kind\n",
    "        \n",
    "    def __repr__(self):\n",
    "        return 'Cheese{!r}'.format(self.kind)"
   ]
  },
  {
   "cell_type": "code",
   "execution_count": 23,
   "metadata": {},
   "outputs": [
    {
     "data": {
      "text/plain": [
       "['Brie', 'Parmesan', 'Red Leicester', 'Tilsit']"
      ]
     },
     "execution_count": 23,
     "metadata": {},
     "output_type": "execute_result"
    }
   ],
   "source": [
    "import weakref\n",
    "stock = weakref.WeakValueDictionary() # stock은 WeakValueDictionary의 객체이다.\n",
    "catalog = [Cheese('Red Leicester'),   \n",
    "           Cheese('Tilsit'),\n",
    "           Cheese('Brie'),\n",
    "           Cheese('Parmesan')]\n",
    "\n",
    "for cheese in catalog:\n",
    "    stock[cheese.kind] = cheese # stock은 치즈명을 catalog에 있는 Cheese 객체에 대한 약한 참조로 매핑한다. \n",
    "    \n",
    "sorted(stock.keys()) # 모든 치즈명이 있다."
   ]
  },
  {
   "cell_type": "code",
   "execution_count": 24,
   "metadata": {},
   "outputs": [
    {
     "data": {
      "text/plain": [
       "['Parmesan']"
      ]
     },
     "execution_count": 5,
     "metadata": {},
     "output_type": "execute_result"
    }
   ],
   "source": [
    "del catalog\n",
    "sorted(stock.keys()) # catalog를 제거한 후 대부분의 치즈가 사라졌다. 그런데 하나가 남은 이유는?\n",
    "                     # for문 내부 cheese는 전역변수이므로 명시적으로 제거하기 전에는 사라지지 않는다."
   ]
  },
  {
   "cell_type": "code",
   "execution_count": 25,
   "metadata": {},
   "outputs": [
    {
     "data": {
      "text/plain": [
       "[]"
      ]
     },
     "execution_count": 25,
     "metadata": {},
     "output_type": "execute_result"
    }
   ],
   "source": [
    "del cheese\n",
    "sorted(stock.keys())"
   ]
  },
  {
   "cell_type": "markdown",
   "metadata": {},
   "source": [
    "참고 내용\n",
    "\n",
    "<li> WeakKeyDictionary는 애플리케이션의 다른 부분에서 소유하고 있는 객체에 속성을 추가하지 않고 추가적인 데이터를 연결할 수 있다. 이 클래스는 속성 접근을 오버라이드하는 객체(디스크립터)에 특히 유용하다.</li>\n",
    "<li> WeakSet는 어떤 요소에 대한 참조가 더 이상 존재하지 않으면 해당 요소가 제거된다. 자신의 객체를 모두 알고 있는 클래스를 만들어야 한다면 각 객체에 대한 참조를 모두 WeakSet형의 클래스 속성에 저장하는 것이 좋다. 그렇게 하지 않고 일반 집합을 사용하면 이 클래스로 생성한 모든 객체는 가비지 컬렉트되지 않을 것이다.</li>"
   ]
  },
  {
   "cell_type": "markdown",
   "metadata": {},
   "source": [
    "#### 8.6.2 약한 참조의 한계\n",
    "모든 파이썬 객체가 약한 참조의 대상이 될 수는 없다. 기본적인 list와 dict 객체는 약한 참조대상이 될 수 없지만, 이 클래스들의 서브 클래스는 이 문제를 다음 코드처럼 쉽게 해결할 수 있다."
   ]
  },
  {
   "cell_type": "code",
   "execution_count": 28,
   "metadata": {},
   "outputs": [
    {
     "ename": "TypeError",
     "evalue": "cannot create weak reference to 'list' object",
     "output_type": "error",
     "traceback": [
      "\u001b[0;31m---------------------------------------------------------------------------\u001b[0m",
      "\u001b[0;31mTypeError\u001b[0m                                 Traceback (most recent call last)",
      "\u001b[0;32m<ipython-input-28-5e28dea6b9c9>\u001b[0m in \u001b[0;36m<module>\u001b[0;34m\u001b[0m\n\u001b[1;32m      9\u001b[0m \u001b[0;34m\u001b[0m\u001b[0m\n\u001b[1;32m     10\u001b[0m \u001b[0ma_reallist\u001b[0m \u001b[0;34m=\u001b[0m \u001b[0;34m[\u001b[0m\u001b[0;36m1\u001b[0m\u001b[0;34m,\u001b[0m\u001b[0;36m2\u001b[0m\u001b[0;34m,\u001b[0m\u001b[0;36m3\u001b[0m\u001b[0;34m]\u001b[0m\u001b[0;34m\u001b[0m\u001b[0m\n\u001b[0;32m---> 11\u001b[0;31m \u001b[0mwref_to_a_reallist\u001b[0m \u001b[0;34m=\u001b[0m \u001b[0mweakref\u001b[0m\u001b[0;34m.\u001b[0m\u001b[0mref\u001b[0m\u001b[0;34m(\u001b[0m\u001b[0ma_reallist\u001b[0m\u001b[0;34m)\u001b[0m\u001b[0;34m\u001b[0m\u001b[0m\n\u001b[0m",
      "\u001b[0;31mTypeError\u001b[0m: cannot create weak reference to 'list' object"
     ]
    }
   ],
   "source": [
    "class MyList(list):\n",
    "    \"\"\"약한 참조의 대상이 될 수 있는 list의 서브 클래스\"\"\"\n",
    "    \n",
    "a_list = MyList(range(10))\n",
    "\n",
    "# a_list는 약한 참조의 대상이 될 수 있다.\n",
    "wref_to_a_list = weakref.ref(a_list)\n",
    "wref_to_a_list\n",
    "\n",
    "a_reallist = [1,2,3]\n",
    "wref_to_a_reallist = weakref.ref(a_reallist)"
   ]
  },
  {
   "cell_type": "markdown",
   "metadata": {},
   "source": [
    "### 8.7 파이썬의 특이한 <b>불변형</b> 처리법\n",
    "튜플 t에 대해 t[:]는 사본을 생성하지 않고 그 객체에 대한 참조를 반환한다. str, bytes, fronzenset 객체에서도 동일한 동작을 볼 수 있다. 이는 선의의 거짓말로써 메모리 사용량을 줄이고 인터프리터가 더 빨리 실행되게 하는 최적화 기법이다. 문자열 리터럴을 공유하는 최적화 기법은 특히 interning이라고 한다."
   ]
  },
  {
   "cell_type": "code",
   "execution_count": 33,
   "metadata": {},
   "outputs": [
    {
     "name": "stdout",
     "output_type": "stream",
     "text": [
      "True\n",
      "True\n",
      "False\n",
      "False\n",
      "False\n",
      "True\n"
     ]
    }
   ],
   "source": [
    "\"\"\" [예제 8-20] 다른 튜플로 생성한 튜플은 사실 동일한 튜플이다. \"\"\"\n",
    "t1 = (1, 2, 3)\n",
    "t2 = tuple(t1)\n",
    "print(t1 is t2) # 동일한 객체에 바인딩되어 있음\n",
    "\n",
    "t3 = t1[:]\n",
    "print(t3 is t1)\n",
    "\n",
    "l1 = [1, 2, 3]\n",
    "l2 = list(l1)\n",
    "print(l1 is l2) # 리스트 불변형이 아니므로 동일한 객체가 아님\n",
    "\n",
    "l3 = l1[:]\n",
    "print(l3 is l1)\n",
    "\n",
    "\"\"\" [예제 8-21] spring literal은 공유 객체를 생성하기도 한다. \"\"\"\n",
    "t1 = (1, 2, 3)\n",
    "t2 = (1, 2, 3)\n",
    "print(t1 is t2) \n",
    "\n",
    "s1 = 'ABC'\n",
    "s2 = 'ABC'\n",
    "print(s1 is s2) # 동일한 str을 참조한다."
   ]
  }
 ],
 "metadata": {
  "kernelspec": {
   "display_name": "Python 3",
   "language": "python",
   "name": "python3"
  },
  "language_info": {
   "codemirror_mode": {
    "name": "ipython",
    "version": 3
   },
   "file_extension": ".py",
   "mimetype": "text/x-python",
   "name": "python",
   "nbconvert_exporter": "python",
   "pygments_lexer": "ipython3",
   "version": "3.6.7"
  }
 },
 "nbformat": 4,
 "nbformat_minor": 2
}
