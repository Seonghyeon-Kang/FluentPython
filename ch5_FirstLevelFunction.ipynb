{
 "cells": [
  {
   "cell_type": "markdown",
   "metadata": {},
   "source": [
    "## 5. 일급 함수\n",
    "파이썬 함수는 일급 객체다. 프로그래밍 언어 이론가들은 다음과 같은 작업을 수행할 수 있는 프로그램 개체를 '일급 객체'로 정의한다.\n",
    "<li>런타임에 생성할 수 있다.</li>\n",
    "<li>데이터 구조체의 변수나 요소에 할당할 수 있다.</li>\n",
    "<li>함수 인수로 전달할 수 있다.</li>\n",
    "<li>함수 결과로 반환할 수 있다.</li>"
   ]
  },
  {
   "cell_type": "markdown",
   "metadata": {},
   "source": [
    "### 5.1 함수를 객체처럼 다루기\n"
   ]
  },
  {
   "cell_type": "code",
   "execution_count": 3,
   "metadata": {},
   "outputs": [
    {
     "name": "stdout",
     "output_type": "stream",
     "text": [
      "1405006117752879898543142606244511569936384000000000\n",
      "return n!\n",
      "<class 'function'>\n"
     ]
    }
   ],
   "source": [
    "\"\"\" [예제 5-1] 함수를 생성해서 테스트하고, 함수의 __doc__을 읽어서 자료형 확인하기 \"\"\"\n",
    "def factorial(n):\n",
    "    '''return n!'''\n",
    "    return 1 if n < 2 else n * factorial(n - 1)\n",
    "\n",
    "print(factorial(42))     # 지금 콘솔 세션에 있으므로, 함수를 '런타임'에 만들고 있다.\n",
    "print(factorial.__doc__) # __doc__은 함수 객체의 여러 속성 중 하나다.\n",
    "print(type(factorial))   # function 클래스의 객체임을 확인할 수 있다."
   ]
  },
  {
   "cell_type": "code",
   "execution_count": 4,
   "metadata": {},
   "outputs": [
    {
     "name": "stdout",
     "output_type": "stream",
     "text": [
      "<function factorial at 0x7f1de43c6840>\n",
      "<map object at 0x7f1de43dddd8>\n",
      "[1, 1, 2, 6, 24, 120, 720, 5040, 40320, 362880, 3628800]\n"
     ]
    }
   ],
   "source": [
    "\"\"\" [예제 5-2] 함수를 다른 이름으로 사용하고 함수의 인수로 전달하기 \"\"\"\n",
    "fact = factorial\n",
    "print(fact)\n",
    "print(map(factorial, range(11)))\n",
    "print(list(map(fact, range(11))))"
   ]
  },
  {
   "cell_type": "markdown",
   "metadata": {},
   "source": [
    "### 5.2 고위함수\n",
    "함수를 인수로 받거나, 함수를 결과로 반환하는 함수를 <b>고위 함수<sup>higher-order function</sup></b> 라고 한다. 대표적으로 map( ), list.sort( ), sorted( ) 등이 있다. ※ sorted( )는 key 인수로 함수를 전달받아 정렬할 각 항목에 적용한다. 인수를 하나 받는 함수는 모두 key 인수로 사용할 수 있다."
   ]
  },
  {
   "cell_type": "code",
   "execution_count": 5,
   "metadata": {},
   "outputs": [
    {
     "data": {
      "text/plain": [
       "['fig', 'apple', 'cherry', 'banana', 'raspberry', 'strawberry']"
      ]
     },
     "execution_count": 5,
     "metadata": {},
     "output_type": "execute_result"
    }
   ],
   "source": [
    "\"\"\" [예제 5-3] 단어 리스트를 길이에 따라 정렬하기 \"\"\"\n",
    "fruits = ['strawberry', 'fig', 'apple', 'cherry', 'raspberry', 'banana']\n",
    "sorted(fruits, key=len)"
   ]
  },
  {
   "cell_type": "code",
   "execution_count": 6,
   "metadata": {},
   "outputs": [
    {
     "data": {
      "text/plain": [
       "['apple', 'banana', 'cherry', 'fig', 'raspberry', 'strawberry']"
      ]
     },
     "execution_count": 6,
     "metadata": {},
     "output_type": "execute_result"
    }
   ],
   "source": [
    "\"\"\" [예제 5-4] 단어 리스트를 철자 역순으로 정렬하기 \"\"\"\n",
    "def reverse(word):\n",
    "    return word[::1]\n",
    "sorted(fruits, key=reverse)"
   ]
  },
  {
   "cell_type": "markdown",
   "metadata": {},
   "source": [
    "#### 5.2.1 map( ), filter( ), reduce( )의 대안\n",
    "동적인 인수에 함수를 호출해야 할 때는 fn(\\*args, \\*\\*keywords) 형태로 작성하거나, map( ), filter()  등 고위함수가 널리 알려져 있지만 지능형 리스트와 제너레이터 표현식이 소개된 후에는 중요성이 떨어졌다."
   ]
  },
  {
   "cell_type": "code",
   "execution_count": 7,
   "metadata": {},
   "outputs": [
    {
     "name": "stdout",
     "output_type": "stream",
     "text": [
      "[1, 1, 2, 6, 24, 120] [1, 1, 2, 6, 24, 120]\n",
      "[1, 6, 120] [1, 6, 120]\n"
     ]
    }
   ],
   "source": [
    "\"\"\" [예제 5-5] 팩토리얼 목록을 map()/filter()로 생성하는 방법과 지능형 리스트로 생성하는 방법 \"\"\"\n",
    "l_map = list(map(factorial, range(6)))\n",
    "l_intelli = [factorial(i) for i in range(6)]\n",
    "\n",
    "print(l_map, l_intelli)\n",
    "\n",
    "l_map = list(map(factorial, filter(lambda n:n % 2, range(6))))\n",
    "l_intelli = [factorial(i) for i in range(6) if i % 2]\n",
    "\n",
    "print(l_map, l_intelli)"
   ]
  },
  {
   "cell_type": "code",
   "execution_count": 8,
   "metadata": {},
   "outputs": [
    {
     "name": "stdout",
     "output_type": "stream",
     "text": [
      "4950\n",
      "4950\n"
     ]
    }
   ],
   "source": [
    "\"\"\" [예제 5-6] reduce와 sum을 이용해서 99까지 정수 더하기 \"\"\"\n",
    "from functools import reduce\n",
    "from operator import add\n",
    "\n",
    "print(reduce(add, range(100)))\n",
    "print(sum(range(100)))"
   ]
  },
  {
   "cell_type": "markdown",
   "metadata": {},
   "source": [
    "sum( )과 reduce( )는 연속된 항목에 어떤 연산을 적용해서, 이전 결과를 누적시키면서 일련의 값을 하나의 값으로 리덕션 한다는 공통점이 있다. 그 내장된 리덕션 함수는 all, any이다.\n",
    "<li>all(iterable) : 모든 iterable이 참된 값이면 True를 반환한다. all([ ])는 True이다. </li>\n",
    "<li>any(iterable) : iterable 중 하나라도 참된 값이면 True를 반환한다. any([ ])는 False이다.</li>"
   ]
  },
  {
   "cell_type": "markdown",
   "metadata": {},
   "source": [
    "### 5.3 익명 함수\n",
    "lambda 키워드는 파이썬 표현식 내에 익명 함수를 생성한다. 단, 람다 본체에서는 할당문이나 while, try 등의 파이썬 문장을 사용할 수 없다. "
   ]
  },
  {
   "cell_type": "code",
   "execution_count": 9,
   "metadata": {},
   "outputs": [
    {
     "data": {
      "text/plain": [
       "['banana', 'apple', 'fig', 'raspberry', 'strawberry', 'cherry']"
      ]
     },
     "execution_count": 9,
     "metadata": {},
     "output_type": "execute_result"
    }
   ],
   "source": [
    "\"\"\" [예제 5-7] lambda를 이용해서 철자 역순으로 단어 리스트 정렬 \"\"\"\n",
    "fruits = ['strawberry', 'fig', 'apple', 'cherry', 'raspberry', 'banana']\n",
    "sorted(fruits, key=lambda word: word[::-1])"
   ]
  },
  {
   "cell_type": "markdown",
   "metadata": {},
   "source": [
    "### 5.4 일곱 가지 맛의 콜러블 객체\n",
    "호출 연산자인 \"( )\"는 사용자 정의 함수 이외의 다른 객체에도 적용할 수 있다. 호출할 수 있는 객체인지는 callable( ) 내장 함수를 사용한다. 파이썬 데이터 모델 문서는 다음 일곱가지 콜러블을 나열하고 있다.<br/><br/>\n",
    "<dl>\n",
    "    <p><dt>사용자 정의 함수</dt>\n",
    "    <dd>def 문이나 표현식으로 생성</dd></p>\n",
    "    <p><dt>내장 함수</dt>\n",
    "    <dd>len( ) 처럼 C 언어로 구현된 함수</dd></p>\n",
    "    <p><dt>내장 메서드</dt>\n",
    "    <dd>dict.get() 처럼 C 언어로 구현된 메서드</dd></p>\n",
    "    <p><dt>메서드</dt>\n",
    "    <dd>클래스 본체에 정의된 함수</dd></p>\n",
    "    <p><dt>클래스</dt>\n",
    "    <dd>호출될 때 클래스는 자신의 __new__() 메서드를 실행해서 객체를 생성하고 __init__() 로 초기화한 후, 최종적으로 호출자에 객체르 반환한다. 파이썬에는 new연산자가 없으므로 클래스를 호출하는 것은 함수를 호출하는 것과 동일하다.</dd></p>\n",
    "    <p><dt>클래스 객체</dt>\n",
    "    <dd>클래스가 __call__() 메서드를 구현하면 이 클래스의 객체는 함수로 호출될 수 있다. 5.5절 참조</dd></p>\n",
    "    <p><dt>제너레이터 함수</dt>\n",
    "    <dd>yield 키워드를 사용하는 함수나 메서드로 이 함수가 호출되면 제너레이터 객체를 반환한다. 14장 참조</dd></p>\n",
    "</dl>\n",
    "\n",
    "파이선에는 위와 같이 다양한 콜러블형이 존재하므로 callable( ) 내장 함수를 사용해서 호출할 수 있는 객체인지 판단하는 것이 가장 안전하다."
   ]
  },
  {
   "cell_type": "code",
   "execution_count": 10,
   "metadata": {},
   "outputs": [
    {
     "data": {
      "text/plain": [
       "[True, True, False]"
      ]
     },
     "execution_count": 10,
     "metadata": {},
     "output_type": "execute_result"
    }
   ],
   "source": [
    "[callable(obj) for obj in (abs, str, 13)]"
   ]
  },
  {
   "cell_type": "markdown",
   "metadata": {},
   "source": [
    "### 5.5 사용자 정의 콜러블형\n",
    "\\_\\_call\\_\\_( ) 인스턴스 메서드를 구현하면 모든 객체가 함수처럼 동작하게 만들 수 있다."
   ]
  },
  {
   "cell_type": "code",
   "execution_count": 11,
   "metadata": {},
   "outputs": [
    {
     "name": "stdout",
     "output_type": "stream",
     "text": [
      "1\n",
      "0\n",
      "True\n"
     ]
    }
   ],
   "source": [
    "\"\"\" [예제 5-8] BingoCage 클래스는 뒤섞인 리스트에서 항목을 골라낼 뿐이다. \"\"\"\n",
    "\n",
    "import random\n",
    "\n",
    "class BingoCage:\n",
    "    def __init__(self, items):\n",
    "        self._items = list(items) # 지역에 사본은 만들면 인수로 전달된 리스트에 예기치 않은 부작용을 막을 수 있다.\n",
    "        random.shuffle(self._items)\n",
    "        \n",
    "    def pick(self):\n",
    "        try:\n",
    "            return self._items.pop()\n",
    "        except IndexError:\n",
    "            raise LookupError('pick from empty BingoCage')\n",
    "    \n",
    "    def __call__(self):\n",
    "        return self.pick() # bingo.pick()에 대한 단축 형태로 bingo()를 정의한다.\n",
    "    \n",
    "bingo = BingoCage(range(3))\n",
    "print(bingo.pick())\n",
    "print(bingo())\n",
    "print(callable(bingo))"
   ]
  },
  {
   "cell_type": "markdown",
   "metadata": {},
   "source": [
    "### 5.6 함수 인트로스펙션\n",
    "dir( ) 함수를 통해 공개된 속성은 아래와 같다. 그 중 함수를 객체로 다루는 것과 관련된 속성 중 먼저 \\_\\_dict\\_\\_ 속성을 보자. 일반적인 사용자 정의 클래스의 객체와 마찬가지로 함수는 \\_\\_dict\\_\\_ 속성을 이용해서 객체에 할당된 사용자 속성을 보관한다. 이 속성은 기본적인 애너테이션 형태로서 쓸모가 많다. 일반적으로 어떤 속성을 함수에 할당하는 것은 흔한 일은 아니지만, 장고와 같은 프레임워크는 이 기능을 사용한다.\n",
    "\n",
    "```\n",
    "# 장고의 일부\n",
    "def upper_case_name(obj):\n",
    "    return ('%s %s' % (obj.first_name, obj.last_name)).upper()\n",
    "upper_case_name.short_description = 'Customer name'\n",
    "```"
   ]
  },
  {
   "cell_type": "code",
   "execution_count": 12,
   "metadata": {},
   "outputs": [
    {
     "name": "stdout",
     "output_type": "stream",
     "text": [
      "['__annotations__', '__call__', '__class__', '__closure__', '__code__', '__defaults__', '__delattr__', '__dict__', '__dir__', '__doc__', '__eq__', '__format__', '__ge__', '__get__', '__getattribute__', '__globals__', '__gt__', '__hash__', '__init__', '__init_subclass__', '__kwdefaults__', '__le__', '__lt__', '__module__', '__name__', '__ne__', '__new__', '__qualname__', '__reduce__', '__reduce_ex__', '__repr__', '__setattr__', '__sizeof__', '__str__', '__subclasshook__']\n"
     ]
    }
   ],
   "source": [
    "# 함수의 속성들\n",
    "print(dir(factorial))"
   ]
  },
  {
   "cell_type": "markdown",
   "metadata": {},
   "source": [
    "파이썬 사용자 정의 객체에는 없지만 함수에 고유한 속성은 아래와 같다. 함수와 객체 맴버함수의 차집합을 구하면 함수 고유의 속성을 간단히 볼 수 있다.\n",
    "\n",
    "\n",
    "속성명|자료형|설명\n",
    "------|------|------\n",
    "\\_\\_annotations\\_\\_ | dict | 매개변수 및 반환값에 대한 주석\n",
    "\\_\\_call\\_\\_ | 메서드-래퍼 | 콜러블 객체 프로토콜에 따른 ( ) 연산자\n",
    "\\_\\_closure\\_\\_ | 튜플 | 자유 변수등 함수 클로저(None인 경우가 종종 있음)\n",
    "\\_\\_code\\_\\_ | 코드 | 바이트코드로 컴파일된 함수 메타데이터 및 함수 본체\n",
    "\\_\\_defaults\\_\\_ | 튜플 | 형식 매개변수의 기본값\n",
    "\\_\\_get\\_\\_ | 메서드-래퍼 | 일기 전용 디스크립터 프로토콜 구현(20장 참조)\n",
    "\\_\\_globals\\_\\_ | dict | 함수가 정의된 모듈의 전역 변수\n",
    "\\_\\_kwdefaults\\_\\_ | dict | 키워드 전용 형식 매개변수의 기본값\n",
    "\\_\\_name\\_\\_ | str | 함수명\n",
    "\\_\\_qualname\\_\\_ | str | random.choice( )와 같은 전체 함수 명칭"
   ]
  },
  {
   "cell_type": "code",
   "execution_count": 18,
   "metadata": {},
   "outputs": [
    {
     "name": "stdout",
     "output_type": "stream",
     "text": [
      "['__annotations__', '__call__', '__closure__', '__code__', '__defaults__', '__get__', '__globals__', '__kwdefaults__', '__name__', '__qualname__']\n",
      "func func\n"
     ]
    }
   ],
   "source": [
    "class C: pass\n",
    "obj = C()\n",
    "def func(): pass\n",
    "print(sorted(set(dir(func)) - set(dir(obj))))\n",
    "print(func.__name__, func.__qualname__)"
   ]
  },
  {
   "cell_type": "markdown",
   "metadata": {},
   "source": [
    "### 5.7 위치 매개변수에서 키워드 전용 매개변수까지\n",
    "키워드 전용 인수<sup>keyword-only argument</sup>란 argument 이름을 지정하여 인수를 지정하는 방식으로 키워드 전용 인수로 설정하려면 * 가 붙은 인수 뒤에 이름을 지정한다. 가변 개수의 위치 인수를 지원하지 않으면서 키워드 전용 인수를 지원하고 싶으면, * 만 시그너처에 포함시키면 된다."
   ]
  },
  {
   "cell_type": "code",
   "execution_count": 16,
   "metadata": {},
   "outputs": [],
   "source": [
    "\"\"\" [예제 5-10] HTML을 생성하는 tag() 함수 \"\"\" \n",
    "def tag(name, *content, cls=None, **attrs):\n",
    "    \"\"\"하나 이상의 HTML 태그를 생성한다.\"\"\"\n",
    "    if cls is not None: # (1)\n",
    "        attrs['class'] = cls\n",
    "    if attrs: # (2)\n",
    "        attr_str = ''.join(' %s = \"%s\"' % (attr, value)\n",
    "                          for attr, value in sorted(attrs.items()))\n",
    "    else: # (3)\n",
    "        attr_str = ''\n",
    "    if content: # (4)\n",
    "        return '\\n'.join('<%s%s>%s</%s>' % (name, attr_str, c, name) for c in content)\n",
    "    else: # (5)\n",
    "        return '<%s%s />' % (name, attr_str)"
   ]
  },
  {
   "cell_type": "code",
   "execution_count": 17,
   "metadata": {},
   "outputs": [
    {
     "data": {
      "text/plain": [
       "'<br />'"
      ]
     },
     "execution_count": 17,
     "metadata": {},
     "output_type": "execute_result"
    }
   ],
   "source": [
    "tag('br') # (5)의 결과"
   ]
  },
  {
   "cell_type": "code",
   "execution_count": 23,
   "metadata": {},
   "outputs": [
    {
     "name": "stdout",
     "output_type": "stream",
     "text": [
      "<p>hello</p>\n"
     ]
    }
   ],
   "source": [
    "print(tag('p', 'hello')) # (4)의 결과"
   ]
  },
  {
   "cell_type": "code",
   "execution_count": 21,
   "metadata": {},
   "outputs": [
    {
     "name": "stdout",
     "output_type": "stream",
     "text": [
      "<p>hello</p>\n",
      "<p>world</p>\n"
     ]
    }
   ],
   "source": [
    "print(tag('p', 'hello', 'world')) # (4)의 결과"
   ]
  },
  {
   "cell_type": "code",
   "execution_count": 26,
   "metadata": {},
   "outputs": [
    {
     "name": "stdout",
     "output_type": "stream",
     "text": [
      "<p class = \"sidebar\">hello</p>\n",
      "<p class = \"sidebar\">world</p>\n"
     ]
    }
   ],
   "source": [
    "print(tag('p', 'hello', 'world', cls='sidebar')) # (1), (2), (4)의 결과"
   ]
  },
  {
   "cell_type": "code",
   "execution_count": 25,
   "metadata": {},
   "outputs": [
    {
     "name": "stdout",
     "output_type": "stream",
     "text": [
      "<img content = \"testing\" />\n",
      "<img>testing</img>\n"
     ]
    }
   ],
   "source": [
    "print(tag(content='testing', name='img')) # content='testing'이 attrs로 전달되었다.\n",
    "print(tag('img', 'testing')) # 위와 결과가 다름"
   ]
  },
  {
   "cell_type": "code",
   "execution_count": 27,
   "metadata": {},
   "outputs": [
    {
     "data": {
      "text/plain": [
       "'<img class = \"framed\" src = \"sunset.jpg\" title = \"Sunset Boulevard\" />'"
      ]
     },
     "execution_count": 27,
     "metadata": {},
     "output_type": "execute_result"
    }
   ],
   "source": [
    "my_tag = {'name': 'img', 'title':'Sunset Boulevard', 'src':'sunset.jpg', 'cls':'framed'} \n",
    "tag(**my_tag) # **을 붙이면 딕셔너리 안의 모든 항목을 해당의 인수로 전달하고, 나머지는 **attrs에 전달된다."
   ]
  },
  {
   "cell_type": "code",
   "execution_count": 29,
   "metadata": {},
   "outputs": [
    {
     "data": {
      "text/plain": [
       "(1, 2)"
      ]
     },
     "execution_count": 29,
     "metadata": {},
     "output_type": "execute_result"
    }
   ],
   "source": [
    "def f(a, *, b): \n",
    "    \"\"\"가변 개수의 위치 인수를 지원하지 않으면서 키워드 전용 인수를 지원하고 싶으면, * 만 시그너처에 포함시키면 된다.\"\"\"\n",
    "    return a, b\n",
    "\n",
    "f(1, b=2) "
   ]
  },
  {
   "cell_type": "markdown",
   "metadata": {},
   "source": [
    "### 5.8 매개변수에 대한 정보 읽기\n",
    "Bobo HTTP 프레임워크에서 함수 인트로스펙션<sup>introspection</sup>을 적용한 재미있는 사례를 볼 수 있다. [예제 5-12]는 Bobo 튜토리얼 'Hello World'를 변형한 것으로서 함수 인트로스펙션이 어떻게 작동하는지 알 수 있다. 중요한 점은 Bobo가 hello( ) 함수 내부를 조사해서 이 함수가 작동하려면 person 이라는 매개변수가 필요하다는 것을 알아낸다는 것이다. hello를 호출하려면 person 인수가 필요한데, 그런 이름이 요청에 들어있지 않으면 \"Missing parameter\"를 출력한다."
   ]
  },
  {
   "cell_type": "code",
   "execution_count": 31,
   "metadata": {},
   "outputs": [],
   "source": [
    "import bobo\n",
    "\n",
    "@bobo.query('/')\n",
    "def hello(person):\n",
    "    return 'Hello %s' % person"
   ]
  },
  {
   "cell_type": "code",
   "execution_count": 34,
   "metadata": {},
   "outputs": [
    {
     "name": "stdout",
     "output_type": "stream",
     "text": [
      "HTTP/1.0 403 Forbidden\r",
      "\r\n",
      "Date: Mon, 26 Nov 2018 13:10:33 GMT\r",
      "\r\n",
      "Server: WSGIServer/0.2 CPython/3.6.6\r",
      "\r\n",
      "Content-Type: text/html; charset=UTF-8\r",
      "\r\n",
      "Content-Length: 103\r",
      "\r\n",
      "\r",
      "\r\n",
      "<html>\r\n",
      "<head><title>Missing parameter</title></head>\r\n",
      "<body>Missing form variable person</body>\r\n",
      "</html>\r\n"
     ]
    }
   ],
   "source": [
    "\"!bobo -f ch5_bobo_sample.py\" #excute at console\n",
    "!curl -i http://localhost:8080/"
   ]
  },
  {
   "cell_type": "code",
   "execution_count": 35,
   "metadata": {},
   "outputs": [
    {
     "name": "stdout",
     "output_type": "stream",
     "text": [
      "HTTP/1.0 200 OK\r",
      "\r\n",
      "Date: Mon, 26 Nov 2018 13:10:34 GMT\r",
      "\r\n",
      "Server: WSGIServer/0.2 CPython/3.6.6\r",
      "\r\n",
      "Content-Type: text/html; charset=UTF-8\r",
      "\r\n",
      "Content-Length: 10\r",
      "\r\n",
      "\r",
      "\r\n",
      "Hello Kang"
     ]
    }
   ],
   "source": [
    "!curl -i http://localhost:8080/?person=Kang"
   ]
  },
  {
   "cell_type": "code",
   "execution_count": 4,
   "metadata": {},
   "outputs": [
    {
     "name": "stdout",
     "output_type": "stream",
     "text": [
      "(80,)\n",
      "<code object clip at 0x7f2bfc675b70, file \"<ipython-input-4-76d92283f2a2>\", line 2>\n",
      "('text', 'max_len', 'end', 'space_before', 'space_after')\n",
      "2\n"
     ]
    }
   ],
   "source": [
    "\"\"\" [예제 5-15] 원하는 길이 가까이에 있는 공백에서 잘라서 문자열을 단축하는 함수 \"\"\"\n",
    "def clip(text, max_len=80):\n",
    "    \"\"\"max len : 앞이나 뒤의 마지막 공백에서 잘라낸 텍스트를 반환한다\"\"\"\n",
    "    end = None\n",
    "    if len(text) > max_len:\n",
    "        space_before = text.rfind(' ', 0, max_len)\n",
    "        if space_before >= 0:\n",
    "            end = space_before\n",
    "        else:\n",
    "            space_after = text.rfind(' ', max_len)\n",
    "            if space_after >=0:\n",
    "                end = space_after\n",
    "    if end is None: #공백이 없는 경우\n",
    "        end = len(text)\n",
    "    return text[:end].rstrip()\n",
    "\n",
    "# 함수의 인수에 대한 정보 추출하기\n",
    "print(clip.__defaults__)\n",
    "print(clip.__code__) # doctest: +ELLIPSIS\n",
    "print(clip.__code__.co_varnames) # 함수 본체에서 생성한 지역 변수명도 들어있어 보기 좋지는 않다.\n",
    "print(clip.__code__.co_argcount)"
   ]
  },
  {
   "cell_type": "code",
   "execution_count": 5,
   "metadata": {},
   "outputs": [
    {
     "name": "stdout",
     "output_type": "stream",
     "text": [
      "(text, max_len=80)\n",
      "POSITIONAL_OR_KEYWORD : text = <class 'inspect._empty'>\n",
      "POSITIONAL_OR_KEYWORD : max_len = 80\n"
     ]
    }
   ],
   "source": [
    "\"\"\" [예제 5-17] 함수 시그너처 추출하기, 이 결과가 훨씬 좋다. \"\"\"\n",
    "from inspect import signature\n",
    "sig = signature(clip)\n",
    "print(str(sig))\n",
    "for name, param in sig.parameters.items():\n",
    "    print(param.kind, ':', name, '=', param.default) "
   ]
  },
  {
   "cell_type": "markdown",
   "metadata": {},
   "source": [
    "inspect.signature()는 inspect.Signature 객체를 반환하며, 이 객체에 들어 있는 parameter 속성에는 name, default, kind 속성이 들어있다. kind 속성은 다음 5가지 값 중 하나를 가진다.<br /><br />\n",
    "<dl>\n",
    "    <p><dt>POSITIONAL_ORKEYWORD</dt>\n",
    "    <dd>위치 인수나 키워드 인수로 전달할 수 있는 매개변수(대부분 여기에 속한다.)</dd></p>\n",
    "    <p><dt>VAR_POSITIONAL</dt>\n",
    "    <dd>위치 매개변수의 튜플</dd></p>\n",
    "    <p><dt>VAR_KEYWORD</dt>\n",
    "    <dd>키워드 매개변수의 딕셔너리</dd></p>\n",
    "    <p><dt>KEYWORD_ONLY</dt>\n",
    "    <dd>키워드 전용 매개변수(파이썬3)</dd></p>\n",
    "    <p><dt>POSITIONAL_ONLY</dt>\n",
    "    <dd>위치 전용 매개변수. 현재 파이썬 함수 선언 구문에서는 지원되지 않지만, 키워드로 전달한 매개변수를 받지 않은 divmod( ) 처럼 C 언어로 구현된 기존 함수가 여기에 속한다.</dd></p>\n",
    "</dl>"
   ]
  },
  {
   "cell_type": "code",
   "execution_count": 17,
   "metadata": {},
   "outputs": [
    {
     "name": "stdout",
     "output_type": "stream",
     "text": [
      "1. Normal\n",
      "<BoundArguments (name='img', cls='framed', attrs={'title': 'Sunset Boulevard', 'src': 'sunset.jpg'})> <class 'inspect.BoundArguments'> <class 'type'>\n",
      "name = img\n",
      "cls = framed\n",
      "attrs = {'title': 'Sunset Boulevard', 'src': 'sunset.jpg'}\n",
      "2. Abnormal (after delete 'name' tag)\n"
     ]
    },
    {
     "ename": "TypeError",
     "evalue": "missing a required argument: 'name'",
     "output_type": "error",
     "traceback": [
      "\u001b[0;31m---------------------------------------------------------------------------\u001b[0m",
      "\u001b[0;31mTypeError\u001b[0m                                 Traceback (most recent call last)",
      "\u001b[0;32m<ipython-input-17-cdf9a90b91ff>\u001b[0m in \u001b[0;36m<module>\u001b[0;34m\u001b[0m\n\u001b[1;32m     32\u001b[0m \u001b[0mprint\u001b[0m\u001b[0;34m(\u001b[0m\u001b[0;34m\"2. Abnormal (after delete 'name' tag)\"\u001b[0m \u001b[0;34m)\u001b[0m\u001b[0;34m\u001b[0m\u001b[0m\n\u001b[1;32m     33\u001b[0m \u001b[0;32mdel\u001b[0m \u001b[0mmy_tag\u001b[0m\u001b[0;34m[\u001b[0m\u001b[0;34m'name'\u001b[0m\u001b[0;34m]\u001b[0m \u001b[0;31m# 필수 tag name을 제거\u001b[0m\u001b[0;34m\u001b[0m\u001b[0m\n\u001b[0;32m---> 34\u001b[0;31m \u001b[0mbound_args\u001b[0m \u001b[0;34m=\u001b[0m \u001b[0msig\u001b[0m\u001b[0;34m.\u001b[0m\u001b[0mbind\u001b[0m\u001b[0;34m(\u001b[0m\u001b[0;34m**\u001b[0m\u001b[0mmy_tag\u001b[0m\u001b[0;34m)\u001b[0m \u001b[0;31m# name이 없어서 에러를 발생한다. 프레임워크 및 도구(IDE 등)는 이 정보를 이용해서 코드를 검증할 수 있다.\u001b[0m\u001b[0;34m\u001b[0m\u001b[0m\n\u001b[0m",
      "\u001b[0;32m~/Apps/miniconda3/envs/tensorflow/lib/python3.6/inspect.py\u001b[0m in \u001b[0;36mbind\u001b[0;34m(*args, **kwargs)\u001b[0m\n\u001b[1;32m   2982\u001b[0m         \u001b[0;32mif\u001b[0m \u001b[0mthe\u001b[0m \u001b[0mpassed\u001b[0m \u001b[0marguments\u001b[0m \u001b[0mcan\u001b[0m \u001b[0;32mnot\u001b[0m \u001b[0mbe\u001b[0m \u001b[0mbound\u001b[0m\u001b[0;34m.\u001b[0m\u001b[0;34m\u001b[0m\u001b[0m\n\u001b[1;32m   2983\u001b[0m         \"\"\"\n\u001b[0;32m-> 2984\u001b[0;31m         \u001b[0;32mreturn\u001b[0m \u001b[0margs\u001b[0m\u001b[0;34m[\u001b[0m\u001b[0;36m0\u001b[0m\u001b[0;34m]\u001b[0m\u001b[0;34m.\u001b[0m\u001b[0m_bind\u001b[0m\u001b[0;34m(\u001b[0m\u001b[0margs\u001b[0m\u001b[0;34m[\u001b[0m\u001b[0;36m1\u001b[0m\u001b[0;34m:\u001b[0m\u001b[0;34m]\u001b[0m\u001b[0;34m,\u001b[0m \u001b[0mkwargs\u001b[0m\u001b[0;34m)\u001b[0m\u001b[0;34m\u001b[0m\u001b[0m\n\u001b[0m\u001b[1;32m   2985\u001b[0m \u001b[0;34m\u001b[0m\u001b[0m\n\u001b[1;32m   2986\u001b[0m     \u001b[0;32mdef\u001b[0m \u001b[0mbind_partial\u001b[0m\u001b[0;34m(\u001b[0m\u001b[0;34m*\u001b[0m\u001b[0margs\u001b[0m\u001b[0;34m,\u001b[0m \u001b[0;34m**\u001b[0m\u001b[0mkwargs\u001b[0m\u001b[0;34m)\u001b[0m\u001b[0;34m:\u001b[0m\u001b[0;34m\u001b[0m\u001b[0m\n",
      "\u001b[0;32m~/Apps/miniconda3/envs/tensorflow/lib/python3.6/inspect.py\u001b[0m in \u001b[0;36m_bind\u001b[0;34m(self, args, kwargs, partial)\u001b[0m\n\u001b[1;32m   2897\u001b[0m                             \u001b[0mmsg\u001b[0m \u001b[0;34m=\u001b[0m \u001b[0;34m'missing a required argument: {arg!r}'\u001b[0m\u001b[0;34m\u001b[0m\u001b[0m\n\u001b[1;32m   2898\u001b[0m                             \u001b[0mmsg\u001b[0m \u001b[0;34m=\u001b[0m \u001b[0mmsg\u001b[0m\u001b[0;34m.\u001b[0m\u001b[0mformat\u001b[0m\u001b[0;34m(\u001b[0m\u001b[0marg\u001b[0m\u001b[0;34m=\u001b[0m\u001b[0mparam\u001b[0m\u001b[0;34m.\u001b[0m\u001b[0mname\u001b[0m\u001b[0;34m)\u001b[0m\u001b[0;34m\u001b[0m\u001b[0m\n\u001b[0;32m-> 2899\u001b[0;31m                             \u001b[0;32mraise\u001b[0m \u001b[0mTypeError\u001b[0m\u001b[0;34m(\u001b[0m\u001b[0mmsg\u001b[0m\u001b[0;34m)\u001b[0m \u001b[0;32mfrom\u001b[0m \u001b[0;32mNone\u001b[0m\u001b[0;34m\u001b[0m\u001b[0m\n\u001b[0m\u001b[1;32m   2900\u001b[0m             \u001b[0;32melse\u001b[0m\u001b[0;34m:\u001b[0m\u001b[0;34m\u001b[0m\u001b[0m\n\u001b[1;32m   2901\u001b[0m                 \u001b[0;31m# We have a positional argument to process\u001b[0m\u001b[0;34m\u001b[0m\u001b[0;34m\u001b[0m\u001b[0m\n",
      "\u001b[0;31mTypeError\u001b[0m: missing a required argument: 'name'"
     ]
    }
   ],
   "source": [
    "\"\"\" [예제 5-18] 예제 5-10에서 가져온 함수 시그너처를 인수들의 딕셔너리에 바인딩 하기 \"\"\"\n",
    "\n",
    "def tag(name, *content, cls=None, **attrs): # 예제 5-10 HTML을 생성하는 tag() 함수\n",
    "    \"\"\"하나 이상의 HTML 태그를 생성한다.\"\"\"\n",
    "    if cls is not None:\n",
    "        attrs['class'] = cls\n",
    "    if attrs:\n",
    "        attr_str = ''.join(' %s = \"%s\"' % (attr, value)\n",
    "                          for attr, value in sorted(attrs.items()))\n",
    "    else:\n",
    "        attr_str = ''\n",
    "    if content:\n",
    "        return '\\n'.join('<%s%s>%s</%s>' % (name, attr_str, c, name) for c in content)\n",
    "    else:\n",
    "        return '<%s%s />' % (name, attr_str)\n",
    "\n",
    "import inspect\n",
    "sig = inspect.signature(tag)\n",
    "my_tag = {\n",
    "    'name':'img',\n",
    "    'title':'Sunset Boulevard',\n",
    "    'src':'sunset.jpg',\n",
    "    'cls':'framed',\n",
    "}\n",
    "bound_args = sig.bind(**my_tag) # inspect.BoundArguments 객체가 생성됨\n",
    "\n",
    "print(\"1. Normal\" )\n",
    "print(bound_args, type(bound_args), type(bound_args.arguments))\n",
    "for name, value in bound_args.arguments.items(): # OrderedDict 형인 bound_args.arguments의 내용을 확인\n",
    "    print(name, '=', value)\n",
    "\n",
    "print(\"2. Abnormal (after delete 'name' tag)\" )    \n",
    "del my_tag['name'] # 필수 tag name을 제거\n",
    "bound_args = sig.bind(**my_tag) # name이 없어서 에러를 발생한다. 프레임워크 및 도구(IDE 등)는 이 정보를 이용해서 코드를 검증할 수 있다."
   ]
  },
  {
   "cell_type": "markdown",
   "metadata": {},
   "source": [
    "### 5.9 함수 애너테이션\n",
    "파이썬 3는 함수의 매개변수와 반환값에 메타데이터를 추가할 수 있는 구분을 제공한다. [예제 5-19]는 [예제 5-15]의 코드에 함수 애너테이션<sup>Function annotation</sup>을 추가한 것이다. 기본값이 있을 때 에너테이션은 인수명과 등호(=) 사이에 들어간다. -> 는 리턴값을 의미하며 자료형 제약이 없다. 애너테이션은 전혀 처리하지 않으며, 단지 함수 객체 안의 dict형 \\_\\_annotations\\_\\_ 속성에 저장될 뿐이다."
   ]
  },
  {
   "cell_type": "code",
   "execution_count": 19,
   "metadata": {},
   "outputs": [
    {
     "name": "stdout",
     "output_type": "stream",
     "text": [
      "{'max_len': 'int > 0', 'return': <class 'str'>}\n"
     ]
    }
   ],
   "source": [
    "\"\"\" [예제 5-19] annotation을 추가한 clip() 함수 \"\"\"\n",
    "def clip(text, max_len:'int > 0'=80) -> str:\n",
    "    \"\"\"max len : 앞이나 뒤의 마지막 공백에서 잘라낸 텍스트를 반환한다\"\"\"\n",
    "    end = None\n",
    "    if len(text) > max_len:\n",
    "        space_before = text.rfind(' ', 0, max_len)\n",
    "        if space_before >= 0:\n",
    "            end = space_before\n",
    "        else:\n",
    "            space_after = text.rfind(' ', max_len)\n",
    "            if space_after >=0:\n",
    "                end = space_after\n",
    "    if end is None: \n",
    "        end = len(text)\n",
    "    return text[:end].rstrip()\n",
    "\n",
    "print(clip.__annotations__)"
   ]
  },
  {
   "cell_type": "markdown",
   "metadata": {},
   "source": [
    "함수 시그너처에서 애너테이션 추출은 return_annotation과 parameters의 annotation 속성을 통해 가능하다. 아직 활용 범위가 많지는 않지만 향후 Bobo와 같은 프레임워크는 요청 처리를 더욱 자동화하기 위해 애너테이션을 지원할 수 있으며, 혹은 IDE나 linter와 같은 도구에서 정적 자료형 검사를 지원하기 위해 사용될 수 있다."
   ]
  },
  {
   "cell_type": "code",
   "execution_count": 20,
   "metadata": {},
   "outputs": [
    {
     "name": "stdout",
     "output_type": "stream",
     "text": [
      "<class 'str'>\n",
      "<class 'inspect._empty'> : text = <class 'inspect._empty'>\n",
      "'int > 0'     : max_len = 80\n"
     ]
    }
   ],
   "source": [
    "#[예제 5-20] 함수 시그너처에서 애너테이션 추출하기\n",
    "from inspect import signature\n",
    "sig = signature(clip)\n",
    "print(str(sig.return_annotation))\n",
    "for param in sig.parameters.values():\n",
    "    note = repr(param.annotation).ljust(13)\n",
    "    print(note, ':', param.name, '=', param.default) "
   ]
  },
  {
   "cell_type": "markdown",
   "metadata": {},
   "source": [
    "### 5.10 함수형 프로그래밍을 위한 패키지\n",
    "#### 5.10.1 operator 모듈\n",
    "5.10에서 소개하는 함수들은 기능이 떨어지는 람다 구문을 사용할 필요 없이 쉽게 함수형 프로그래밍을 지원한다. 예로 합계를 구할 때 sum()은 있지만, 곱셈에 대해서는 해당하는 함수가 없다. 익명 함수와 operator로 구현한 함수를 비교해보자."
   ]
  },
  {
   "cell_type": "code",
   "execution_count": 21,
   "metadata": {},
   "outputs": [],
   "source": [
    "\"\"\" [예제 5-21] reduce()와 익명 함수로 구현한 팩토리얼 \"\"\"\n",
    "from functools import reduce\n",
    "\n",
    "def fact_anonymous(n):\n",
    "    return reduce(lambda a, b: a*b, range(1, n+1))\n",
    "\n",
    "#[예제 5-22] reduce()와 operator로 구현한 팩토리얼\n",
    "from functools import reduce\n",
    "from operator import mul\n",
    "\n",
    "def fact_operator(n):\n",
    "    return reduce(mul, range(1, n+1))"
   ]
  },
  {
   "cell_type": "code",
   "execution_count": 22,
   "metadata": {},
   "outputs": [
    {
     "name": "stdout",
     "output_type": "stream",
     "text": [
      "('Sao Paulo', 'BR', 19.649, (-23.547778, -46.635833))\n",
      "('Delhi NCR', 'IN', 21.935, (28.613889, 77.208889))\n",
      "('Tokyo', 'JP', 36.933, (35.689722, 139.691667))\n",
      "('Mexico City', 'MX', 20.142, (19.433333, -99.133333))\n",
      "('New York-Newark', 'US', 20.104, (40.808611, -74.020386))\n"
     ]
    }
   ],
   "source": [
    "\"\"\" [예제 5-23] 튜플의 리스트를 정렬하기 위한 itemgetter() \"\"\"\n",
    "metro_data = [\n",
    "    ('Tokyo', 'JP', 36.933, (35.689722, 139.691667)),\n",
    "    ('Delhi NCR', 'IN', 21.935, (28.613889, 77.208889)),\n",
    "    ('Mexico City', 'MX', 20.142, (19.433333, -99.133333)),\n",
    "    ('New York-Newark', 'US', 20.104, (40.808611, -74.020386)),\n",
    "    ('Sao Paulo', 'BR', 19.649, (-23.547778, -46.635833))\n",
    "]\n",
    "\n",
    "from operator import itemgetter\n",
    "for city in sorted(metro_data, key=itemgetter(1)): # BR, IN, JP, MX, US 순\n",
    "    print (city)"
   ]
  },
  {
   "cell_type": "markdown",
   "metadata": {},
   "source": [
    "itemgetter( )는 [ ]연산자를 사용하므로 시퀀스뿐만 아니라 매핑 및 \\_\\_getitem\\_\\_( )을 구현한 모든 클래스를 지원한다."
   ]
  },
  {
   "cell_type": "code",
   "execution_count": 23,
   "metadata": {},
   "outputs": [
    {
     "name": "stdout",
     "output_type": "stream",
     "text": [
      "('JP', 'Tokyo')\n",
      "('IN', 'Delhi NCR')\n",
      "('MX', 'Mexico City')\n",
      "('US', 'New York-Newark')\n",
      "('BR', 'Sao Paulo')\n"
     ]
    }
   ],
   "source": [
    "cc_name = itemgetter(1, 0)\n",
    "for city in metro_data:\n",
    "    print(cc_name(city))"
   ]
  },
  {
   "cell_type": "markdown",
   "metadata": {},
   "source": [
    "attrgetter( )는 이름으로 객체 속성을 추출하는 함수를 생성한다. attrgetter( )에 여러 속성명을 인수로 전달하면, 역시 해당 속성값으로 구성된 튜플을 반환한다. 게다가 속성명에 점(.)이 포함되어 있으면 attrgetter( )는 내표된 객체를 찾아서 해당 속성을 가져온다."
   ]
  },
  {
   "cell_type": "code",
   "execution_count": 24,
   "metadata": {},
   "outputs": [
    {
     "name": "stdout",
     "output_type": "stream",
     "text": [
      "[Metropols(name='Tokyo', cc='JP', pop=36.933, coord=Latlong(lat=35.689722, long=139.691667)), Metropols(name='Delhi NCR', cc='IN', pop=21.935, coord=Latlong(lat=28.613889, long=77.208889)), Metropols(name='Mexico City', cc='MX', pop=20.142, coord=Latlong(lat=19.433333, long=-99.133333)), Metropols(name='New York-Newark', cc='US', pop=20.104, coord=Latlong(lat=40.808611, long=-74.020386)), Metropols(name='Sao Paulo', cc='BR', pop=19.649, coord=Latlong(lat=-23.547778, long=-46.635833))]\n",
      "35.689722\n",
      "('Sao Paulo', -23.547778)\n",
      "('Mexico City', 19.433333)\n",
      "('Delhi NCR', 28.613889)\n",
      "('Tokyo', 35.689722)\n",
      "('New York-Newark', 40.808611)\n"
     ]
    }
   ],
   "source": [
    "\"\"\"[예제 5-24] 예제 5-23에서 정의한 metro_data 처리를 위한 attrgetter() 사용\"\"\"\n",
    "from collections import namedtuple\n",
    "LatLong = namedtuple('Latlong', 'lat long')\n",
    "Metropolis = namedtuple('Metropols', 'name cc pop coord')\n",
    "metro_areas = [\n",
    "    Metropolis(name, cc, pop, LatLong(lat, long))\n",
    "    for name, cc, pop, (lat, long) in metro_data\n",
    "]\n",
    "print(metro_areas)\n",
    "# [Metropols(name='Tokyo', cc='JP', pop=36.933, coord=Latlong(lat=35.689722, long=139.691667)),\n",
    "#  Metropols(name='Delhi NCR', cc='IN', pop=21.935, coord=Latlong(lat=28.613889, long=77.208889)),\n",
    "#  Metropols(name='Mexico City', cc='MX', pop=20.142, coord=Latlong(lat=19.433333, long=-99.133333)),\n",
    "#  Metropols(name='New York-Newark', cc='US', pop=20.104, coord=Latlong(lat=40.808611, long=-74.020386)),\n",
    "#  Metropols(name='Sao Paulo', cc='BR', pop=19.649, coord=Latlong(lat=-23.547778, long=-46.635833))]\n",
    "print(metro_areas[0].coord.lat) # 35.689722\n",
    "\n",
    "from operator import attrgetter \n",
    "name_lat = attrgetter('name', 'coord.lat') \n",
    "\n",
    "for city in sorted(metro_areas, key=attrgetter('coord.lat')):\n",
    "    print(name_lat(city))"
   ]
  },
  {
   "cell_type": "markdown",
   "metadata": {},
   "source": [
    "그 밖에 operator에 정의된 함수들 중 일부는 다음과 같다."
   ]
  },
  {
   "cell_type": "code",
   "execution_count": 25,
   "metadata": {},
   "outputs": [
    {
     "name": "stdout",
     "output_type": "stream",
     "text": [
      "['abs', 'add', 'and_', 'attrgetter', 'concat', 'contains', 'countOf', 'delitem', 'eq', 'floordiv', 'ge', 'getitem', 'gt', 'iadd', 'iand', 'iconcat', 'ifloordiv', 'ilshift', 'imatmul', 'imod', 'imul', 'index', 'indexOf', 'inv', 'invert', 'ior', 'ipow', 'irshift', 'is_', 'is_not', 'isub', 'itemgetter', 'itruediv', 'ixor', 'le', 'length_hint', 'lshift', 'lt', 'matmul', 'methodcaller', 'mod', 'mul', 'ne', 'neg', 'not_', 'or_', 'pos', 'pow', 'rshift', 'setitem', 'sub', 'truediv', 'truth', 'xor']\n"
     ]
    }
   ],
   "source": [
    "import operator\n",
    "print([name for name in dir(operator) if not name.startswith('_')])"
   ]
  },
  {
   "cell_type": "markdown",
   "metadata": {},
   "source": [
    "methodcaller( )는 실행 중 함수를 생성한다는 점에서 attrgetter( ), itemgetter( )와 유사하며 생성한 함수는 인수로 전달받은 객체의 메서드를 호출한다."
   ]
  },
  {
   "cell_type": "code",
   "execution_count": 26,
   "metadata": {},
   "outputs": [
    {
     "name": "stdout",
     "output_type": "stream",
     "text": [
      "THE TIME HAS COME\n",
      "The-time-has-come\n"
     ]
    }
   ],
   "source": [
    "\"\"\" [예제 5-25] methodcaller() 사용 예. 두 번째 테스트 hiphenate()에서 여분의 인수가 바인딩되는 것에 주의하라. \"\"\"\n",
    "from operator import methodcaller\n",
    "s = 'The time has come'\n",
    "upcase = methodcaller('upper')\n",
    "print(upcase(s))\n",
    "hiphenate = methodcaller('replace', \" \", '-')\n",
    "print(hiphenate(s))"
   ]
  },
  {
   "cell_type": "markdown",
   "metadata": {},
   "source": [
    "#### 5.10.2 functools.partial()로 인수 고정하기\n",
    "functools.partial()은 함수를 부분적으로 실행할 수 있게 해주는 고위 함수다. 원래 함수의 일부 인수를 고정한 콜러블을 생성 시 유용하다."
   ]
  },
  {
   "cell_type": "code",
   "execution_count": 27,
   "metadata": {},
   "outputs": [
    {
     "name": "stdout",
     "output_type": "stream",
     "text": [
      "21\n",
      "[3, 6, 9, 12, 15, 18, 21, 24, 27]\n"
     ]
    }
   ],
   "source": [
    "\"\"\" [예제 5-26] 인수를 하나 받는 콜러블이 필요한 곳에 인수 두 개를 받는 함수를 사용하기 위해 parial() 적용하기 \"\"\"\n",
    "from operator import mul\n",
    "from functools import partial\n",
    "triple = partial(mul, 3)\n",
    "print(triple(7))\n",
    "\n",
    "print(list(map(triple, range(1, 10))))"
   ]
  },
  {
   "cell_type": "code",
   "execution_count": 28,
   "metadata": {},
   "outputs": [
    {
     "name": "stdout",
     "output_type": "stream",
     "text": [
      "café café\n",
      "True\n",
      "True\n"
     ]
    }
   ],
   "source": [
    "\"\"\" [예제 5-27] partial()을 이용해서 편리한 유니코드 정규화 함수 만들기 \"\"\"\n",
    "import unicodedata, functools\n",
    "nfc = functools.partial(unicodedata.normalize, 'NFC') # 책과 결과가 다르다 ㅡㅡ;;\n",
    "\n",
    "s1 = \"café\"\n",
    "s2 = \"cafe\\u0301\"\n",
    "\n",
    "print(s1, s2)\n",
    "print(s1 == s2)\n",
    "print(nfc(s1) == nfc(s2))"
   ]
  },
  {
   "cell_type": "code",
   "execution_count": 30,
   "metadata": {},
   "outputs": [
    {
     "name": "stdout",
     "output_type": "stream",
     "text": [
      "<img class = \"pic-frame\" src = \"wumpus.jpeg\" />\n"
     ]
    },
    {
     "data": {
      "text/plain": [
       "functools.partial(<function tag at 0x7f2bfc5638c8>, 'img', cls='pic-frame')"
      ]
     },
     "execution_count": 30,
     "metadata": {},
     "output_type": "execute_result"
    }
   ],
   "source": [
    "\"\"\" [예제 5-28] 예제 5-10 tag()에 적용한 partial() 함수 \"\"\"\n",
    "from functools import partial\n",
    "picture = partial(tag, 'img', cls='pic-frame')\n",
    "print(picture(src='wumpus.jpeg'))\n",
    "picture"
   ]
  },
  {
   "cell_type": "code",
   "execution_count": 31,
   "metadata": {},
   "outputs": [
    {
     "name": "stdout",
     "output_type": "stream",
     "text": [
      "<function tag at 0x7f2bfc5638c8>\n",
      "<function tag at 0x7f2bfc5638c8>\n",
      "('img',)\n",
      "{'cls': 'pic-frame'}\n"
     ]
    }
   ],
   "source": [
    "# picture의 속성을 추출\n",
    "print(tag)          # 1\n",
    "print(picture.func) # 2  1, 2는 동일한 함수\n",
    "print(picture.args)\n",
    "print(picture.keywords)"
   ]
  }
 ],
 "metadata": {
  "kernelspec": {
   "display_name": "Python 3",
   "language": "python",
   "name": "python3"
  },
  "language_info": {
   "codemirror_mode": {
    "name": "ipython",
    "version": 3
   },
   "file_extension": ".py",
   "mimetype": "text/x-python",
   "name": "python",
   "nbconvert_exporter": "python",
   "pygments_lexer": "ipython3",
   "version": "3.6.7"
  }
 },
 "nbformat": 4,
 "nbformat_minor": 2
}
