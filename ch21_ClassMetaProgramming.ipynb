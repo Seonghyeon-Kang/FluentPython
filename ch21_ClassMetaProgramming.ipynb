{
 "cells": [
  {
   "cell_type": "code",
   "execution_count": null,
   "metadata": {},
   "outputs": [],
   "source": [
    "\"\"\" [예제 21-2] factories.py: 간단한 클래스 팩토리 \"\"\"\n",
    "\n",
    "def record_factory(cls_name, field_names):\n",
    "    try:\n",
    "        field_names = field_names.replace(',', ' ').split()\n",
    "    except AttributeError: # replace()나 split()을 사용할 수 없다.\n",
    "        pass\n",
    "    \n",
    "    field_names = tuple(field_names) # 속성명들의 튜플을 생성한다. 이 투플은 새로운 클래스의 __slots__에 들어 있는 속성으로 사용하며,\n",
    "                                     # 언패킹과 __repr__()에 사용할 필드 순서도 설정한다.\n",
    "    \n",
    "    def __init__(self, *args, **kwargs) # 새로운 클래스의 __init__() 메서드가 된다. 위치 인수나 키워드 인수를 받는다.\n",
    "        attrs = dict(zip(self.__slots__, args))\n",
    "        attrs.update(kwargs)\n",
    "        \n",
    "        for name, value in attrs.items():\n",
    "            setattr(self, name, value)\n",
    "            \n",
    "    def __repr__(self):\n",
    "        values = ', '.join('{}={!r}'.format(*i) for i in zip(self.__slots__, self))\n",
    "        return '{}({})'.format(self.__class__.__name__, values)\n",
    "    \n",
    "    "
   ]
  }
 ],
 "metadata": {
  "kernelspec": {
   "display_name": "Python 3",
   "language": "python",
   "name": "python3"
  },
  "language_info": {
   "codemirror_mode": {
    "name": "ipython",
    "version": 3
   },
   "file_extension": ".py",
   "mimetype": "text/x-python",
   "name": "python",
   "nbconvert_exporter": "python",
   "pygments_lexer": "ipython3",
   "version": "3.5.2"
  }
 },
 "nbformat": 4,
 "nbformat_minor": 2
}
