{
 "cells": [
  {
   "cell_type": "markdown",
   "metadata": {},
   "source": [
    "## 파이썬에서 비동기 프로그래밍 시작하기\n",
    "<b> 참고자료 </b> \n",
    "https://sjquant.tistory.com/14?category=770799\n",
    "\n",
    "### 기초\n",
    "파이썬에서 비동기를 사용하기 위해서는 asyncio 모듈을 이용합니다. 함수앞에 async를 붙이면 코루틴을 만들 수 있습니다. 또한, 병목이 발생해서 다른 작업으로 통제권을 넘겨줄 필요가 있는 부분에서는 await를 써줍니다. 이때, await뒤에 오는 함수도 코루틴으로 작성되어 있어야 합니다. asyncio.sleep함수는 코루틴으로 구현되어 있기 때문에 비동기로 동작합니다. 따라서 time.sleep는 사용할 수 없습니다. (코루틴이 아닌 함수도 비동기에서 사용하는 법은 뒤에서 다룹니다.)\n",
    "\n",
    "코루틴으로 태스크를 만들었다면, asyncio.get_event_loop함수를 활용해 이벤트 루프를 정의하고 run_until_complete으로 실행시킬 수 있습니다."
   ]
  },
  {
   "cell_type": "code",
   "execution_count": 1,
   "metadata": {},
   "outputs": [
    {
     "name": "stdout",
     "output_type": "stream",
     "text": [
      "5.00266432762146s\n"
     ]
    }
   ],
   "source": [
    "import asyncio\n",
    "import time\n",
    "\n",
    "import nest_asyncio\n",
    "nest_asyncio.apply() # This module patches asyncio to allow nested (due to jupyter notebook)\n",
    "\n",
    "async def sleep():\n",
    "    await asyncio.sleep(5)\n",
    "    \n",
    "start = time.time()\n",
    "loop = asyncio.get_event_loop()  # 이벤트 루프 정의\n",
    "loop.run_until_complete(sleep()) # 이벤트 루프 실행\n",
    "end = time.time()\n",
    "\n",
    "print(str(end-start)+'s')"
   ]
  },
  {
   "cell_type": "markdown",
   "metadata": {},
   "source": [
    "### 비동기적 처리\n",
    "비동기로 두 개 이상의 작업(코루틴)을 돌릴 때에는 asyncio.gather 함수를 이용합니다. 이때, 각 태스크들은 unpacked 형태로 넣어주어야 합니다. 즉, asyncio.gather(coroutine_1(), coroutine_2())처럼 넣어주거나 asyncio.gather(*[coroutine_1(), coroutine_2()])처럼 넣어주어야 합니다.\n",
    "\n"
   ]
  },
  {
   "cell_type": "code",
   "execution_count": 2,
   "metadata": {},
   "outputs": [
    {
     "name": "stdout",
     "output_type": "stream",
     "text": [
      "start coroutine 2\n",
      "stop coroutine 2 for 5 sec\n",
      "start coroutine 1\n",
      "stop coroutine 1 for 5 sec\n",
      "restart corountine 2\n",
      "restart corountine 1\n",
      "time taken: 5.007002115249634\n"
     ]
    }
   ],
   "source": [
    "import asyncio\n",
    "import time\n",
    "\n",
    "import nest_asyncio\n",
    "nest_asyncio.apply() # This module patches asyncio to allow nested (due to jupyter notebook)\n",
    "\n",
    "async def coroutine_1():\n",
    "    print(\"start coroutine 1\")\n",
    "    print(\"stop coroutine 1 for 5 sec\")\n",
    "    await asyncio.sleep(5)\n",
    "    print(\"restart corountine 1\")\n",
    "    \n",
    "async def coroutine_2():\n",
    "    print(\"start coroutine 2\")\n",
    "    print(\"stop coroutine 2 for 5 sec\")\n",
    "    await asyncio.sleep(5)\n",
    "    print(\"restart corountine 2\")\n",
    "    \n",
    "if __name__ == '__main__':\n",
    "    loop = asyncio.get_event_loop()\n",
    "\n",
    "    start = time.time()\n",
    "    # 코루틴이 복수 일 경우에는 asyncio.gather()를 먼저 이용하며, 순서대로 스케줄링 된다.\n",
    "    loop.run_until_complete(asyncio.gather(coroutine_1(), coroutine_2()))\n",
    "    end = time.time()\n",
    "\n",
    "    print('time taken: {}'.format(end-start))"
   ]
  },
  {
   "cell_type": "markdown",
   "metadata": {},
   "source": [
    "### 코루틴으로 작성되지 않은 함수 비동기적으로 이용하기\n",
    "위에서 await뒤에 오는 함수 역시 코루틴으로 작성되어 있어야 비동기적인 작업을 할 수 있다고 했습니다. 파이썬의 대부분의 라이브러리들은 비동기를 고려하지 않고 만들어졌기 때문에 비동기로 이용할 수 없습니다. 하지만, 이벤트 루프의 run_in_executor함수를 이용하면 가능합니다.\n",
    "\n",
    "asyncio.get_event_loop()를 활용해서 현재 이벤트 루프를 loop라는 이름으로 받아오고, loop.run_in_executor를 사용하면 됩니다. 이 함수의 첫 번째 인자로는 concurrent.futures.Executor의 객체가 들어가고(None을 써주시면 asyncio의 내장 executor가 들어갑니다), 두 번째 인자로는 사용하고자 하는 함수, 그 이후의 인자(*args) 에는 사용하고자 하는 함수의 인자들을 써주면 됩니다.\n",
    "\n"
   ]
  },
  {
   "cell_type": "code",
   "execution_count": 3,
   "metadata": {},
   "outputs": [
    {
     "name": "stdout",
     "output_type": "stream",
     "text": [
      "start coroutine 1\n",
      "stop coroutine 1 for 5 sec\n",
      "start coroutine 2\n",
      "stop coroutine 2 for 4 sec\n",
      "restart corountine 2\n",
      "restart corountine 1\n",
      "time taken: 5.004380226135254\n"
     ]
    }
   ],
   "source": [
    "import asyncio\n",
    "import time\n",
    "\n",
    "import nest_asyncio\n",
    "nest_asyncio.apply() # This module patches asyncio to allow nested (due to jupyter notebook)\n",
    "\n",
    "async def coroutine_1():\n",
    "    print(\"start coroutine 1\")\n",
    "    print(\"stop coroutine 1 for 5 sec\")\n",
    "    \n",
    "    loop = asyncio.get_event_loop()\n",
    "    await loop.run_in_executor(None, time.sleep, 5)\n",
    "    \n",
    "    print(\"restart corountine 1\")\n",
    "    \n",
    "async def coroutine_2():\n",
    "    print(\"start coroutine 2\")\n",
    "    print(\"stop coroutine 2 for 4 sec\")\n",
    "    \n",
    "    loop = asyncio.get_event_loop()\n",
    "    await loop.run_in_executor(None, time.sleep, 4)\n",
    "\n",
    "    print(\"restart corountine 2\")\n",
    "    \n",
    "if __name__ == '__main__':\n",
    "    loop = asyncio.get_event_loop()\n",
    "    \n",
    "    start = time.time()\n",
    "    loop.run_until_complete(asyncio.gather(coroutine_1(), coroutine_2()))\n",
    "    end = time.time()\n",
    "    \n",
    "    print('time taken: {}'.format(end-start))"
   ]
  },
  {
   "cell_type": "markdown",
   "metadata": {},
   "source": [
    "### run_in_executor 과 asyncio.sleep를 이용하여 성능 비교하기\n",
    "asyncio.sleep을 사용한 것과 거의 유사한 결과를 볼 수 있습니다. 원리는 무엇일까요? 사실 이것은 비동기적 처리처럼 보이지만 실제로는 쓰레딩을 이용한 것이라고 할 수 있습니다. 첫번째 글에서 언급했던 멀티쓰레드기억나시나요? 비동기적 처리보다는 비효율적이었지만 작업이 완료되길 기다리고 다른 작업을 시작하는 것보다는 빠르게 작업을 처리할 수 있었습니다.\n",
    "\n",
    "하지만, 쓰레딩을 이용했을 때는 비용도 만만치 않았습니다. 파이썬에서는 GIL 때문에 쓰레드들이 동시에 작업이 불가능하기 때문에, 다른 쓰레드를 호출하는데 걸리는 시간을 낭비하게 됩니다. (컨텍스트 스위칭의 비용)"
   ]
  },
  {
   "cell_type": "code",
   "execution_count": 4,
   "metadata": {},
   "outputs": [
    {
     "name": "stdout",
     "output_type": "stream",
     "text": [
      "32.73939394950867\n"
     ]
    }
   ],
   "source": [
    "import asyncio\n",
    "import time\n",
    "from concurrent.futures import ThreadPoolExecutor\n",
    "\n",
    "async def sleep(executor=None):\n",
    "    loop = asyncio.get_event_loop()\n",
    "    await loop.run_in_executor(executor, time.sleep, 1)\n",
    "\n",
    "async def main():\n",
    "\n",
    "    # max_workers에 따라서 실행시간이 달라지는 것을 확인할 수 있다.\n",
    "    # (하지만 workers가 많아질수록 컨텍스트 스위칭 비용도 커진다.)\n",
    "    # None으로 하는 경우는 디폴트로 설정한 workers수가 작아서 인지 훨씬 더 오래걸린다.\n",
    "\n",
    "    executor = ThreadPoolExecutor(max_workers=10000)\n",
    "\n",
    "    # asyncio.ensure_future함수는 태스크를 현재 실행하지 않고,\n",
    "    # 이벤트 루프가 실행될 때 실행할 것을 보증해주는 함수\n",
    "    futures = [asyncio.ensure_future(sleep(executor)) for i in range(10000)]\n",
    "    await asyncio.gather(*futures)\n",
    "\n",
    "if __name__ == \"__main__\":\n",
    "    start = time.time()\n",
    "    # python 3.7부터는 이벤트 루프를 따로 명시적으로 지정하지 않고, asyncio.run으로 돌릴 수 있다.\n",
    "    asyncio.run(main())\n",
    "    end = time.time()\n",
    "    print('{}'.format(end-start))"
   ]
  },
  {
   "cell_type": "code",
   "execution_count": 5,
   "metadata": {},
   "outputs": [
    {
     "name": "stdout",
     "output_type": "stream",
     "text": [
      "1.6658589839935303\n"
     ]
    }
   ],
   "source": [
    "import asyncio\n",
    "import time\n",
    "\n",
    "async def sleep():\n",
    "    await asyncio.sleep(1)\n",
    "\n",
    "async def main():\n",
    "    # asyncio.sleep은 아무리 많아져도 비동기적으로 잘 돌아간다.\n",
    "    futures = [asyncio.ensure_future(sleep()) for i in range(10000)]\n",
    "    await asyncio.gather(*futures)\n",
    "\n",
    "if __name__ == \"__main__\":\n",
    "    start = time.time()\n",
    "    asyncio.run(main())\n",
    "    end = time.time()\n",
    "    print('{}'.format(end-start))"
   ]
  },
  {
   "cell_type": "markdown",
   "metadata": {},
   "source": [
    "### 비동기 프로그래밍 사례\n",
    "#### 동기적 방식\n",
    "비동기를 사용하면 네트워크 IO의 지연 때문에 낭비되는 시간을 줄일 수 있습니다. 온라인 사전사이트(네이버)에서 단어들의 의미를 크롤링하는 코드를 작성한다고 가정해봅시다. 동기적인 방식을 사용한다면 아래와 같이 코드를 작성할 수 있습니다."
   ]
  },
  {
   "cell_type": "code",
   "execution_count": 6,
   "metadata": {
    "scrolled": true
   },
   "outputs": [
    {
     "name": "stdout",
     "output_type": "stream",
     "text": [
      "Send request to https://endic.naver.com/search.nhn?sLn=kr&dicQuery=apple&query=apple&target=endic&ie=utf8&query_utf=&isOnlyViewEE=N\n",
      "Get request from https://endic.naver.com/search.nhn?sLn=kr&dicQuery=apple&query=apple&target=endic&ie=utf8&query_utf=&isOnlyViewEE=N\n",
      "======================================================================================================================================================\n",
      "Send request to https://endic.naver.com/search.nhn?sLn=kr&dicQuery=banana&query=banana&target=endic&ie=utf8&query_utf=&isOnlyViewEE=N\n",
      "Get request from https://endic.naver.com/search.nhn?sLn=kr&dicQuery=banana&query=banana&target=endic&ie=utf8&query_utf=&isOnlyViewEE=N\n",
      "======================================================================================================================================================\n",
      "Send request to https://endic.naver.com/search.nhn?sLn=kr&dicQuery=call&query=call&target=endic&ie=utf8&query_utf=&isOnlyViewEE=N\n",
      "Get request from https://endic.naver.com/search.nhn?sLn=kr&dicQuery=call&query=call&target=endic&ie=utf8&query_utf=&isOnlyViewEE=N\n",
      "======================================================================================================================================================\n",
      "Send request to https://endic.naver.com/search.nhn?sLn=kr&dicQuery=feel&query=feel&target=endic&ie=utf8&query_utf=&isOnlyViewEE=N\n",
      "Get request from https://endic.naver.com/search.nhn?sLn=kr&dicQuery=feel&query=feel&target=endic&ie=utf8&query_utf=&isOnlyViewEE=N\n",
      "======================================================================================================================================================\n",
      "Send request to https://endic.naver.com/search.nhn?sLn=kr&dicQuery=hello&query=hello&target=endic&ie=utf8&query_utf=&isOnlyViewEE=N\n",
      "Get request from https://endic.naver.com/search.nhn?sLn=kr&dicQuery=hello&query=hello&target=endic&ie=utf8&query_utf=&isOnlyViewEE=N\n",
      "======================================================================================================================================================\n",
      "Send request to https://endic.naver.com/search.nhn?sLn=kr&dicQuery=bye&query=bye&target=endic&ie=utf8&query_utf=&isOnlyViewEE=N\n",
      "Get request from https://endic.naver.com/search.nhn?sLn=kr&dicQuery=bye&query=bye&target=endic&ie=utf8&query_utf=&isOnlyViewEE=N\n",
      "======================================================================================================================================================\n",
      "Send request to https://endic.naver.com/search.nhn?sLn=kr&dicQuery=like&query=like&target=endic&ie=utf8&query_utf=&isOnlyViewEE=N\n",
      "Get request from https://endic.naver.com/search.nhn?sLn=kr&dicQuery=like&query=like&target=endic&ie=utf8&query_utf=&isOnlyViewEE=N\n",
      "======================================================================================================================================================\n",
      "Send request to https://endic.naver.com/search.nhn?sLn=kr&dicQuery=love&query=love&target=endic&ie=utf8&query_utf=&isOnlyViewEE=N\n",
      "Get request from https://endic.naver.com/search.nhn?sLn=kr&dicQuery=love&query=love&target=endic&ie=utf8&query_utf=&isOnlyViewEE=N\n",
      "======================================================================================================================================================\n",
      "Send request to https://endic.naver.com/search.nhn?sLn=kr&dicQuery=environmental&query=environmental&target=endic&ie=utf8&query_utf=&isOnlyViewEE=N\n",
      "Get request from https://endic.naver.com/search.nhn?sLn=kr&dicQuery=environmental&query=environmental&target=endic&ie=utf8&query_utf=&isOnlyViewEE=N\n",
      "======================================================================================================================================================\n",
      "Send request to https://endic.naver.com/search.nhn?sLn=kr&dicQuery=buzz&query=buzz&target=endic&ie=utf8&query_utf=&isOnlyViewEE=N\n",
      "Get request from https://endic.naver.com/search.nhn?sLn=kr&dicQuery=buzz&query=buzz&target=endic&ie=utf8&query_utf=&isOnlyViewEE=N\n",
      "======================================================================================================================================================\n",
      "Send request to https://endic.naver.com/search.nhn?sLn=kr&dicQuery=ambition&query=ambition&target=endic&ie=utf8&query_utf=&isOnlyViewEE=N\n",
      "Get request from https://endic.naver.com/search.nhn?sLn=kr&dicQuery=ambition&query=ambition&target=endic&ie=utf8&query_utf=&isOnlyViewEE=N\n",
      "======================================================================================================================================================\n",
      "Send request to https://endic.naver.com/search.nhn?sLn=kr&dicQuery=determine&query=determine&target=endic&ie=utf8&query_utf=&isOnlyViewEE=N\n",
      "Get request from https://endic.naver.com/search.nhn?sLn=kr&dicQuery=determine&query=determine&target=endic&ie=utf8&query_utf=&isOnlyViewEE=N\n",
      "======================================================================================================================================================\n",
      "time taken: 25.53209686279297\n"
     ]
    }
   ],
   "source": [
    "import requests\n",
    "import time\n",
    "from bs4 import BeautifulSoup\n",
    "\n",
    "def get_text_from_url(url):\n",
    "    print(\"Send request to {url}\".format(url=url))\n",
    "    res = requests.get(url, headers={'uesr-agent': 'Mozilla/5.0'})\n",
    "    print(\"Get request from {url}\".format(url=url))\n",
    "    text = BeautifulSoup(res.text, 'html.parser').text\n",
    "    return text\n",
    "\n",
    "if __name__ == '__main__':\n",
    "    start = time.time()\n",
    "    \n",
    "    base_url = 'https://endic.naver.com/search.nhn?sLn=kr&dicQuery={keyword}&query={keyword}&target=endic&ie=utf8&query_utf=&isOnlyViewEE=N'\n",
    "    keywords = ['apple', 'banana', 'call', 'feel',\n",
    "                'hello', 'bye', 'like', 'love', 'environmental',\n",
    "                'buzz', 'ambition', 'determine']\n",
    "\n",
    "    urls = [base_url.format(keyword=keyword) for keyword in keywords]\n",
    "    for url in urls:\n",
    "        text = get_text_from_url(url)\n",
    "        print(\"=\" * 150)            \n",
    "        #print(text[8100:9000].strip())\n",
    "        \n",
    "    end = time.time()\n",
    "    print(\"time taken: {}\".format(end-start))"
   ]
  },
  {
   "cell_type": "markdown",
   "metadata": {},
   "source": [
    "#### 비동기적 방식 (Asyncio + requests)\n",
    "이번에는 비동기적으로 코드를 작성해봅시다. requests는 비동기적으로 작성되지 않았기 때문에 loop.run_in_executor를 통해 쓰레드를 만드는 방식을 사용합니다."
   ]
  },
  {
   "cell_type": "code",
   "execution_count": 7,
   "metadata": {},
   "outputs": [
    {
     "name": "stdout",
     "output_type": "stream",
     "text": [
      "Send request to https://endic.naver.com/search.nhn?sLn=kr&dicQuery=apple&query=apple&target=endic&ie=utf8&query_utf=&isOnlyViewEE=N\n",
      "Send request to https://endic.naver.com/search.nhn?sLn=kr&dicQuery=banana&query=banana&target=endic&ie=utf8&query_utf=&isOnlyViewEE=N\n",
      "Send request to https://endic.naver.com/search.nhn?sLn=kr&dicQuery=call&query=call&target=endic&ie=utf8&query_utf=&isOnlyViewEE=N\n",
      "Send request to https://endic.naver.com/search.nhn?sLn=kr&dicQuery=feel&query=feel&target=endic&ie=utf8&query_utf=&isOnlyViewEE=N\n",
      "Send request to https://endic.naver.com/search.nhn?sLn=kr&dicQuery=hello&query=hello&target=endic&ie=utf8&query_utf=&isOnlyViewEE=N\n",
      "Send request to https://endic.naver.com/search.nhn?sLn=kr&dicQuery=bye&query=bye&target=endic&ie=utf8&query_utf=&isOnlyViewEE=N\n",
      "Send request to https://endic.naver.com/search.nhn?sLn=kr&dicQuery=like&query=like&target=endic&ie=utf8&query_utf=&isOnlyViewEE=N\n",
      "Send request to https://endic.naver.com/search.nhn?sLn=kr&dicQuery=love&query=love&target=endic&ie=utf8&query_utf=&isOnlyViewEE=N\n",
      "Send request to https://endic.naver.com/search.nhn?sLn=kr&dicQuery=environmental&query=environmental&target=endic&ie=utf8&query_utf=&isOnlyViewEE=N\n",
      "Send request to https://endic.naver.com/search.nhn?sLn=kr&dicQuery=buzz&query=buzz&target=endic&ie=utf8&query_utf=&isOnlyViewEE=N\n",
      "Send request to https://endic.naver.com/search.nhn?sLn=kr&dicQuery=ambition&query=ambition&target=endic&ie=utf8&query_utf=&isOnlyViewEE=N\n",
      "Send request to https://endic.naver.com/search.nhn?sLn=kr&dicQuery=determine&query=determine&target=endic&ie=utf8&query_utf=&isOnlyViewEE=N\n",
      "Get request from https://endic.naver.com/search.nhn?sLn=kr&dicQuery=call&query=call&target=endic&ie=utf8&query_utf=&isOnlyViewEE=N\n",
      "======================================================================================================================================================\n",
      "Get request from https://endic.naver.com/search.nhn?sLn=kr&dicQuery=banana&query=banana&target=endic&ie=utf8&query_utf=&isOnlyViewEE=N\n",
      "======================================================================================================================================================\n",
      "Get request from https://endic.naver.com/search.nhn?sLn=kr&dicQuery=apple&query=apple&target=endic&ie=utf8&query_utf=&isOnlyViewEE=N\n",
      "======================================================================================================================================================\n",
      "Get request from https://endic.naver.com/search.nhn?sLn=kr&dicQuery=hello&query=hello&target=endic&ie=utf8&query_utf=&isOnlyViewEE=N\n",
      "======================================================================================================================================================\n",
      "Get request from https://endic.naver.com/search.nhn?sLn=kr&dicQuery=feel&query=feel&target=endic&ie=utf8&query_utf=&isOnlyViewEE=N\n",
      "======================================================================================================================================================\n",
      "Get request from https://endic.naver.com/search.nhn?sLn=kr&dicQuery=bye&query=bye&target=endic&ie=utf8&query_utf=&isOnlyViewEE=N\n",
      "======================================================================================================================================================\n",
      "Get request from https://endic.naver.com/search.nhn?sLn=kr&dicQuery=like&query=like&target=endic&ie=utf8&query_utf=&isOnlyViewEE=N\n",
      "======================================================================================================================================================\n",
      "Get request from https://endic.naver.com/search.nhn?sLn=kr&dicQuery=buzz&query=buzz&target=endic&ie=utf8&query_utf=&isOnlyViewEE=N\n",
      "======================================================================================================================================================\n",
      "Get request from https://endic.naver.com/search.nhn?sLn=kr&dicQuery=ambition&query=ambition&target=endic&ie=utf8&query_utf=&isOnlyViewEE=N\n",
      "======================================================================================================================================================\n",
      "Get request from https://endic.naver.com/search.nhn?sLn=kr&dicQuery=environmental&query=environmental&target=endic&ie=utf8&query_utf=&isOnlyViewEE=N\n",
      "======================================================================================================================================================\n",
      "Get request from https://endic.naver.com/search.nhn?sLn=kr&dicQuery=determine&query=determine&target=endic&ie=utf8&query_utf=&isOnlyViewEE=N\n",
      "======================================================================================================================================================\n",
      "Get request from https://endic.naver.com/search.nhn?sLn=kr&dicQuery=love&query=love&target=endic&ie=utf8&query_utf=&isOnlyViewEE=N\n",
      "======================================================================================================================================================\n",
      "time taken: 1.435554027557373\n"
     ]
    }
   ],
   "source": [
    "import requests\n",
    "import time\n",
    "import asyncio\n",
    "from functools import partial\n",
    "from bs4 import BeautifulSoup\n",
    "\n",
    "\n",
    "async def get_text_from_url(url):  # 코루틴 정의\n",
    "    print(\"Send request to {url}\".format(url=url))\n",
    "    loop = asyncio.get_event_loop()\n",
    "\n",
    "    # loop.run_in_executor는 kwargs(keyword arguments)를 사용할 수 없기 때문에 functools.partial을 활용\n",
    "    request = partial(requests.get, url, headers={'user-agent': 'Mozilla/5.0'})\n",
    "    # ascyncio의 디폴트 쓰레드풀을 사용할 경우 첫번째 인자로 None\n",
    "    # 직접 쓰레드풀을 만들 경우 concurrent.futures.threadpoolexecutor 사용\n",
    "    res = await loop.run_in_executor(None, request)\n",
    "    print(\"Get request from {url}\".format(url=url))\n",
    "    text = BeautifulSoup(res.text, 'html.parser').text\n",
    "    print(\"=\" * 150)    \n",
    "    #print(text[8100:9000].strip())\n",
    "\n",
    "\n",
    "async def main():\n",
    "    base_url = 'https://endic.naver.com/search.nhn?sLn=kr&dicQuery={keyword}&query={keyword}&target=endic&ie=utf8&query_utf=&isOnlyViewEE=N'\n",
    "    keywords = ['apple', 'banana', 'call', 'feel',\n",
    "                'hello', 'bye', 'like', 'love', 'environmental',\n",
    "                'buzz', 'ambition', 'determine']\n",
    "\n",
    "    # 아직 실행된 것이 아니라, 실행할 것을 계획하는 단계\n",
    "    futures = [asyncio.ensure_future(get_text_from_url(\n",
    "        base_url.format(keyword=keyword))) for keyword in keywords]\n",
    "\n",
    "    await asyncio.gather(*futures)\n",
    "\n",
    "if __name__ == \"__main__\":\n",
    "    start = time.time()\n",
    "    loop = asyncio.get_event_loop()\n",
    "    loop.run_until_complete(main())\n",
    "    end = time.time()\n",
    "    print(\"time taken: {}\".format(end-start))"
   ]
  },
  {
   "cell_type": "markdown",
   "metadata": {},
   "source": [
    "#### 비동기적 방식 (asyncio + aiohttp)\n",
    "하지만, requests모듈은 코루틴으로 만들어진 모듈이 아니기 때문에 위의 코드는 내부적으로 쓰레드를 만들어 동작합니다. 따라서, 요청의 수가 많아질수록 컨텍스트 스위칭의 비용이 발생합니다. 비동기 HTTP통신 라이브러리인 aiohttp를 이용하면 코루틴을 이용한 비동기 방식을 이용할 수 있습니다."
   ]
  },
  {
   "cell_type": "code",
   "execution_count": 8,
   "metadata": {
    "scrolled": false
   },
   "outputs": [
    {
     "name": "stdout",
     "output_type": "stream",
     "text": [
      "Send request to https://endic.naver.com/search.nhn?sLn=kr&dicQuery=apple&query=apple&target=endic&ie=utf8&query_utf=&isOnlyViewEE=N\n",
      "Send request to https://endic.naver.com/search.nhn?sLn=kr&dicQuery=banana&query=banana&target=endic&ie=utf8&query_utf=&isOnlyViewEE=N\n",
      "Send request to https://endic.naver.com/search.nhn?sLn=kr&dicQuery=call&query=call&target=endic&ie=utf8&query_utf=&isOnlyViewEE=N\n",
      "Send request to https://endic.naver.com/search.nhn?sLn=kr&dicQuery=feel&query=feel&target=endic&ie=utf8&query_utf=&isOnlyViewEE=N\n",
      "Send request to https://endic.naver.com/search.nhn?sLn=kr&dicQuery=hello&query=hello&target=endic&ie=utf8&query_utf=&isOnlyViewEE=N\n",
      "Send request to https://endic.naver.com/search.nhn?sLn=kr&dicQuery=bye&query=bye&target=endic&ie=utf8&query_utf=&isOnlyViewEE=N\n",
      "Send request to https://endic.naver.com/search.nhn?sLn=kr&dicQuery=like&query=like&target=endic&ie=utf8&query_utf=&isOnlyViewEE=N\n",
      "Send request to https://endic.naver.com/search.nhn?sLn=kr&dicQuery=love&query=love&target=endic&ie=utf8&query_utf=&isOnlyViewEE=N\n",
      "Send request to https://endic.naver.com/search.nhn?sLn=kr&dicQuery=environmental&query=environmental&target=endic&ie=utf8&query_utf=&isOnlyViewEE=N\n",
      "Send request to https://endic.naver.com/search.nhn?sLn=kr&dicQuery=buzz&query=buzz&target=endic&ie=utf8&query_utf=&isOnlyViewEE=N\n",
      "Send request to https://endic.naver.com/search.nhn?sLn=kr&dicQuery=ambition&query=ambition&target=endic&ie=utf8&query_utf=&isOnlyViewEE=N\n",
      "Send request to https://endic.naver.com/search.nhn?sLn=kr&dicQuery=determine&query=determine&target=endic&ie=utf8&query_utf=&isOnlyViewEE=N\n",
      "Get request to https://endic.naver.com/search.nhn?sLn=kr&dicQuery=apple&query=apple&target=endic&ie=utf8&query_utf=&isOnlyViewEE=N\n",
      "======================================================================================================================================================\n",
      "Get request to https://endic.naver.com/search.nhn?sLn=kr&dicQuery=determine&query=determine&target=endic&ie=utf8&query_utf=&isOnlyViewEE=N\n",
      "======================================================================================================================================================\n",
      "Get request to https://endic.naver.com/search.nhn?sLn=kr&dicQuery=call&query=call&target=endic&ie=utf8&query_utf=&isOnlyViewEE=N\n",
      "======================================================================================================================================================\n",
      "Get request to https://endic.naver.com/search.nhn?sLn=kr&dicQuery=banana&query=banana&target=endic&ie=utf8&query_utf=&isOnlyViewEE=N\n",
      "======================================================================================================================================================\n",
      "Get request to https://endic.naver.com/search.nhn?sLn=kr&dicQuery=feel&query=feel&target=endic&ie=utf8&query_utf=&isOnlyViewEE=N\n",
      "======================================================================================================================================================\n",
      "Get request to https://endic.naver.com/search.nhn?sLn=kr&dicQuery=hello&query=hello&target=endic&ie=utf8&query_utf=&isOnlyViewEE=N\n",
      "======================================================================================================================================================\n",
      "Get request to https://endic.naver.com/search.nhn?sLn=kr&dicQuery=love&query=love&target=endic&ie=utf8&query_utf=&isOnlyViewEE=N\n",
      "======================================================================================================================================================\n",
      "Get request to https://endic.naver.com/search.nhn?sLn=kr&dicQuery=bye&query=bye&target=endic&ie=utf8&query_utf=&isOnlyViewEE=N\n",
      "======================================================================================================================================================\n",
      "Get request to https://endic.naver.com/search.nhn?sLn=kr&dicQuery=ambition&query=ambition&target=endic&ie=utf8&query_utf=&isOnlyViewEE=N\n",
      "======================================================================================================================================================\n",
      "Get request to https://endic.naver.com/search.nhn?sLn=kr&dicQuery=buzz&query=buzz&target=endic&ie=utf8&query_utf=&isOnlyViewEE=N\n",
      "======================================================================================================================================================\n",
      "Get request to https://endic.naver.com/search.nhn?sLn=kr&dicQuery=like&query=like&target=endic&ie=utf8&query_utf=&isOnlyViewEE=N\n",
      "======================================================================================================================================================\n",
      "Get request to https://endic.naver.com/search.nhn?sLn=kr&dicQuery=environmental&query=environmental&target=endic&ie=utf8&query_utf=&isOnlyViewEE=N\n",
      "======================================================================================================================================================\n",
      "time taken: 1.4378976821899414\n"
     ]
    }
   ],
   "source": [
    "import time\n",
    "import asyncio\n",
    "# aiohttp 설치 필요\n",
    "import aiohttp\n",
    "from bs4 import BeautifulSoup\n",
    "\n",
    "\n",
    "async def get_text_from_url(url):  # 코루틴 정의\n",
    "    print(\"Send request to {url}\".format(url=url))\n",
    "\n",
    "    async with aiohttp.ClientSession() as sess:\n",
    "        async with sess.get(url, headers={'user-agent': 'Mozilla/5.0'}) as res:\n",
    "            text = await res.text()\n",
    "\n",
    "    print(\"Get request to {url}\".format(url=url))\n",
    "    text = BeautifulSoup(text, 'html.parser').text\n",
    "    print(\"=\" * 150)\n",
    "    #print(text[8000:8300].strip())\n",
    "\n",
    "\n",
    "async def main():\n",
    "    base_url = 'https://endic.naver.com/search.nhn?sLn=kr&dicQuery={keyword}&query={keyword}&target=endic&ie=utf8&query_utf=&isOnlyViewEE=N'\n",
    "    keywords = ['apple', 'banana', 'call', 'feel',\n",
    "                'hello', 'bye', 'like', 'love', 'environmental',\n",
    "                'buzz', 'ambition', 'determine']\n",
    "\n",
    "    # 아직 실행된 것이 아니라, 실행할 것을 계획하는 단계\n",
    "    futures = [asyncio.ensure_future(get_text_from_url(\n",
    "        base_url.format(keyword=keyword))) for keyword in keywords]\n",
    "\n",
    "    await asyncio.gather(*futures)\n",
    "\n",
    "if __name__ == \"__main__\":\n",
    "\n",
    "    start = time.time()\n",
    "    loop = asyncio.get_event_loop()\n",
    "    loop.run_until_complete(main())\n",
    "    end = time.time()\n",
    "    print(\"time taken: {}\".format(end-start))"
   ]
  }
 ],
 "metadata": {
  "kernelspec": {
   "display_name": "Python 3",
   "language": "python",
   "name": "python3"
  },
  "language_info": {
   "codemirror_mode": {
    "name": "ipython",
    "version": 3
   },
   "file_extension": ".py",
   "mimetype": "text/x-python",
   "name": "python",
   "nbconvert_exporter": "python",
   "pygments_lexer": "ipython3",
   "version": "3.5.2"
  }
 },
 "nbformat": 4,
 "nbformat_minor": 2
}
