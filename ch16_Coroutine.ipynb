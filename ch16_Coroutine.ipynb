{
 "cells": [
  {
   "cell_type": "markdown",
   "metadata": {},
   "source": [
    "## 16. 코루틴\n",
    "### 16.2 코루틴으로 사용되는 제너레이터의 기본 동작\n",
    "\n",
    "예제 16-1은 코루틴의 동작을 보여준다."
   ]
  },
  {
   "cell_type": "code",
   "execution_count": 1,
   "metadata": {},
   "outputs": [
    {
     "name": "stdout",
     "output_type": "stream",
     "text": [
      "<generator object simple_coroutine at 0x000002E599D62990>\n"
     ]
    }
   ],
   "source": [
    "\"\"\" [예제 16-1] 가장 간단한 코루틴 사용 \"\"\"\n",
    "from inspect import getgeneratorstate\n",
    "\n",
    "def simple_coroutine(): # 코루틴은 자신의 본체 안에 yield문을 가진 일종의 제너레이터 함수로 정의된다.\n",
    "    print('-> coroutine started')\n",
    "    x = yield # yield를 표현식에 사용한다. 단지 호출자에 데이터를 받도록 설계하면 yield는 값을 생성하지 않는다.\n",
    "    print('-> coroutine received:', x)\n",
    "    \n",
    "my_coro = simple_coroutine() # 일반적인 제너레이터와 마찬가지로 함수를 호출해서 제너레이터 객체를 가져온다.\n",
    "print(repr(my_coro))"
   ]
  },
  {
   "cell_type": "code",
   "execution_count": 2,
   "metadata": {},
   "outputs": [
    {
     "name": "stdout",
     "output_type": "stream",
     "text": [
      "GEN_CREATED\n",
      "-> coroutine started\n",
      "GEN_SUSPENDED\n"
     ]
    }
   ],
   "source": [
    "print(getgeneratorstate(my_coro))\n",
    "next(my_coro) # next()를 호출해서 제너레이터를 yield문 까지 실행함으로써 데이터를 전송할 수 있는 상태를 만든다.\n",
    "print(getgeneratorstate(my_coro))"
   ]
  },
  {
   "cell_type": "code",
   "execution_count": 3,
   "metadata": {},
   "outputs": [
    {
     "name": "stdout",
     "output_type": "stream",
     "text": [
      "GEN_SUSPENDED\n",
      "-> coroutine received: 42\n"
     ]
    },
    {
     "ename": "StopIteration",
     "evalue": "",
     "output_type": "error",
     "traceback": [
      "\u001b[1;31m---------------------------------------------------------------------------\u001b[0m",
      "\u001b[1;31mStopIteration\u001b[0m                             Traceback (most recent call last)",
      "\u001b[1;32m<ipython-input-3-b03077699b22>\u001b[0m in \u001b[0;36m<module>\u001b[1;34m()\u001b[0m\n\u001b[0;32m      1\u001b[0m \u001b[0mprint\u001b[0m\u001b[1;33m(\u001b[0m\u001b[0mgetgeneratorstate\u001b[0m\u001b[1;33m(\u001b[0m\u001b[0mmy_coro\u001b[0m\u001b[1;33m)\u001b[0m\u001b[1;33m)\u001b[0m\u001b[1;33m\u001b[0m\u001b[0m\n\u001b[1;32m----> 2\u001b[1;33m \u001b[0mmy_coro\u001b[0m\u001b[1;33m.\u001b[0m\u001b[0msend\u001b[0m\u001b[1;33m(\u001b[0m\u001b[1;36m42\u001b[0m\u001b[1;33m)\u001b[0m \u001b[1;31m# 제너레이터의 send() 메서드를 호출해서 코루틴 본체 안의 yield 문의 값을 42로 만든다.\u001b[0m\u001b[1;33m\u001b[0m\u001b[0m\n\u001b[0m\u001b[0;32m      3\u001b[0m                  \u001b[1;31m# 이제 코루틴이 실행을 재개해서 다음 yield문이 나오거나 종료될 때까지 실행한다.\u001b[0m\u001b[1;33m\u001b[0m\u001b[1;33m\u001b[0m\u001b[0m\n\u001b[0;32m      4\u001b[0m                  \u001b[1;31m# 제어흐름이 코루틴 본체의 끝에 도달하므로, 일반적인 제너레이터와 마찬가지로 StopIteration 예외를 발생시킨다.\u001b[0m\u001b[1;33m\u001b[0m\u001b[1;33m\u001b[0m\u001b[0m\n",
      "\u001b[1;31mStopIteration\u001b[0m: "
     ]
    }
   ],
   "source": [
    "print(getgeneratorstate(my_coro))\n",
    "my_coro.send(42) # 제너레이터의 send() 메서드를 호출해서 코루틴 본체 안의 yield 문의 값을 42로 만든다.\n",
    "                 # 이제 코루틴이 실행을 재개해서 다음 yield문이 나오거나 종료될 때까지 실행한다.\n",
    "                 # 제어흐름이 코루틴 본체의 끝에 도달하므로, 일반적인 제너레이터와 마찬가지로 StopIteration 예외를 발생시킨다."
   ]
  },
  {
   "cell_type": "code",
   "execution_count": 4,
   "metadata": {},
   "outputs": [
    {
     "name": "stdout",
     "output_type": "stream",
     "text": [
      "GEN_CLOSED\n"
     ]
    }
   ],
   "source": [
    "print(getgeneratorstate(my_coro))"
   ]
  },
  {
   "cell_type": "markdown",
   "metadata": {},
   "source": [
    "코루틴은 네 가지 상태를 가진다. inspect.getgeneratorstate( ) 함수를 이용해서 현재 상태를 알 수 있다.\n",
    "+ GEN_CREATE    : 실행을 시작하기 위해 대기하고 있는 상태\n",
    "+ GEN_RUNNING   : 현재 인터프리터가 실행하고 있는 상태\n",
    "+ GEN_SUSPERNED : yield문에서 대기하고 있는 상태\n",
    "+ GEN_CLOSED    : 실행이 완료된 상태\n",
    "\n",
    "코루틴 객체를 생성하고 난 직후(GEN_CREATE 상태)에 바로 None이 아닌 값을 전달하려고 하면 다음과 같은 오류가 발생한다. 처음 next(my_coro)를 호출할 때, 코루틴을 기동<sub>priming</sub> 한다고 표현한다. 즉, 코루틴이 호출자로부터 값을 받을 수 있도록 처음 yield문까지 실행을 진행하는 것이다."
   ]
  },
  {
   "cell_type": "code",
   "execution_count": 5,
   "metadata": {},
   "outputs": [
    {
     "ename": "TypeError",
     "evalue": "can't send non-None value to a just-started generator",
     "output_type": "error",
     "traceback": [
      "\u001b[1;31m---------------------------------------------------------------------------\u001b[0m",
      "\u001b[1;31mTypeError\u001b[0m                                 Traceback (most recent call last)",
      "\u001b[1;32m<ipython-input-5-a91f04474ae8>\u001b[0m in \u001b[0;36m<module>\u001b[1;34m()\u001b[0m\n\u001b[0;32m      1\u001b[0m \u001b[0mmy_coro\u001b[0m \u001b[1;33m=\u001b[0m \u001b[0msimple_coroutine\u001b[0m\u001b[1;33m(\u001b[0m\u001b[1;33m)\u001b[0m\u001b[1;33m\u001b[0m\u001b[0m\n\u001b[1;32m----> 2\u001b[1;33m \u001b[0mmy_coro\u001b[0m\u001b[1;33m.\u001b[0m\u001b[0msend\u001b[0m\u001b[1;33m(\u001b[0m\u001b[1;36m1729\u001b[0m\u001b[1;33m)\u001b[0m\u001b[1;33m\u001b[0m\u001b[0m\n\u001b[0m",
      "\u001b[1;31mTypeError\u001b[0m: can't send non-None value to a just-started generator"
     ]
    }
   ],
   "source": [
    "my_coro = simple_coroutine()\n",
    "my_coro.send(1729)"
   ]
  },
  {
   "cell_type": "code",
   "execution_count": 6,
   "metadata": {},
   "outputs": [
    {
     "data": {
      "text/plain": [
       "'GEN_CREATED'"
      ]
     },
     "execution_count": 6,
     "metadata": {},
     "output_type": "execute_result"
    }
   ],
   "source": [
    "\"\"\" [예제 16-2] 두 번 생성하는 코루틴 \"\"\"\n",
    "\n",
    "def simple_coro2(a):\n",
    "    print('-> Started: a =', a)\n",
    "    b = yield a\n",
    "    print('-> Received: b =', b)\n",
    "    c = yield a + b\n",
    "    print('-> Received: c =', c)\n",
    "\n",
    "my_coro2 = simple_coro2(14)\n",
    "getgeneratorstate(my_coro2)"
   ]
  },
  {
   "cell_type": "code",
   "execution_count": 7,
   "metadata": {},
   "outputs": [
    {
     "name": "stdout",
     "output_type": "stream",
     "text": [
      "-> Started: a = 14\n"
     ]
    },
    {
     "data": {
      "text/plain": [
       "14"
      ]
     },
     "execution_count": 7,
     "metadata": {},
     "output_type": "execute_result"
    }
   ],
   "source": [
    "next(my_coro2)"
   ]
  },
  {
   "cell_type": "code",
   "execution_count": 8,
   "metadata": {},
   "outputs": [
    {
     "data": {
      "text/plain": [
       "'GEN_SUSPENDED'"
      ]
     },
     "execution_count": 8,
     "metadata": {},
     "output_type": "execute_result"
    }
   ],
   "source": [
    "getgeneratorstate(my_coro2)"
   ]
  },
  {
   "cell_type": "code",
   "execution_count": 9,
   "metadata": {},
   "outputs": [
    {
     "name": "stdout",
     "output_type": "stream",
     "text": [
      "-> Received: b = 42\n"
     ]
    },
    {
     "data": {
      "text/plain": [
       "56"
      ]
     },
     "execution_count": 9,
     "metadata": {},
     "output_type": "execute_result"
    }
   ],
   "source": [
    "my_coro2.send(42)"
   ]
  },
  {
   "cell_type": "code",
   "execution_count": 10,
   "metadata": {},
   "outputs": [
    {
     "name": "stdout",
     "output_type": "stream",
     "text": [
      "-> Received: c = 99\n"
     ]
    },
    {
     "ename": "StopIteration",
     "evalue": "",
     "output_type": "error",
     "traceback": [
      "\u001b[1;31m---------------------------------------------------------------------------\u001b[0m",
      "\u001b[1;31mStopIteration\u001b[0m                             Traceback (most recent call last)",
      "\u001b[1;32m<ipython-input-10-977093b924ab>\u001b[0m in \u001b[0;36m<module>\u001b[1;34m()\u001b[0m\n\u001b[1;32m----> 1\u001b[1;33m \u001b[0mmy_coro2\u001b[0m\u001b[1;33m.\u001b[0m\u001b[0msend\u001b[0m\u001b[1;33m(\u001b[0m\u001b[1;36m99\u001b[0m\u001b[1;33m)\u001b[0m\u001b[1;33m\u001b[0m\u001b[0m\n\u001b[0m",
      "\u001b[1;31mStopIteration\u001b[0m: "
     ]
    }
   ],
   "source": [
    "my_coro2.send(99)"
   ]
  },
  {
   "cell_type": "code",
   "execution_count": 11,
   "metadata": {},
   "outputs": [
    {
     "data": {
      "text/plain": [
       "'GEN_CLOSED'"
      ]
     },
     "execution_count": 11,
     "metadata": {},
     "output_type": "execute_result"
    }
   ],
   "source": [
    "getgeneratorstate(my_coro2)"
   ]
  },
  {
   "cell_type": "markdown",
   "metadata": {},
   "source": [
    "[그림 16-1] simple_coro2 코루틴을 실행하는 3 단계. 각 단계는 yield 표현식에서 끝나며, 다음 단계는 yield 표현식의 값을 변수에 할당하는 동일 행에서 시작한다. \n",
    "<img src=\"Figure16-1.png\">"
   ]
  },
  {
   "cell_type": "markdown",
   "metadata": {},
   "source": [
    "### 16.3 이동 평균을 계산하는 코루틴\n",
    "예제 7-14에서 클로저를 생성해서 total과 count 변수를 보전하는 고급함수와 비교해보자."
   ]
  },
  {
   "cell_type": "code",
   "execution_count": 12,
   "metadata": {},
   "outputs": [
    {
     "data": {
      "text/plain": [
       "(10.0, 10.5, 11.0)"
      ]
     },
     "execution_count": 12,
     "metadata": {},
     "output_type": "execute_result"
    }
   ],
   "source": [
    "\"\"\" [예제 7-14] nonlocal 키워드로 오류 해결 \"\"\"\n",
    "def make_averager():\n",
    "    count = 0\n",
    "    total = 0\n",
    "    \n",
    "    def averager(new_value):\n",
    "        nonlocal count, total\n",
    "        count += 1\n",
    "        total += new_value\n",
    "        return total/count\n",
    "    \n",
    "    return averager\n",
    "\n",
    "avg = make_averager() \n",
    "avg(10), avg(11), avg(12)"
   ]
  },
  {
   "cell_type": "code",
   "execution_count": 13,
   "metadata": {},
   "outputs": [],
   "source": [
    "\"\"\" [예제 16-3, 4] 이동 평균 코루틴과 doctest \"\"\"\n",
    "def averager():\n",
    "    count = 0\n",
    "    total = 0\n",
    "    average = None\n",
    "    \n",
    "    while True: # 무한 푸르이므로 이 코루틴은 호출자가 값을 보내주는 한 계속해서 값을 받고 결과를 생성한다. 이 코루틴은 호출자가 close() 메서드를 호출하거나,\n",
    "                # 이 객체에 대한 참조가 모두 사라져서 가비지 컬렉트되어야 종료된다. \n",
    "        term = yield average # 이 yield 문은 코루틴을 중단하고 지금까지의 평균을 생성하기 위해 사용된다. \n",
    "        total += term\n",
    "        count += 1\n",
    "        average = total/count\n",
    "\n",
    "coro_avg = averager()\n",
    "next(coro_avg)"
   ]
  },
  {
   "cell_type": "code",
   "execution_count": 14,
   "metadata": {},
   "outputs": [
    {
     "data": {
      "text/plain": [
       "18.0"
      ]
     },
     "execution_count": 14,
     "metadata": {},
     "output_type": "execute_result"
    }
   ],
   "source": [
    "coro_avg.send(18)"
   ]
  },
  {
   "cell_type": "code",
   "execution_count": 15,
   "metadata": {},
   "outputs": [
    {
     "data": {
      "text/plain": [
       "24.0"
      ]
     },
     "execution_count": 15,
     "metadata": {},
     "output_type": "execute_result"
    }
   ],
   "source": [
    "coro_avg.send(30)"
   ]
  },
  {
   "cell_type": "code",
   "execution_count": 16,
   "metadata": {},
   "outputs": [
    {
     "data": {
      "text/plain": [
       "17.666666666666668"
      ]
     },
     "execution_count": 16,
     "metadata": {},
     "output_type": "execute_result"
    }
   ],
   "source": [
    "coro_avg.send(5)"
   ]
  },
  {
   "cell_type": "markdown",
   "metadata": {},
   "source": [
    "### 16.4 코루틴을 기동하기 위한 데커레이터\n",
    "코루틴을 편리하게 사용할 수 있도록 기동하는 데커레이터가 종종 사용된다. @coroutine가 대표적이다."
   ]
  },
  {
   "cell_type": "code",
   "execution_count": 17,
   "metadata": {},
   "outputs": [],
   "source": [
    "\"\"\" [예제 16-5] 코루틴을 기동하기 위한 데커레이터. (yield from과 함께 사용 불가능) \"\"\"\n",
    "from functools import wraps\n",
    "\n",
    "def coroutine(func):\n",
    "    \"\"\" 데커레이터: 'func'를 기동해서 첫 번째 'yield'까지 진행한다. \"\"\"\n",
    "    @wraps(func)                    # 데커레이트된 제너레이터 함수는 primer() 함수로 치환되며, 실행하면 기동된 제너레이터를 반환한다.\n",
    "    def primer(*args, **kwargs):    # 데커레이트된 함수를 호출해서 제너레이터 객체를 가져온다.\n",
    "        gen = func(*args, **kwargs) # 제너레이터를 기동한다.\n",
    "        next(gen)                   # 제너레이터를 반환한다.\n",
    "        return gen\n",
    "    return primer"
   ]
  },
  {
   "cell_type": "code",
   "execution_count": 18,
   "metadata": {},
   "outputs": [],
   "source": [
    "@coroutine\n",
    "def averager():\n",
    "    count = 0\n",
    "    total = 0\n",
    "    average = None\n",
    "    \n",
    "    while True:\n",
    "        term = yield average \n",
    "        total += term\n",
    "        count += 1\n",
    "        average = total/count"
   ]
  },
  {
   "cell_type": "code",
   "execution_count": 19,
   "metadata": {},
   "outputs": [
    {
     "data": {
      "text/plain": [
       "'GEN_SUSPENDED'"
      ]
     },
     "execution_count": 19,
     "metadata": {},
     "output_type": "execute_result"
    }
   ],
   "source": [
    "coro_avg = averager()\n",
    "\n",
    "from inspect import getgeneratorstate\n",
    "getgeneratorstate(coro_avg)"
   ]
  },
  {
   "cell_type": "code",
   "execution_count": 20,
   "metadata": {},
   "outputs": [
    {
     "data": {
      "text/plain": [
       "18.0"
      ]
     },
     "execution_count": 20,
     "metadata": {},
     "output_type": "execute_result"
    }
   ],
   "source": [
    "coro_avg.send(18)"
   ]
  },
  {
   "cell_type": "code",
   "execution_count": 21,
   "metadata": {},
   "outputs": [
    {
     "data": {
      "text/plain": [
       "24.0"
      ]
     },
     "execution_count": 21,
     "metadata": {},
     "output_type": "execute_result"
    }
   ],
   "source": [
    "coro_avg.send(30)"
   ]
  },
  {
   "cell_type": "code",
   "execution_count": 22,
   "metadata": {},
   "outputs": [
    {
     "data": {
      "text/plain": [
       "17.666666666666668"
      ]
     },
     "execution_count": 22,
     "metadata": {},
     "output_type": "execute_result"
    }
   ],
   "source": [
    "coro_avg.send(5)"
   ]
  },
  {
   "cell_type": "markdown",
   "metadata": {},
   "source": [
    "### 16.5 코루틴 종료와 예외 처리\n",
    "코루틴 안에서 발생한 예외를 처리하지 않으면, next( )나 send( )로 코루틴을 호출한 호출자에 예외가 전파된다."
   ]
  },
  {
   "cell_type": "code",
   "execution_count": 23,
   "metadata": {},
   "outputs": [
    {
     "data": {
      "text/plain": [
       "45.0"
      ]
     },
     "execution_count": 23,
     "metadata": {},
     "output_type": "execute_result"
    }
   ],
   "source": [
    "\"\"\" [예제 16-7] 처리하지 않은 예외에 의한 코루틴 종료 \"\"\"\n",
    "coro_avg = averager()\n",
    "coro_avg.send(40)\n",
    "coro_avg.send(50)"
   ]
  },
  {
   "cell_type": "code",
   "execution_count": 24,
   "metadata": {},
   "outputs": [
    {
     "ename": "TypeError",
     "evalue": "unsupported operand type(s) for +=: 'int' and 'str'",
     "output_type": "error",
     "traceback": [
      "\u001b[1;31m---------------------------------------------------------------------------\u001b[0m",
      "\u001b[1;31mTypeError\u001b[0m                                 Traceback (most recent call last)",
      "\u001b[1;32m<ipython-input-24-e17a08f0399a>\u001b[0m in \u001b[0;36m<module>\u001b[1;34m()\u001b[0m\n\u001b[1;32m----> 1\u001b[1;33m \u001b[0mcoro_avg\u001b[0m\u001b[1;33m.\u001b[0m\u001b[0msend\u001b[0m\u001b[1;33m(\u001b[0m\u001b[1;34m'spam'\u001b[0m\u001b[1;33m)\u001b[0m \u001b[1;31m# 코루틴 내에서 예외 발생\u001b[0m\u001b[1;33m\u001b[0m\u001b[0m\n\u001b[0m",
      "\u001b[1;32m<ipython-input-18-e314d4c3dbb0>\u001b[0m in \u001b[0;36maverager\u001b[1;34m()\u001b[0m\n\u001b[0;32m      7\u001b[0m     \u001b[1;32mwhile\u001b[0m \u001b[1;32mTrue\u001b[0m\u001b[1;33m:\u001b[0m\u001b[1;33m\u001b[0m\u001b[0m\n\u001b[0;32m      8\u001b[0m         \u001b[0mterm\u001b[0m \u001b[1;33m=\u001b[0m \u001b[1;32myield\u001b[0m \u001b[0maverage\u001b[0m\u001b[1;33m\u001b[0m\u001b[0m\n\u001b[1;32m----> 9\u001b[1;33m         \u001b[0mtotal\u001b[0m \u001b[1;33m+=\u001b[0m \u001b[0mterm\u001b[0m\u001b[1;33m\u001b[0m\u001b[0m\n\u001b[0m\u001b[0;32m     10\u001b[0m         \u001b[0mcount\u001b[0m \u001b[1;33m+=\u001b[0m \u001b[1;36m1\u001b[0m\u001b[1;33m\u001b[0m\u001b[0m\n\u001b[0;32m     11\u001b[0m         \u001b[0maverage\u001b[0m \u001b[1;33m=\u001b[0m \u001b[0mtotal\u001b[0m\u001b[1;33m/\u001b[0m\u001b[0mcount\u001b[0m\u001b[1;33m\u001b[0m\u001b[0m\n",
      "\u001b[1;31mTypeError\u001b[0m: unsupported operand type(s) for +=: 'int' and 'str'"
     ]
    }
   ],
   "source": [
    "coro_avg.send('spam') # 코루틴 내에서 예외 발생"
   ]
  },
  {
   "cell_type": "code",
   "execution_count": 25,
   "metadata": {},
   "outputs": [
    {
     "ename": "StopIteration",
     "evalue": "",
     "output_type": "error",
     "traceback": [
      "\u001b[1;31m---------------------------------------------------------------------------\u001b[0m",
      "\u001b[1;31mStopIteration\u001b[0m                             Traceback (most recent call last)",
      "\u001b[1;32m<ipython-input-25-0dd36e702350>\u001b[0m in \u001b[0;36m<module>\u001b[1;34m()\u001b[0m\n\u001b[1;32m----> 1\u001b[1;33m \u001b[0mcoro_avg\u001b[0m\u001b[1;33m.\u001b[0m\u001b[0msend\u001b[0m\u001b[1;33m(\u001b[0m\u001b[1;36m60\u001b[0m\u001b[1;33m)\u001b[0m \u001b[1;31m# 코루틴 안에서 예외를 처리하지 않으면 루프가 종료되고 다시 활성화되지 않는다.\u001b[0m\u001b[1;33m\u001b[0m\u001b[0m\n\u001b[0m",
      "\u001b[1;31mStopIteration\u001b[0m: "
     ]
    }
   ],
   "source": [
    "coro_avg.send(60) # 코루틴 안에서 예외를 처리하지 않으면 루프가 종료되고 다시 활성화되지 않는다."
   ]
  },
  {
   "cell_type": "markdown",
   "metadata": {},
   "source": [
    "[예제 16-7]을 보면 종료하라고 코루틴에 알려주는 구분 표시를 전송해서 코루틴을 종료할 수 있음을 알 수 있다. None이나 Eliipsis와 같은 내장된 싱글턴 상수는 구분표시로 사용하기 좋다. (필자는 my_coro.send(StopIteration) 형태로 사용하기도 한다.)\n",
    "\n",
    "파이선 2.5 이후 제너레이터 객체는 호출자가 코루티네 명시적으로 예외를 전달할 수 있도록 throw( )와 close( ) 메서드를 제공한다.\n",
    "\n",
    "```\n",
    "generator.throw(exc_type[, exc_value[, traceback]])\n",
    "제너레이터가 중단한 곳의 yield 표현식에 예외를 전달한다. 제너레이터가 예외를 처리하면 제어흐름이 다음 yield 문까지 진행하고 생성된 값은 generator.throw() 호출 값이 된다. 제너레이터가 예외를 처리하지 않으면 호출자까지 예외가 전파된다.\n",
    "```\n",
    "```\n",
    "generator.close( )\n",
    "제너레이터가 실행을 중단한 yield 표현식이 GeneratorExit 예외를 발생시키게 만든다. 제너레이터가 예외를 처리하지 않거나 StopIteration 예외(일반적으로 제너레이터가 실행을 완료할 때 발생한다.)를 발생시키면 아무런 에러도 호출자에 전달되지 않는다. GeneratorExit 예외를 받으면 제너레이터는 아무런 값도 생성하지 않아야 한다. 아니면 RuntimeError 예외가 발생한다. 제너레이터에서 발생하는 다른 예외는 모두 호출자에 전달된다.\n",
    "```"
   ]
  },
  {
   "cell_type": "code",
   "execution_count": 26,
   "metadata": {},
   "outputs": [],
   "source": [
    "\"\"\" [예제 16-8] 코루틴의 예외 처리방법을 설명하기 위한 제너레이터 \"\"\"\n",
    "\n",
    "class DemoException(Exception):\n",
    "    \"\"\" 설명에 사용할 예외 유형 \"\"\"\n",
    "    \n",
    "def demo_exc_handling():\n",
    "    print('-> coroutine started')\n",
    "    while True:\n",
    "        try:\n",
    "            x = yield\n",
    "        except DemoException: # 예외를 따로 처리\n",
    "            print('*** DemoException handled. Continuing... ')\n",
    "        else: # 예외가 발생되지 않으면 받은 값을 출력\n",
    "            print('-> coroutine received: {!r}'.format(x))\n",
    "#         raise RuntimeError('This line should never run.') # 무한 루프는 처리되지 않은 예외에 의해서만 중단될 수 있으며,\n",
    "#                                                           # 예외를 처리하지 않으면 코루틴의 실행이 바로 중단되므로 마지막 줄은 실행될 수 없다.\n",
    "#                                                           # 책과는 다르게 인터프리터가 마지막 줄은 실행될 수 없음을 알림(Upgrade 된듯)"
   ]
  },
  {
   "cell_type": "code",
   "execution_count": 27,
   "metadata": {},
   "outputs": [
    {
     "name": "stdout",
     "output_type": "stream",
     "text": [
      "-> coroutine started\n"
     ]
    }
   ],
   "source": [
    "\"\"\" [예제 16-9] 예외를 발생시키지 않은 demo_exc_handling의 활성화 및 종료 \"\"\"\n",
    "\n",
    "exc_coro = demo_exc_handling()\n",
    "next(exc_coro)"
   ]
  },
  {
   "cell_type": "code",
   "execution_count": 28,
   "metadata": {},
   "outputs": [
    {
     "name": "stdout",
     "output_type": "stream",
     "text": [
      "-> coroutine received: 11\n"
     ]
    }
   ],
   "source": [
    "exc_coro.send(11)"
   ]
  },
  {
   "cell_type": "code",
   "execution_count": 29,
   "metadata": {},
   "outputs": [
    {
     "name": "stdout",
     "output_type": "stream",
     "text": [
      "-> coroutine received: 22\n"
     ]
    }
   ],
   "source": [
    "exc_coro.send(22)"
   ]
  },
  {
   "cell_type": "code",
   "execution_count": 30,
   "metadata": {},
   "outputs": [],
   "source": [
    "exc_coro.close()"
   ]
  },
  {
   "cell_type": "code",
   "execution_count": 31,
   "metadata": {},
   "outputs": [
    {
     "data": {
      "text/plain": [
       "'GEN_CLOSED'"
      ]
     },
     "execution_count": 31,
     "metadata": {},
     "output_type": "execute_result"
    }
   ],
   "source": [
    "getgeneratorstate(exc_coro)"
   ]
  },
  {
   "cell_type": "code",
   "execution_count": 32,
   "metadata": {},
   "outputs": [
    {
     "name": "stdout",
     "output_type": "stream",
     "text": [
      "-> coroutine started\n"
     ]
    }
   ],
   "source": [
    "\"\"\" [예제 16-10] DemoException을 demo_exc_handling 안에 던져도 종료되지 않음 \"\"\"\n",
    "\n",
    "exc_coro = demo_exc_handling()\n",
    "next(exc_coro)"
   ]
  },
  {
   "cell_type": "code",
   "execution_count": 33,
   "metadata": {},
   "outputs": [
    {
     "name": "stdout",
     "output_type": "stream",
     "text": [
      "-> coroutine received: 11\n"
     ]
    }
   ],
   "source": [
    "exc_coro.send(11)"
   ]
  },
  {
   "cell_type": "code",
   "execution_count": 34,
   "metadata": {},
   "outputs": [
    {
     "name": "stdout",
     "output_type": "stream",
     "text": [
      "*** DemoException handled. Continuing... \n"
     ]
    }
   ],
   "source": [
    "exc_coro.throw(DemoException)"
   ]
  },
  {
   "cell_type": "code",
   "execution_count": 35,
   "metadata": {},
   "outputs": [
    {
     "data": {
      "text/plain": [
       "'GEN_SUSPENDED'"
      ]
     },
     "execution_count": 35,
     "metadata": {},
     "output_type": "execute_result"
    }
   ],
   "source": [
    "getgeneratorstate(exc_coro)"
   ]
  },
  {
   "cell_type": "code",
   "execution_count": 36,
   "metadata": {},
   "outputs": [
    {
     "name": "stdout",
     "output_type": "stream",
     "text": [
      "-> coroutine started\n",
      "-> coroutine received: 11\n"
     ]
    },
    {
     "ename": "ZeroDivisionError",
     "evalue": "",
     "output_type": "error",
     "traceback": [
      "\u001b[1;31m---------------------------------------------------------------------------\u001b[0m",
      "\u001b[1;31mZeroDivisionError\u001b[0m                         Traceback (most recent call last)",
      "\u001b[1;32m<ipython-input-36-83028809c232>\u001b[0m in \u001b[0;36m<module>\u001b[1;34m()\u001b[0m\n\u001b[0;32m      3\u001b[0m \u001b[0mnext\u001b[0m\u001b[1;33m(\u001b[0m\u001b[0mexc_coro\u001b[0m\u001b[1;33m)\u001b[0m\u001b[1;33m\u001b[0m\u001b[0m\n\u001b[0;32m      4\u001b[0m \u001b[0mexc_coro\u001b[0m\u001b[1;33m.\u001b[0m\u001b[0msend\u001b[0m\u001b[1;33m(\u001b[0m\u001b[1;36m11\u001b[0m\u001b[1;33m)\u001b[0m\u001b[1;33m\u001b[0m\u001b[0m\n\u001b[1;32m----> 5\u001b[1;33m \u001b[0mexc_coro\u001b[0m\u001b[1;33m.\u001b[0m\u001b[0mthrow\u001b[0m\u001b[1;33m(\u001b[0m\u001b[0mZeroDivisionError\u001b[0m\u001b[1;33m)\u001b[0m\u001b[1;33m\u001b[0m\u001b[0m\n\u001b[0m",
      "\u001b[1;32m<ipython-input-26-d79f7f9f92f3>\u001b[0m in \u001b[0;36mdemo_exc_handling\u001b[1;34m()\u001b[0m\n\u001b[0;32m      8\u001b[0m     \u001b[1;32mwhile\u001b[0m \u001b[1;32mTrue\u001b[0m\u001b[1;33m:\u001b[0m\u001b[1;33m\u001b[0m\u001b[0m\n\u001b[0;32m      9\u001b[0m         \u001b[1;32mtry\u001b[0m\u001b[1;33m:\u001b[0m\u001b[1;33m\u001b[0m\u001b[0m\n\u001b[1;32m---> 10\u001b[1;33m             \u001b[0mx\u001b[0m \u001b[1;33m=\u001b[0m \u001b[1;32myield\u001b[0m\u001b[1;33m\u001b[0m\u001b[0m\n\u001b[0m\u001b[0;32m     11\u001b[0m         \u001b[1;32mexcept\u001b[0m \u001b[0mDemoException\u001b[0m\u001b[1;33m:\u001b[0m \u001b[1;31m# 예외를 따로 처리\u001b[0m\u001b[1;33m\u001b[0m\u001b[0m\n\u001b[0;32m     12\u001b[0m             \u001b[0mprint\u001b[0m\u001b[1;33m(\u001b[0m\u001b[1;34m'*** DemoException handled. Continuing... '\u001b[0m\u001b[1;33m)\u001b[0m\u001b[1;33m\u001b[0m\u001b[0m\n",
      "\u001b[1;31mZeroDivisionError\u001b[0m: "
     ]
    }
   ],
   "source": [
    "\"\"\" [예제 16-11] 자신에게 던져진 예외를 처리할 수 없으면 코루틴이 종료됨 \"\"\"\n",
    "exc_coro = demo_exc_handling()\n",
    "next(exc_coro)\n",
    "exc_coro.send(11)\n",
    "exc_coro.throw(ZeroDivisionError)"
   ]
  },
  {
   "cell_type": "code",
   "execution_count": 37,
   "metadata": {},
   "outputs": [
    {
     "data": {
      "text/plain": [
       "'GEN_CLOSED'"
      ]
     },
     "execution_count": 37,
     "metadata": {},
     "output_type": "execute_result"
    }
   ],
   "source": [
    "getgeneratorstate(exc_coro)"
   ]
  },
  {
   "cell_type": "markdown",
   "metadata": {},
   "source": [
    "코루틴이 어떻게 종료되든 정리 코드를 실행해야 하는 경우에는 try/finally 블록 안에 코루틴의 해당 코드를 넣어야 한다."
   ]
  },
  {
   "cell_type": "code",
   "execution_count": 38,
   "metadata": {},
   "outputs": [],
   "source": [
    "\"\"\" [예제 16-12] 코루틴 종료 시 정리작업을 실행하기 위핸 try/finally문 추가 \"\"\"\n",
    "\n",
    "class DemoException(Exception):\n",
    "    \"\"\" 설명에 사용할 예외 유형 \"\"\"\n",
    "    \n",
    "def demo_finally():\n",
    "    print('-> coroutine started')\n",
    "    \n",
    "    try:\n",
    "        while True:\n",
    "            try:\n",
    "                x = yield\n",
    "            except DemoException: # 예외를 따로 처리\n",
    "                print('*** DemoException handled. Continuing... ')\n",
    "            else: # 예외가 발생되지 않으면 받은 값을 출력\n",
    "                print('-> coroutine received: {!r}'.format(x))\n",
    "    finally:\n",
    "        print('-> coroutine ending')"
   ]
  },
  {
   "cell_type": "code",
   "execution_count": 39,
   "metadata": {},
   "outputs": [
    {
     "name": "stdout",
     "output_type": "stream",
     "text": [
      "-> coroutine started\n",
      "-> coroutine ending\n"
     ]
    },
    {
     "ename": "ZeroDivisionError",
     "evalue": "",
     "output_type": "error",
     "traceback": [
      "\u001b[1;31m---------------------------------------------------------------------------\u001b[0m",
      "\u001b[1;31mZeroDivisionError\u001b[0m                         Traceback (most recent call last)",
      "\u001b[1;32m<ipython-input-39-52f5539e7fe8>\u001b[0m in \u001b[0;36m<module>\u001b[1;34m()\u001b[0m\n\u001b[0;32m      1\u001b[0m \u001b[0mexc_coro\u001b[0m \u001b[1;33m=\u001b[0m \u001b[0mdemo_finally\u001b[0m\u001b[1;33m(\u001b[0m\u001b[1;33m)\u001b[0m\u001b[1;33m\u001b[0m\u001b[0m\n\u001b[0;32m      2\u001b[0m \u001b[0mnext\u001b[0m\u001b[1;33m(\u001b[0m\u001b[0mexc_coro\u001b[0m\u001b[1;33m)\u001b[0m\u001b[1;33m\u001b[0m\u001b[0m\n\u001b[1;32m----> 3\u001b[1;33m \u001b[0mexc_coro\u001b[0m\u001b[1;33m.\u001b[0m\u001b[0mthrow\u001b[0m\u001b[1;33m(\u001b[0m\u001b[0mZeroDivisionError\u001b[0m\u001b[1;33m)\u001b[0m\u001b[1;33m\u001b[0m\u001b[0m\n\u001b[0m",
      "\u001b[1;32m<ipython-input-38-9cdb37355a5e>\u001b[0m in \u001b[0;36mdemo_finally\u001b[1;34m()\u001b[0m\n\u001b[0;32m     10\u001b[0m         \u001b[1;32mwhile\u001b[0m \u001b[1;32mTrue\u001b[0m\u001b[1;33m:\u001b[0m\u001b[1;33m\u001b[0m\u001b[0m\n\u001b[0;32m     11\u001b[0m             \u001b[1;32mtry\u001b[0m\u001b[1;33m:\u001b[0m\u001b[1;33m\u001b[0m\u001b[0m\n\u001b[1;32m---> 12\u001b[1;33m                 \u001b[0mx\u001b[0m \u001b[1;33m=\u001b[0m \u001b[1;32myield\u001b[0m\u001b[1;33m\u001b[0m\u001b[0m\n\u001b[0m\u001b[0;32m     13\u001b[0m             \u001b[1;32mexcept\u001b[0m \u001b[0mDemoException\u001b[0m\u001b[1;33m:\u001b[0m \u001b[1;31m# 예외를 따로 처리\u001b[0m\u001b[1;33m\u001b[0m\u001b[0m\n\u001b[0;32m     14\u001b[0m                 \u001b[0mprint\u001b[0m\u001b[1;33m(\u001b[0m\u001b[1;34m'*** DemoException handled. Continuing... '\u001b[0m\u001b[1;33m)\u001b[0m\u001b[1;33m\u001b[0m\u001b[0m\n",
      "\u001b[1;31mZeroDivisionError\u001b[0m: "
     ]
    }
   ],
   "source": [
    "exc_coro = demo_finally()\n",
    "next(exc_coro)\n",
    "exc_coro.throw(ZeroDivisionError)"
   ]
  },
  {
   "cell_type": "markdown",
   "metadata": {},
   "source": [
    "### 16.6 코루틴에서 값 반환하기\n",
    "예제 16-13은 항목 수(count)와 평균(average)을 담은 namedtuple을 반환한다."
   ]
  },
  {
   "cell_type": "code",
   "execution_count": 40,
   "metadata": {},
   "outputs": [],
   "source": [
    "\"\"\" [예제 16-13] averager( ) 코루틴 코드 \"\"\"\n",
    "\n",
    "from collections import namedtuple\n",
    "Result = namedtuple('Result', 'count average')\n",
    "\n",
    "def averager():\n",
    "    total = 0.0\n",
    "    count = 0\n",
    "    average = None\n",
    "    while True:\n",
    "        term = yield\n",
    "        if term is None:\n",
    "            break # 값을 반환하려면 코루틴이 정상적으로 종료되어야 한다. 그렇기 때문에 averager 버전에서는 루프를 빠져나오는 조건을 검사한다.\n",
    "        total += term\n",
    "        count += 1\n",
    "        average = total/count\n",
    "    return Result(count, average) # 파이선 3.3 이전 버전에서는 제너레이터가 값을 반환하므로 에러가 발생한다.  "
   ]
  },
  {
   "cell_type": "code",
   "execution_count": 41,
   "metadata": {},
   "outputs": [
    {
     "ename": "StopIteration",
     "evalue": "Result(count=3, average=15.5)",
     "output_type": "error",
     "traceback": [
      "\u001b[1;31m---------------------------------------------------------------------------\u001b[0m",
      "\u001b[1;31mStopIteration\u001b[0m                             Traceback (most recent call last)",
      "\u001b[1;32m<ipython-input-41-4b0dc7a726a5>\u001b[0m in \u001b[0;36m<module>\u001b[1;34m()\u001b[0m\n\u001b[0;32m      6\u001b[0m \u001b[0mcoro_avg\u001b[0m\u001b[1;33m.\u001b[0m\u001b[0msend\u001b[0m\u001b[1;33m(\u001b[0m\u001b[1;36m30\u001b[0m\u001b[1;33m)\u001b[0m\u001b[1;33m\u001b[0m\u001b[0m\n\u001b[0;32m      7\u001b[0m \u001b[0mcoro_avg\u001b[0m\u001b[1;33m.\u001b[0m\u001b[0msend\u001b[0m\u001b[1;33m(\u001b[0m\u001b[1;36m6.5\u001b[0m\u001b[1;33m)\u001b[0m\u001b[1;33m\u001b[0m\u001b[0m\n\u001b[1;32m----> 8\u001b[1;33m \u001b[0mcoro_avg\u001b[0m\u001b[1;33m.\u001b[0m\u001b[0msend\u001b[0m\u001b[1;33m(\u001b[0m\u001b[1;32mNone\u001b[0m\u001b[1;33m)\u001b[0m \u001b[1;31m# 일반적인 제너레이터 객체와 같이 StopIteration 예외가 발생하며 value 속성에 반환값이 들어 있다.\u001b[0m\u001b[1;33m\u001b[0m\u001b[0m\n\u001b[0m",
      "\u001b[1;31mStopIteration\u001b[0m: Result(count=3, average=15.5)"
     ]
    }
   ],
   "source": [
    "\"\"\" [예제 16-14] averager( )의 동작을 보여주는 doctest \"\"\"\n",
    "\n",
    "coro_avg = averager()\n",
    "next(coro_avg)\n",
    "coro_avg.send(10)\n",
    "coro_avg.send(30)\n",
    "coro_avg.send(6.5)\n",
    "coro_avg.send(None) # 일반적인 제너레이터 객체와 같이 StopIteration 예외가 발생하며 value 속성에 반환값이 들어 있다."
   ]
  },
  {
   "cell_type": "code",
   "execution_count": 42,
   "metadata": {},
   "outputs": [
    {
     "name": "stdout",
     "output_type": "stream",
     "text": [
      "Result(count=3, average=15.5)\n"
     ]
    }
   ],
   "source": [
    "\"\"\" [예제 16-15] StopIteration 예외 처리를 통한 반환값 가져오기 \"\"\"\n",
    "\n",
    "coro_avg = averager()\n",
    "next(coro_avg)\n",
    "coro_avg.send(10)\n",
    "coro_avg.send(30)\n",
    "coro_avg.send(6.5)\n",
    "\n",
    "try: # try문을 통한 우회적인 처리 방법\n",
    "    coro_avg.send(None)\n",
    "except StopIteration as exc:\n",
    "    result = exc.value\n",
    "    \n",
    "print(result)"
   ]
  },
  {
   "cell_type": "markdown",
   "metadata": {},
   "source": [
    "### 16.7 yield from 사용하기\n",
    "yield from은 완전히 새로운 언어 구성체라는 점을 잊지말자. (다른 언어에서는 이와 비슷한 구성체를 await라고 표현한다.) \n",
    "\n",
    "yield from x 표현식이 x 객체에 대해 첫 번째로 하는 일은 iter(x)를 호출해서 x의 반복자를 가져오는 것이다. 이는 모든 반복형이 x에 사용될 수 있다는 의미이다."
   ]
  },
  {
   "cell_type": "code",
   "execution_count": 43,
   "metadata": {},
   "outputs": [
    {
     "data": {
      "text/plain": [
       "['A', 'B', 1, 2]"
      ]
     },
     "execution_count": 43,
     "metadata": {},
     "output_type": "execute_result"
    }
   ],
   "source": [
    "def gen():\n",
    "    for c in 'AB':\n",
    "        yield c\n",
    "    for i in range(1, 3):\n",
    "        yield i\n",
    "        \n",
    "list(gen())"
   ]
  },
  {
   "cell_type": "code",
   "execution_count": 44,
   "metadata": {},
   "outputs": [
    {
     "data": {
      "text/plain": [
       "['A', 'B', 1, 2]"
      ]
     },
     "execution_count": 44,
     "metadata": {},
     "output_type": "execute_result"
    }
   ],
   "source": [
    "def gen():\n",
    "    yield from 'AB'\n",
    "    yield from range(1, 3)\n",
    "        \n",
    "list(gen())"
   ]
  },
  {
   "cell_type": "markdown",
   "metadata": {},
   "source": [
    "그러나 내포된 for 루프를 대체하는 것보다 더 주요한 특징은 가장 바깥쪽 호출자와 가장 안쪽 하위 제너레이터 사이에 양방향 채널을 열어준다는 것이다. 따라서 이 둘이 값을 직접 주고 받으며 중간에 있는 코루틴이 판에 박힌 듯한 예외처리 코드를 구현할 필요 없이 예외를 직접 던질 수 있다.이를 코루틴 위임<sup>coroutine delegation</sup>이라 한다.\n",
    "\n",
    "아래는 중요 용어에 대한 설명이다.\n",
    "+ 대표 제너레이터(delegating generator)\n",
    "    + yield from <반복형> 표현식을 담고 있는 제너레이터 함수\n",
    "+ 하위 제너레이터(subgenerator)\n",
    "    + yield from 표현식 중 <반복형>에서 가져오는 제너레이터\n",
    "+ 호출자(caller)\n",
    "    + 대표 제너레이터를 호출하는 코드. 문맥에 따라서 필자는 대표 제너레이터와 구분하기 위해 '호출자' 대신 '클라이언트'라는 용어를 사용하기도 한다. 하위 제너레이터 입장에서 보면 대표 제너레이터도 호출자이기 때문이다.\n",
    "    \n",
    "[그림 16-2] 대표 제너레이터가 yield from에서 중단하고 있는 동안, 호출자는 하위 제너레이터에 데이터를 직접 전송하고 하위 제너레이터는 다시 데이터를 생성해서 호출자에게 전달한다. 하위 제너레이터가 실행을 완료하고 인터프리터가 반환된 값을 첨부한 StopIteration을 발생시키면 대표 제너레이터가 실행을 재개한다.\n",
    "\n",
    "<img src=\"Figure16-2.png\">"
   ]
  },
  {
   "cell_type": "code",
   "execution_count": 1,
   "metadata": {},
   "outputs": [
    {
     "name": "stdout",
     "output_type": "stream",
     "text": [
      " 9 boys  averaging 40.42kg\n",
      " 9 boys  averaging 1.39m\n",
      "10 girls averaging 42.04kg\n",
      "10 girls averaging 1.43m\n"
     ]
    }
   ],
   "source": [
    "\"\"\" [예제 16-17] yield from을 이용해서 averager()를 구동하고 보고서 생성하기 \"\"\"\n",
    "\n",
    "from collections import namedtuple\n",
    "\n",
    "Result = namedtuple('Result', 'count average')\n",
    "\n",
    "# 하위 제너레이터\n",
    "def averager():\n",
    "    total = 0.0\n",
    "    count = 0\n",
    "    average = None\n",
    "    while True:\n",
    "        term = yield     # term에 데이터를 받을 수 있음\n",
    "        if term is None: # StopIteration가 발생되면서 대표 제너레이터의 동작이 재개되는 지점\n",
    "            break        # 이 부분이 없으면 영원히 실행된다.\n",
    "        total += term\n",
    "        count += 1\n",
    "        average = total/count\n",
    "    return Result(count, average)\n",
    "\n",
    "# 대표 제너레이터\n",
    "def grouper(results, key):\n",
    "    while True: # 반복할 때 마다 averager 객체를 만든다\n",
    "        results[key] = yield from averager()\n",
    "\n",
    "# 호출자(클라이언트)\n",
    "def main(data):\n",
    "    results = {}\n",
    "    for key, values in data.items():\n",
    "        group = grouper(results, key) # result로 하위 제너레이터에서 계산한 값을 받고, key는 대표제너레이터에 정보를 전달한다.\n",
    "        next(group) # 코루틴을 기동한다.\n",
    "        for value in values:\n",
    "            group.send(value) # 값을 하나씩 grouper()에 전달한다. 이 값은 averager() term = yield 문장의 yield 값이 된다. grouper는 이 값을 볼 수 없다.\n",
    "        group.send(None) # (이 부분이 중요하다!) None을 grouper()에 전달하면 현재 averager() 객체가 종료하고 grouper() 가 실행을 재개하게 만든다.\n",
    "                         # 그러면 grouper()는 또 다른 averager() 객체를 생성해서 다음 값들을 받는다.\n",
    "    # print(results) # for debug\n",
    "    report(results)\n",
    "    \n",
    "# 실행결과 보고서\n",
    "def report(results):\n",
    "    for key, result in sorted(results.items()):\n",
    "        group, unit = key.split(';')\n",
    "        print('{:2} {:5} averaging {:.2f}{}'\n",
    "              .format(result.count, group, result.average, unit))\n",
    "\n",
    "data = {\n",
    "    'girls;kg': [40.9, 38.5, 44.3, 42.2, 45.2, 41.7, 44.5, 38.0, 40.6, 44.5],\n",
    "    'girls;m' : [ 1.6, 1.51,  1.4,  1.3, 1.41, 1.39, 1.33, 1.46, 1.45, 1.43],\n",
    "    'boys;kg' : [39.0, 40.8, 43.2, 40.8, 43.1, 38.6, 41.4, 40.6, 36.3],\n",
    "    'boys;m'  : [1.38,  1.5, 1.32, 1.25, 1.37, 1.48, 1.25, 1.49, 1.46],    \n",
    "} # group과 unit을 ; 로 구분하고 있음\n",
    "\n",
    "if __name__ == '__main__':\n",
    "    main(data)"
   ]
  },
  {
   "cell_type": "markdown",
   "metadata": {},
   "source": [
    "예제 16-17 에서 group.send(None)을 제거하면 아래와 같은 현상이 생긴다.\n",
    "+ next(group)을 호출해서 grouper() v대표 제너레이터를 기동시키면 while True 루프로 들어가서 하위 제너레이터 averager()를 호출한 후 yield from에서 대기한다.\n",
    "+ 내부 for 루프에서 group.send(value)를 호출해서 하위 제너레이터 verager()에 직접 데이터를 전달한다. 이때 grouper()의 현재 group 객체는 여전치 yield from에서 멈추게 된다.\n",
    "+ 내부 for 루프가 끝났을 때 grouper() 객체는 여전히 yield from에 멈워있으므로, grouper() 본체 안의 results[key]에 대한 할당은 아직 실행되지 않는다.\n",
    "+ 바깥쪽 for 루프에서 group.send(None)을 호출하지 않으면 하위 제너레이터인 averager()이 계속 루프를 돌고 있는 상황(yield 멈춰있긴 함)이므로 results[key]에 아무런 값도 할당되지 않는다. \n",
    "+ 바깥쪽 for 루프의 꼭대기로 올라가서 다시 반복하면 새로운 grouper() 객체가 생성되어 group 변수에 바인딩된다. 기존 grouper() 객체는 더 이상 참조되지 않으므로 가비지 컬렉드된다. 이때 아직 실행이 종료되지 않은 averager() 하위 제너레이터 객체도 지워진다. "
   ]
  },
  {
   "cell_type": "markdown",
   "metadata": {},
   "source": [
    "### 16.8 yield from 의 의미\n",
    "\n",
    "[예제 16-7]은 다음 네 가지 특징을 보여준다.\n",
    "+ 하위 제너레이터가 생성하는 값은 모두 대표 제너레이터의 호출자(클라이언트)에 바로 전달된다. \n",
    "+ send( )를 통해 대표 제너레이터에 전달한 값은 모두 하위 제너레이터에 직접 전달된다. 값이 None이면 하위 제너레이터의 \\_\\_next\\_\\_( ) 메서드가 호출된다. 전달된 값이 None이 아니면 하위 제너레이터의 send( ) 메서드가 호출된다. 호출된 메서드에서 StopIteration 예외가 발생하면 대표 제너레이터의 실행이 재개된다. 그 외의 예외는 대표 제너레이터에 전달된다. \n",
    "+ 제너레이터나 하위 제너레이터에서 return expr 문을 실행하면, 제너레이터를 빠져나온 후 StopIteration(expr) 예외가 발생한다. \n",
    "+ 하위 제너레이터가 실행을 마친 후 발생한 StopIteration 예외의 첫 번째 인수가 yield from 표현식의 값이 된다. \n",
    "\n",
    "아래 의사코드는 대표 제너레이터에서 \"RESULT = yield from EXPR\" 문장 하나를 확장한 것이다.\n",
    "```\n",
    "# [예제 16-8] throw()와 close() 메서드를 지운 간단 버전\n",
    "_i(하위 제너레이터) = iter(EXPR)\n",
    "try:\n",
    "    _y(하위 제너레이터가 생성한 값) = next(_i) # 예제 16-4의 자동 기동 데커레이터를 사용할 수 없는 이유\n",
    "except StopIteration as _e(예외) :\n",
    "    _r = _e.value\n",
    "else:\n",
    "    while 1:\n",
    "        _s(호출자가 대표 제너레이터에 보낸 값) = yield _y\n",
    "        try:\n",
    "            _y = _i.send(_s)\n",
    "        except StopIteration as _e:\n",
    "            _r = _e.value\n",
    "            break\n",
    "RESULT = _r\n",
    "\n",
    "※ 원래 버전은 [예제 16-9] 참조\n",
    "```"
   ]
  },
  {
   "cell_type": "markdown",
   "metadata": {},
   "source": [
    "### 16.9  사용 사례: 이산 이벤트 시뮬레이션을 위한 코루틴\n",
    "#### 16.9.1 이산 이벤트 시뮬레이션에 대해\n",
    "\n"
   ]
  }
 ],
 "metadata": {
  "kernelspec": {
   "display_name": "Python 3",
   "language": "python",
   "name": "python3"
  },
  "language_info": {
   "codemirror_mode": {
    "name": "ipython",
    "version": 3
   },
   "file_extension": ".py",
   "mimetype": "text/x-python",
   "name": "python",
   "nbconvert_exporter": "python",
   "pygments_lexer": "ipython3",
   "version": "3.6.7"
  }
 },
 "nbformat": 4,
 "nbformat_minor": 2
}
