{
 "cells": [
  {
   "cell_type": "markdown",
   "metadata": {},
   "source": [
    "## Chapter 18. asyncio를 이용한 동시성\n",
    "Concurrency is Not Paralleism!. 일반적인 운용 환경에서도 100개 이상의 프로세스를 일상적으로 실행한다. 진짜 병렬로 처리하려면 CPU 코어가 여러 개 있어야 한다. 따라서 실제로는 대부분의 처리가 동시에 수행되지만 병렬로 수행되지는 않는다. 이 장에서는 이벤트 루프에 의해 운용되는 코루틴을 이용해서 동시성을 구현하는 asyncio 패키지에 대해 설명한다.\n",
    "\n",
    "### 18.1 스레드와 코루틴 비교\n",
    "파이선에는 스레드를 종료시키는 API가 정의되지 않지 않기 때문에 여기서는 singal.go 속성을 사용했다. "
   ]
  },
  {
   "cell_type": "code",
   "execution_count": null,
   "metadata": {},
   "outputs": [],
   "source": [
    "\"\"\" [예제 18-1] spinner_thread.py : 스레드로 텍스트 스피너 애니메이트하기 \"\"\"\n",
    "import threading\n",
    "import itertools\n",
    "import time\n",
    "import sys\n",
    "\n",
    "class Signal:\n",
    "    go = True\n",
    "    \n",
    "def spin(msg, signal):\n",
    "    write, flush = sys.stdout.write, sys.stdout.flush\n",
    "    for char in itertools.cycle('|/-\\\\'):\n",
    "        status = char + ' ' + msg\n",
    "        write(status)\n",
    "        flush()\n",
    "        write('\\x08' * len(status)) # 문자열 길이만큼 백스페이스를 반복해서 커서를 앞으로 이동시킴\n",
    "        time.sleep(.1)\n",
    "        if not signal.go:\n",
    "            break\n",
    "    write(' ' * len(status) + '\\x08' * len(status)) # 스페이스로 기존 문자열을 지우고 백스페이스로 원래 위치로 돌아감\n",
    "    \n",
    "def slow_function():\n",
    "    # 입출력을 위해 장시간 기다리는 것 처럼 보임\n",
    "    time.sleep(3) # 주 스레드에서 sleep( ) 함수를 호출할 때 GIL이 해제되므로 두 번째 스레드가 진행됨\n",
    "    return 42\n",
    "\n",
    "def supervisor():\n",
    "    signal = Signal()\n",
    "    spinner = threading.Thread(target=spin,\n",
    "                               args=('thinking!', signal))\n",
    "    print('spinner object:', spinner)\n",
    "    spinner.start() # spinner 스레드 시작\n",
    "    result = slow_function()\n",
    "    signal.go = False\n",
    "    spinner.join()  # spinner 스레드가 끝날 때 까지 기다림\n",
    "    return result\n",
    "\n",
    "def main():\n",
    "    result = supervisor()\n",
    "    print('Answer:', result)\n",
    "    \n",
    "if __name__ == '__main__':\n",
    "    main()\n",
    "    print(delta)   "
   ]
  },
  {
   "cell_type": "markdown",
   "metadata": {},
   "source": [
    "스레드 대신 @asyncio.coroutine을 이용해서 동일한 동작을 어떻게 구현할 수 있는지 알아보자\n",
    "```\n",
    "asyncio는 '코루틴'을 더욱 엄격히 정의한다. asyncio API에 사용할 코루틴은 본체 안에서 yield가 아니라 yield from을 사용해야 한다. 그리고 asyncio 코루틴은 yield from으로 호출하는 호출자에게 구동되거나, 이 장에서 설명할 asyncio.async() 등의 함수에 전달해서 구동해야 한다. 마지막으로 예제에서 보여주는 것처첨 @asyncio.coroutine 데커레이터를 코루틴에 적용해야 한다. \n",
    "```\n"
   ]
  },
  {
   "cell_type": "code",
   "execution_count": null,
   "metadata": {},
   "outputs": [],
   "source": [
    "\"\"\" [예제 18-2] spinner_asyncio.py : 코루틴으로 텍스트 스피너 애니메이트 하기 \"\"\"\n",
    "\n",
    "import asyncio\n",
    "import itertools\n",
    "import sys\n",
    "\n",
    "import nest_asyncio\n",
    "nest_asyncio.apply() # This module patches asyncio to allow nested (due to jupyter notebook)\n",
    "\n",
    "@asyncio.coroutine # 사용할 코루틴을 데커레이트 처리함\n",
    "def spin(msg):     # 예제 18-1의 singal 인수가 필요없음\n",
    "    write, flush = sys.stdout.write, sys.stdout.flush\n",
    "    for char in itertools.cycle('|/-\\\\'):\n",
    "        status = char + ' ' + msg\n",
    "        write(status)\n",
    "        flush()\n",
    "        write('\\x08' * len(status)) \n",
    "        try:\n",
    "            yield from asyncio.sleep(.1)\n",
    "        except asyncio.CancelledError:\n",
    "            break\n",
    "    write(' ' * len(status) + '\\x08' * len(status)) \n",
    "\n",
    "@asyncio.coroutine\n",
    "def slow_function():\n",
    "    yield from asyncio.sleep(3)\n",
    "    return 42\n",
    "    \n",
    "@asyncio.coroutine\n",
    "def supervision():\n",
    "    # spin() 코루틴의 실행을 스케줄링하고 Task 객체 안에 넣어 Task 객체를 즉시 반환\n",
    "    spinner = asyncio.async(spin('thinking!'))\n",
    "    print('spinner object:', spinner)\n",
    "    # slow_function () 함수를 구동해서 완료되면 반환된 값을 가져온다. 그러는 동안 이벤트 루프는 계속 실행됨\n",
    "    result = yield from slow_function()\n",
    "    spinner.cancel()\n",
    "    return result\n",
    "\n",
    "def main():\n",
    "    # 이벤트 루프에 대한 참조를 가져옴\n",
    "    loop = asyncio.get_event_loop()\n",
    "    # supervisior() 코루틴을 구동해서 완료. 코루틴의 반환값은 run_util_complete() 메서드의 반환값이 됨\n",
    "    result = loop.run_until_complete(supervision())\n",
    "    # Task 객체는 cancel 메서드를 호출해서 취소 가능. 그러면 코루틴이 중단된 곳의 yield from 에서 asyncio.CancelledError 예외가 발행한다.\n",
    "#    loop.close()\n",
    "    print('Answer', result)\n",
    "    \n",
    "if __name__ == '__main__':\n",
    "    main()"
   ]
  },
  {
   "cell_type": "markdown",
   "metadata": {},
   "source": [
    "<b> 예제 18-1, 18-2 supervisor( ) 함수의 차이 </b>\n",
    "+ asyncio.Task는 threading.Thread와 거의 대등하다. \n",
    "+ Task는 코루틴을 구동하고, Thread는 콜러블을 호출한다.\n",
    "+ Task 객체는 직접 생성하지 않고, 코루틴을 asyncio.asyn()나 loop.care_task()에 전달해서 가져온다.\n",
    "+ Task 객체를 가져오면 이 객체는 이미 asyncio.async() 들에 의해 실행 스케줄링되어 있다. Thread 객체는 start() 메서드를 호출해서 힐행하라고 명령해야 한다.\n",
    "+ 스레드화된 supervisior()에서 slow_function()은 평범한 함수로서 스레드에 의해 직접 호출된다. 비동기 supervisor()에서 slow_function()은 yield from으로 구동하는 코루틴이다.\n",
    "+ 스레드는 외부에서 API를 이용해서 중단시킬 수 없다. 스레드르 아무 때나 중단시키면 시스템 상태의 무결성이 훼손되기 때문이다. Task에는 코루틴 안에 CancelledError를 발생시키는 Task.cancel() 객체 메서드가 있다. 코루틴은 중단되었던 yield 문에서 예외를 잡아서 처리할 수 있다.\n",
    "+ supervisor() 코루틴은 main() 함수 안에서 loop.run_util_complete()로 실행해야 한다.\n",
    "\n",
    "스레드는 스케줄러에 의해 언제드 스레드를 중단시킬 수 있으므로 크리티컬 섹션을 보고하기 위해 락을 잠그는 등 인터럽트되지 않게 해야하지만, 코루틴은 기본적으로 인터럽트로부터 보호된다. 제어권을 넘겨주고 싶을 때는 yield나 yield from을 이용해서 스케줄러에 넘겨줄 수 있다."
   ]
  },
  {
   "cell_type": "code",
   "execution_count": 1,
   "metadata": {},
   "outputs": [],
   "source": [
    "\"\"\" [예제 17-2] 순차 내려받기 스크립트, 몇몇 함수는 다른 스크립트에서 재사용할 것이다. \"\"\"\n",
    "import os\n",
    "import time\n",
    "import sys\n",
    "\n",
    "import requests # 표준 라이브러리에 속해 있지 않으므로 관례에 따라 os, time, sys 표준 라이브러리 모듈을\n",
    "                # 먼저 임포트 하고 한 줄 띄운 후 임포트한다.\n",
    "\n",
    "POP20_CC = ('CN IN US ID BR PK NG BD RU JP '\n",
    "            'MX PH VN ET EG DE IR TR CD FR').split()\n",
    "\n",
    "BASE_URL = 'http://flupy.org/data/flags' # 국기 이미지를 갖고 있는 웹사이트\n",
    "DEST_DIR = 'downloads/'                  # 이미지를 저장할 디렉토리\n",
    "\n",
    "def save_flag(img, filename):\n",
    "    \"\"\" \n",
    "    img(바이트 시퀀스)를 DEST_DIR 안의 filename으로 저장\n",
    "    \"\"\"\n",
    "    path = os.path.join(DEST_DIR, filename)\n",
    "    with open(path, 'wb') as fp:\n",
    "        fp.write(img)\n",
    "\n",
    "def show(text):\n",
    "    \"\"\"\n",
    "    진행 상황을 한 줄로 출력한다.\n",
    "    파이썬은 개행 문자를 받기 전까지 문자열을 출력하지 않으므로 sys.stdout.flush()를 호출해서 \n",
    "    버퍼에 남아있는 내용을 모두 화면에 출력하게 한다.\n",
    "    \"\"\"\n",
    "    print(text, end=' ')\n",
    "    sys.stdout.flush()\n",
    "    \n",
    "def main(download_many):\n",
    "    t0 = time.time()\n",
    "    count = download_many(POP20_CC)\n",
    "    elapsed = time.time() - t0\n",
    "    msg = '\\n{} flags downloaded in {:.2f}s'\n",
    "    print(msg.format(count, elapsed))"
   ]
  },
  {
   "cell_type": "code",
   "execution_count": 13,
   "metadata": {
    "scrolled": true
   },
   "outputs": [
    {
     "name": "stderr",
     "output_type": "stream",
     "text": [
      "Unclosed client session\n",
      "client_session: <aiohttp.client.ClientSession object at 0x7fc39db92470>\n"
     ]
    },
    {
     "name": "stdout",
     "output_type": "stream",
     "text": [
      "FR "
     ]
    },
    {
     "name": "stderr",
     "output_type": "stream",
     "text": [
      "Unclosed client session\n",
      "client_session: <aiohttp.client.ClientSession object at 0x7fc39ddb6c18>\n"
     ]
    },
    {
     "name": "stdout",
     "output_type": "stream",
     "text": [
      "ID "
     ]
    },
    {
     "name": "stderr",
     "output_type": "stream",
     "text": [
      "Unclosed client session\n",
      "client_session: <aiohttp.client.ClientSession object at 0x7fc39db840b8>\n"
     ]
    },
    {
     "name": "stdout",
     "output_type": "stream",
     "text": [
      "TR "
     ]
    },
    {
     "name": "stderr",
     "output_type": "stream",
     "text": [
      "Unclosed client session\n",
      "client_session: <aiohttp.client.ClientSession object at 0x7fc39dd5e048>\n"
     ]
    },
    {
     "name": "stdout",
     "output_type": "stream",
     "text": [
      "JP "
     ]
    },
    {
     "name": "stderr",
     "output_type": "stream",
     "text": [
      "Unclosed client session\n",
      "client_session: <aiohttp.client.ClientSession object at 0x7fc39dd26438>\n"
     ]
    },
    {
     "name": "stdout",
     "output_type": "stream",
     "text": [
      "DE "
     ]
    },
    {
     "name": "stderr",
     "output_type": "stream",
     "text": [
      "Unclosed client session\n",
      "client_session: <aiohttp.client.ClientSession object at 0x7fc39db8ab00>\n"
     ]
    },
    {
     "name": "stdout",
     "output_type": "stream",
     "text": [
      "RU "
     ]
    },
    {
     "name": "stderr",
     "output_type": "stream",
     "text": [
      "Unclosed client session\n",
      "client_session: <aiohttp.client.ClientSession object at 0x7fc39dbe6e48>\n"
     ]
    },
    {
     "name": "stdout",
     "output_type": "stream",
     "text": [
      "BR "
     ]
    },
    {
     "name": "stderr",
     "output_type": "stream",
     "text": [
      "Unclosed client session\n",
      "client_session: <aiohttp.client.ClientSession object at 0x7fc39dbf96d8>\n"
     ]
    },
    {
     "name": "stdout",
     "output_type": "stream",
     "text": [
      "MX "
     ]
    },
    {
     "name": "stderr",
     "output_type": "stream",
     "text": [
      "Unclosed client session\n",
      "client_session: <aiohttp.client.ClientSession object at 0x7fc39dd43b38>\n"
     ]
    },
    {
     "name": "stdout",
     "output_type": "stream",
     "text": [
      "NG "
     ]
    },
    {
     "name": "stderr",
     "output_type": "stream",
     "text": [
      "Unclosed client session\n",
      "client_session: <aiohttp.client.ClientSession object at 0x7fc39db8a080>\n",
      "Unclosed client session\n",
      "client_session: <aiohttp.client.ClientSession object at 0x7fc39ddb64a8>\n"
     ]
    },
    {
     "name": "stdout",
     "output_type": "stream",
     "text": [
      "IN "
     ]
    },
    {
     "name": "stderr",
     "output_type": "stream",
     "text": [
      "Unclosed client session\n",
      "client_session: <aiohttp.client.ClientSession object at 0x7fc39db8a5c0>\n"
     ]
    },
    {
     "name": "stdout",
     "output_type": "stream",
     "text": [
      "PK "
     ]
    },
    {
     "name": "stderr",
     "output_type": "stream",
     "text": [
      "Unclosed client session\n",
      "client_session: <aiohttp.client.ClientSession object at 0x7fc39db92b00>\n"
     ]
    },
    {
     "name": "stdout",
     "output_type": "stream",
     "text": [
      "EG "
     ]
    },
    {
     "name": "stderr",
     "output_type": "stream",
     "text": [
      "Unclosed client session\n",
      "client_session: <aiohttp.client.ClientSession object at 0x7fc39dd369b0>\n"
     ]
    },
    {
     "name": "stdout",
     "output_type": "stream",
     "text": [
      "CD "
     ]
    },
    {
     "name": "stderr",
     "output_type": "stream",
     "text": [
      "Unclosed client session\n",
      "client_session: <aiohttp.client.ClientSession object at 0x7fc39db84ba8>\n"
     ]
    },
    {
     "name": "stdout",
     "output_type": "stream",
     "text": [
      "VN PH "
     ]
    },
    {
     "name": "stderr",
     "output_type": "stream",
     "text": [
      "Unclosed client session\n",
      "client_session: <aiohttp.client.ClientSession object at 0x7fc39db84630>\n"
     ]
    },
    {
     "name": "stdout",
     "output_type": "stream",
     "text": [
      "US "
     ]
    },
    {
     "name": "stderr",
     "output_type": "stream",
     "text": [
      "Unclosed client session\n",
      "client_session: <aiohttp.client.ClientSession object at 0x7fc39dbe67b8>\n"
     ]
    },
    {
     "name": "stdout",
     "output_type": "stream",
     "text": [
      "BD "
     ]
    },
    {
     "name": "stderr",
     "output_type": "stream",
     "text": [
      "Unclosed client session\n",
      "client_session: <aiohttp.client.ClientSession object at 0x7fc39db92f28>\n"
     ]
    },
    {
     "name": "stdout",
     "output_type": "stream",
     "text": [
      "ET "
     ]
    },
    {
     "name": "stderr",
     "output_type": "stream",
     "text": [
      "Unclosed client session\n",
      "client_session: <aiohttp.client.ClientSession object at 0x7fc39dd36e80>\n"
     ]
    },
    {
     "name": "stdout",
     "output_type": "stream",
     "text": [
      "CN "
     ]
    },
    {
     "name": "stderr",
     "output_type": "stream",
     "text": [
      "Unclosed client session\n",
      "client_session: <aiohttp.client.ClientSession object at 0x7fc39dbf0d30>\n"
     ]
    },
    {
     "name": "stdout",
     "output_type": "stream",
     "text": [
      "IR "
     ]
    },
    {
     "ename": "ValueError",
     "evalue": "too many values to unpack (expected 2)",
     "output_type": "error",
     "traceback": [
      "\u001b[0;31m---------------------------------------------------------------------------\u001b[0m",
      "\u001b[0;31mValueError\u001b[0m                                Traceback (most recent call last)",
      "\u001b[0;32m<ipython-input-13-f27d336a7316>\u001b[0m in \u001b[0;36m<module>\u001b[0;34m\u001b[0m\n\u001b[1;32m     25\u001b[0m \u001b[0;34m\u001b[0m\u001b[0m\n\u001b[1;32m     26\u001b[0m \u001b[0;32mif\u001b[0m \u001b[0m__name__\u001b[0m \u001b[0;34m==\u001b[0m \u001b[0;34m'__main__'\u001b[0m\u001b[0;34m:\u001b[0m\u001b[0;34m\u001b[0m\u001b[0m\n\u001b[0;32m---> 27\u001b[0;31m     \u001b[0mmain\u001b[0m\u001b[0;34m(\u001b[0m\u001b[0mdownload_many\u001b[0m\u001b[0;34m)\u001b[0m\u001b[0;34m\u001b[0m\u001b[0m\n\u001b[0m",
      "\u001b[0;32m<ipython-input-1-5671073dc5cc>\u001b[0m in \u001b[0;36mmain\u001b[0;34m(download_many)\u001b[0m\n\u001b[1;32m     32\u001b[0m \u001b[0;32mdef\u001b[0m \u001b[0mmain\u001b[0m\u001b[0;34m(\u001b[0m\u001b[0mdownload_many\u001b[0m\u001b[0;34m)\u001b[0m\u001b[0;34m:\u001b[0m\u001b[0;34m\u001b[0m\u001b[0m\n\u001b[1;32m     33\u001b[0m     \u001b[0mt0\u001b[0m \u001b[0;34m=\u001b[0m \u001b[0mtime\u001b[0m\u001b[0;34m.\u001b[0m\u001b[0mtime\u001b[0m\u001b[0;34m(\u001b[0m\u001b[0;34m)\u001b[0m\u001b[0;34m\u001b[0m\u001b[0m\n\u001b[0;32m---> 34\u001b[0;31m     \u001b[0mcount\u001b[0m \u001b[0;34m=\u001b[0m \u001b[0mdownload_many\u001b[0m\u001b[0;34m(\u001b[0m\u001b[0mPOP20_CC\u001b[0m\u001b[0;34m)\u001b[0m\u001b[0;34m\u001b[0m\u001b[0m\n\u001b[0m\u001b[1;32m     35\u001b[0m     \u001b[0melapsed\u001b[0m \u001b[0;34m=\u001b[0m \u001b[0mtime\u001b[0m\u001b[0;34m.\u001b[0m\u001b[0mtime\u001b[0m\u001b[0;34m(\u001b[0m\u001b[0;34m)\u001b[0m \u001b[0;34m-\u001b[0m \u001b[0mt0\u001b[0m\u001b[0;34m\u001b[0m\u001b[0m\n\u001b[1;32m     36\u001b[0m     \u001b[0mmsg\u001b[0m \u001b[0;34m=\u001b[0m \u001b[0;34m'\\n{} flags downloaded in {:.2f}s'\u001b[0m\u001b[0;34m\u001b[0m\u001b[0m\n",
      "\u001b[0;32m<ipython-input-13-f27d336a7316>\u001b[0m in \u001b[0;36mdownload_many\u001b[0;34m(cc_list)\u001b[0m\n\u001b[1;32m     19\u001b[0m     \u001b[0mto_do\u001b[0m \u001b[0;34m=\u001b[0m \u001b[0;34m[\u001b[0m\u001b[0masyncio\u001b[0m\u001b[0;34m.\u001b[0m\u001b[0mensure_future\u001b[0m\u001b[0;34m(\u001b[0m\u001b[0mdownload_one\u001b[0m\u001b[0;34m(\u001b[0m\u001b[0mcc\u001b[0m\u001b[0;34m)\u001b[0m\u001b[0;34m)\u001b[0m \u001b[0;32mfor\u001b[0m \u001b[0mcc\u001b[0m \u001b[0;32min\u001b[0m \u001b[0msorted\u001b[0m\u001b[0;34m(\u001b[0m\u001b[0mcc_list\u001b[0m\u001b[0;34m)\u001b[0m\u001b[0;34m]\u001b[0m \u001b[0;31m# 국기 이미지를 가져올 때마다 download_one() 함수를 호출해서 제너레이터 객체 리스트를 생성한다.\u001b[0m\u001b[0;34m\u001b[0m\u001b[0m\n\u001b[1;32m     20\u001b[0m     \u001b[0;31m#wait_coro = asyncio.wait(to_do) # 일종의 코루틴으로 자신에게 전달된 코루틴들이 모두 완료되면 완료된다.\u001b[0m\u001b[0;34m\u001b[0m\u001b[0;34m\u001b[0m\u001b[0m\n\u001b[0;32m---> 21\u001b[0;31m     \u001b[0mres\u001b[0m\u001b[0;34m,\u001b[0m \u001b[0m_\u001b[0m \u001b[0;34m=\u001b[0m \u001b[0mloop\u001b[0m\u001b[0;34m.\u001b[0m\u001b[0mrun_until_complete\u001b[0m\u001b[0;34m(\u001b[0m\u001b[0masyncio\u001b[0m\u001b[0;34m.\u001b[0m\u001b[0mgather\u001b[0m\u001b[0;34m(\u001b[0m\u001b[0;34m*\u001b[0m\u001b[0mto_do\u001b[0m\u001b[0;34m)\u001b[0m\u001b[0;34m)\u001b[0m \u001b[0;31m# wait_coro가 완료될 때까지 이벤트 루프를 실행한다. 이 부분은 이벤트 루프가 실행하는 동안 블로킹된다.\u001b[0m\u001b[0;34m\u001b[0m\u001b[0m\n\u001b[0m\u001b[1;32m     22\u001b[0m     \u001b[0;31m# loop.close() # 이벤트 루프를 종료한다.\u001b[0m\u001b[0;34m\u001b[0m\u001b[0;34m\u001b[0m\u001b[0m\n\u001b[1;32m     23\u001b[0m \u001b[0;34m\u001b[0m\u001b[0m\n",
      "\u001b[0;31mValueError\u001b[0m: too many values to unpack (expected 2)"
     ]
    }
   ],
   "source": [
    "import asyncio\n",
    "\n",
    "import aiohttp # 별도 설치 필요\n",
    "\n",
    "async def get_flag(cc):\n",
    "    url = '{}/{cc}/{cc}.gif'.format(BASE_URL, cc=cc.lower())\n",
    "    resp = await aiohttp.request('GET', url) # 블로킹 연산은 코루틴으로 구현되었고, yield from을 이용해서 이 코루틴에 위임하면, 코루틴이 비동기식으로 실행된다.\n",
    "    image = await resp.read() # 응답 내용을 읽는 것은 별도의 비동기 연산에서 구현한다.\n",
    "    return image\n",
    "\n",
    "async def download_one(cc):\n",
    "    image = await get_flag(cc) # 단어들을 yield from으로 가져온다는 것이 순차 버전의 download_one과 유일한 차이점\n",
    "    show(cc)\n",
    "    save_flag(image, cc.lower() + '.gif')\n",
    "    return cc\n",
    "\n",
    "def download_many(cc_list):\n",
    "    loop = asyncio.get_event_loop() # 하위 이벤트 루프 구현에 대한 참조를 가져온다. \n",
    "    to_do = [asyncio.ensure_future(download_one(cc)) for cc in sorted(cc_list)] # 국기 이미지를 가져올 때마다 download_one() 함수를 호출해서 제너레이터 객체 리스트를 생성한다.\n",
    "    #wait_coro = asyncio.wait(to_do) # 일종의 코루틴으로 자신에게 전달된 코루틴들이 모두 완료되면 완료된다. \n",
    "    res, _ = loop.run_until_complete(asyncio.gather(*to_do)) # wait_coro가 완료될 때까지 이벤트 루프를 실행한다. 이 부분은 이벤트 루프가 실행하는 동안 블로킹된다. \n",
    "    # loop.close() # 이벤트 루프를 종료한다.\n",
    "    \n",
    "    return len(res)\n",
    "\n",
    "if __name__ == '__main__':\n",
    "    main(download_many)"
   ]
  },
  {
   "cell_type": "markdown",
   "metadata": {},
   "source": [
    "asyncio.wait() 코루틴은 Future 객체나 코루틴의 반복형을 받고, wait()은 각 코루틴을 Task 안에 래핑한다. 결국 wait()가 관리하는 모든 객체는 Future 객체가 된다. wait()는 코루틴 함수이기 때문에 이를 호출하면 코루틴/제너레이터 객체가 반환된다. wait_coro 변수에 들어 있는게 바로 wait()가 반환한 코루틴 제너레이터 객체이다. 이 코루틴을 구동하기 위해 loop.run_util_complete(run_util_complete()는 모두를 구동시킨다. )에 전달한다. \n",
    "\n",
    "loop.run_util_complete() 함수는 Future 객체나 코루틴을 받는다. 코루틴을 받으면 wait()과 비슷하게 코루틴을 Task 안에 래핑한다. 코루틴, Future, Task는 모두 yield from으로 구동할 수 있으며 run_util_complete()는 모두를 구동시킨다. wait_coro는 실행이 완료되면 (실행 완료 Future집합, 실행 미완료 Future집합) 튜플을 반환한다. \n",
    "\n",
    "참고로 wait()는 일부 Future 객체가 완료되지 않았더라도 반환하게 만드는 timeout과 return_when 키워드 전용 인수를 받는다. 자세한 사항은 asyncio.wait() 문서를 참조하라."
   ]
  },
  {
   "cell_type": "markdown",
   "metadata": {},
   "source": [
    "### 18.4 asyncio 내려받기 스크립드 개선\n",
    "17.5절 '진행 상황을 출력하고 에러를 처리하며 내려받기'를 asyncio 버전에서도 적용한다.\n",
    "\n",
    "#### 18.4.1 asyncio.as_completed( ) 사용하기\n",
    "진행 상황을 보여주고 에러를 처리하기 위해 더 세세히 제어해야 하므로, 대부분의 논리를 donwload_many()에서 새로 만든 downloader_coro() 코루틴으로 옮기고 download_many()는 단지 이벤트 루프를 생성하고 downloader_coro() 스케줄링 하도록 수정한다."
   ]
  },
  {
   "cell_type": "code",
   "execution_count": null,
   "metadata": {},
   "outputs": [],
   "source": [
    "\"\"\" [예제 18-7] 스크립트 앞부분 \"\"\"\n",
    "\n",
    "import asyncio\n",
    "import collections \n",
    "\n",
    "import aiohttp\n",
    "from aiohttp import web\n",
    "import tqdm\n",
    "\n",
    "DEFAULT_CONCUR_REQ = 5\n",
    "MAX_CONCUR_REQ = 1000\n",
    "\n",
    "class FetchError(Exception):\n",
    "    \"\"\"\n",
    "    다른 HTTP와 네트워크 예외를 래핑하고 에러를 보고하기 위해 국가 코드를 보관하는 예외 클래스를 새로 정의한다.\n",
    "    \"\"\"\n",
    "    def __init__(self, country_code):\n",
    "        self.country_code = country_code\n",
    "        \n",
    "@asyncio.coroutine\n",
    "def get_flag(base_url, cc):\n",
    "    \"\"\"\n",
    "    내려받은 이미지 파일의 크기를 바이트 단위로 넘겨주거나, HTTP 응답 상태가 404일 때는 web.HTTPNotFound 예외를 생성하고,\n",
    "    나머지 HTTP 에러코드에 대해서는 aiohttp.HttpProcessingError 예외를 발생시킨다.\n",
    "    \"\"\"\n",
    "    url = '{}/{cc}/{cc}.gif'.format(base_url, cc=cc.lower())\n",
    "    resp = yield from aiohttp.request('Get', url)\n",
    "    if resp.status == 200:\n",
    "        image = yield from resp.read()\n",
    "        return image\n",
    "    elif resp.status == 404:\n",
    "        raise web.HTTPNotFound()\n",
    "    else:\n",
    "        raise aiohttp.HttpProcessingError(code=resp.status, message=resp.reason, headers=resp.headers)\n",
    "    \n",
    "@asyncio.coroutine\n",
    "def download_one(cc, base_url, semaphore, verbose): # semaphore는 asyncio.Semaphore 객체이며, 동시 요청 수를 제한하기 위한 동기화 장치이다.\n",
    "    try:\n",
    "        with (yield from semaphore): #semaphore를 yield from 표현식의 콘텍스트 관리자로 사용하므로, 시스템 전체가 블로킹되지 않게 한다. \n",
    "            image = yield from get_flag(base_url, cc) # 단지 semaphore 카운터가 최대 허용 수에 이르렀을 때만 코루틴이 보장된다.\n",
    "                                                      # with문을 나올 때 semaphore수 감소, \n",
    "                                                      # 이 세마포어 객체를 기다리는 다른 코루틴 객체가 진행되게 한다.\n",
    "    except web.HTTPNotFound: # 파일을 못 찾은 상황\n",
    "        status = HTTPStatus.not_found\n",
    "        msg = 'not found'\n",
    "    except Exception as exc: # 그 외의 이상상황\n",
    "        raise FetchError(cc) from exc # 나머지 예외는 국가코드 및 raise X from Y 구문을 이용해서 원래 예외를 담은 FetchError로 만들어 전파한다.\n",
    "    else:\n",
    "        save_flag(image, cc.lower() + '.gif') # 이미지 국기를 디스크에 저장함\n",
    "        status = HTTPStatus.ok\n",
    "        msg = 'OK'\n",
    "        \n",
    "    if verbose and msg:\n",
    "        print(cc, msg)\n",
    "        \n",
    "    return Result(status, cc)"
   ]
  },
  {
   "cell_type": "code",
   "execution_count": null,
   "metadata": {},
   "outputs": [],
   "source": [
    "@asyncio.coroutine\n",
    "def downloader_coro(cc_list, base_url, verbose, concur_req): # 코루틴은 download_many()와 동일한 인수를 받지만 일반 함수가 아니라\n",
    "                                                             # 코루틴 함수이므로 main()에서 바로 호출할 수 없다.\n",
    "    counter = collections.Counter()\n",
    "    semaphore = asyncio.Semaphore(concur_req) # 동시에 concor_req 개까지의 코루틴을 실행할 수 있게 해주는 세마포어를 생성한다.\n",
    "    to_do = [download_one(cc, base_url, verbose, concur_req)\n",
    "             for cc in sorted(cc_list)] # 코루틴을 호출하는 코루틴 객체의 리스트를 생성한다.\n",
    "\n",
    "    to_do_iter = asyncio.as_completed(to_do) # 실행이 완료된 Future 객체를 반환하는 반복자를 가져온다.\n",
    "    if not verbose:\n",
    "        to_do_iter = tqdm.tqdm(to_do_iter, total=len(cc_list))\n",
    "        \n",
    "    for future in to_do_iter:\n",
    "        try:\n",
    "            res = yield from future # 객체의 결과를 가져올 때는 객체의 result() 메서드를 호출하는 것보다 yield from을 사용하는 것이 훨씬 더 쉽다.\n",
    "        except FectchError as exc:  # download_one()에서 발생하는 모든 예외는 FetchError 객체안에 래핑되어 있다.\n",
    "            counter_code = exc.country_code # 에러가 발생한 국가코드를 가져온다.\n",
    "            try:\n",
    "                error_msg = exc.__cause__.args[0] # 원래 예외에서 오류 메세지를 가져오려고 시도한다.\n",
    "            except IndexError:\n",
    "                error_msg = exc.__cause__.__class__.__name__ # 원래 예외에서 에러 메시지를 발견할 수 없으면 연결된 예외 클래스명을 에러 메시지로 사용한다.\n",
    "            if verbose and error_msg:\n",
    "                msg = '*** Error for {}: {}'\n",
    "                print(msg.format(country_code, error_msg))\n",
    "            status = HTTPStatus.error\n",
    "        else:\n",
    "            status = res.status\n",
    "            \n",
    "        counter[status] += 1\n",
    "        \n",
    "    return counter\n",
    "\n",
    "def download_many(cc_list, bass_url, verbose, concur_req):\n",
    "    loop = asyncio.get_event_loop()\n",
    "    coro = downloader_coro(cc_list, base_url, verbose, concur_req)\n",
    "    counts = loop.run_util_complete(coro) # 단순히 코루틴 객체를 생성하고 run_util_complete()를 이용해서 이벤트 루프에 전달한다.\n",
    "    loop.close() # 모든 작업이 완료되면 이벤트 루프를 종료하고 카운터를 반환한다.\n",
    "    \n",
    "    return counts\n",
    "\n",
    "# if __name__ == '__main__':\n",
    "#     main(download_many, DEFAULT_CONCUR_REQ, MAX_CONCUR_REQ)"
   ]
  },
  {
   "cell_type": "markdown",
   "metadata": {},
   "source": [
    "#### 18.4.2 Executor를 이용해서 이벤트 루프 블로킹 피하기\n",
    "save_flag()는 asyncio 이벤트 루프와 공유하는 유일한 스레드를 블로킹하므로 파일을 저장하는 동안 애플리케이션 전체가 멈춘다. 이 문제의 해결책은 이벤트 루프 객체의 run_in_executor() 메서드이다."
   ]
  },
  {
   "cell_type": "code",
   "execution_count": null,
   "metadata": {},
   "outputs": [],
   "source": [
    "\"\"\" [예제 18-9] 기본 스레드 풀 실행자를 이용해서 save_flag() 실행하기 \"\"\"\n",
    "\n",
    "@asyncio.coroutine\n",
    "def download_one(cc, base_url, semaphore, verbose): # semaphore는 asyncio.Semaphore 객체이며, 동시 요청 수를 제한하기 위한 동기화 장치이다.\n",
    "    try:\n",
    "        with (yield from semaphore): #semaphore를 yield from 표현식의 콘텍스트 관리자로 사용하므로, 시스템 전체가 블로킹되지 않게 한다. \n",
    "            image = yield from get_flag(base_url, cc) # 단지 semaphore 카운터가 최대 허용 수에 이르렀을 때만 코루틴이 보장된다.\n",
    "                                                      # with문을 나올 때 semaphore수 감소, \n",
    "                                                      # 이 세마포어 객체를 기다리는 다른 코루틴 객체가 진행되게 한다.\n",
    "    except web.HTTPNotFound: # 파일을 못 찾은 상황\n",
    "        status = HTTPStatus.not_found\n",
    "        msg = 'not found'\n",
    "    except Exception as exc: # 그 외의 이상상황\n",
    "        raise FetchError(cc) from exc # 나머지 예외는 국가코드 및 raise X from Y 구문을 이용해서 원래 예외를 담은 FetchError로 만들어 전파한다.\n",
    "    else:\n",
    "        loop = asyncio.get_event_loop() # 이벤트 루프에 대한 참조자를 가져온다.\n",
    "        loop.run_in_executor(None, # 첫번째 인수는 실행자 객체다. 이벤트 루프의 기본 스레드 풀 실행자를 사용할 때는 None으로 지정한다.\n",
    "                             save_flag, image, cc.lower() + '.gif') # 나머지 인수는 콜러블 및 콜러블이 받을 위치 인수다.\n",
    "        status = HTTPStatus.ok\n",
    "        msg = 'OK'\n",
    "        \n",
    "    if verbose and msg:\n",
    "        print(cc, msg)\n",
    "        \n",
    "    return Result(status, cc)"
   ]
  },
  {
   "cell_type": "markdown",
   "metadata": {},
   "source": [
    "### 18.5 콜백에서 Future와 코루틴으로\n",
    "#### 18.5.1 한 번 내려받을 때 여러 가지 요청하기\n",
    "<b> download_one() </b>\n",
    "+ yield from을 사용해서 get_flag() 및 새로 만들어진 get_country() 코루틴에 위임한다.\n",
    "\n",
    "<b> get_flag() </b>\n",
    "+ 기존 코드 대부분은 get_country()에서도 사용할 수 있도록 새로 만들어진 http_get() 코루틴으로 이동되었다.\n",
    "\n",
    "<b> get_country() </b>\n",
    "+ 이 코루틴은 국가 코드에 대한 metadata.json 파일을 가져와서 국가명을 꺼낸다.\n",
    "\n",
    "<b> http_get() </b>\n",
    "+ 웹에서 파일을 가져오기 위해 공통으로 사용하는 코드"
   ]
  },
  {
   "cell_type": "code",
   "execution_count": null,
   "metadata": {},
   "outputs": [],
   "source": [
    "\"\"\" [예제 18-13] 국기마다 두 개의 파일을 가져오기 위해 두 개의 코루틴에 위임한다. \"\"\"\n",
    "\n",
    "@asyncio.coroutine\n",
    "def http_get(url):\n",
    "    res = yield from asihttp.request('GET', url)\n",
    "    if res.status == 200:\n",
    "        ctype = res.header.get('Content-type', '').lower()\n",
    "        if 'json' in ctype or url.endswith('json'): # 컨텐츠 자료형이 'json'이거나 url이 '.json'으로 끝나면\n",
    "                                                    # 응답 객체의 json() 메서드를 호출해서 데이터를 파싱하고 파이썬 데이터 구조체를 반환한다.\n",
    "            data = yield from res.json() \n",
    "        else:\n",
    "            data = yield from res.read() # json 형식이 아니면 바이트 그대로 가져온다.\n",
    "        return data\n",
    "    \n",
    "    elif res.status == 404:\n",
    "        raise web.HTTPNotFound()\n",
    "    else:\n",
    "        raise aiohttp.errors.HttpProcessingError(code=res.status, message=res.reason, headers=res.headers)\n",
    "\n",
    "@asyncio.coroutine\n",
    "def get_country(base_url, cc):\n",
    "    url = '{}/{cc}/metadata.json'.format(base_url, cc=cc.lower())\n",
    "    metadata = yield from http_get(url)\n",
    "    return metadata['country']\n",
    "\n",
    "@asyncio.coroutine\n",
    "def get_flag(base_url, cc):\n",
    "    url = '{}/{cc}/{cc}.gif'.format(base_url, cc=cc.lower())\n",
    "    return (yield from http_get(url))\n",
    "\n",
    "@asyncio.coroutine\n",
    "def downloads_one(cc, base_url, semaphore, verbose):\n",
    "    try:\n",
    "        with (yield from semaphore): # 전송속도 향상을 위해 semaphore에 의해 제어되는 두 개의 with블록에서 get_flag()와 get_country()를 따로 호출한다.\n",
    "            image = yield from get_flag(base_url, cc)\n",
    "        with (yield from semaphore):\n",
    "            country = yield from get_country(base_url, cc)\n",
    "    except web.HTTPNotFound:\n",
    "        status = HTTPStatus.not_found\n",
    "        msg = 'not found'\n",
    "    except Exception as exc:\n",
    "        raise FetchError(cc) from exc\n",
    "    else:\n",
    "        country = country.replace(' ', '_')\n",
    "        filename = '{}-{}.gif'.format(country, cc)\n",
    "        loop = asyncio.get_event_loop()\n",
    "        loop.run_in_executor(None, save_flag, image, filename)\n",
    "        msg = 'OK'\n",
    "\n",
    "    if verbose and msg:\n",
    "        print(cc, msg)\n",
    "\n",
    "    return Result(status, cc)"
   ]
  },
  {
   "cell_type": "markdown",
   "metadata": {},
   "source": [
    "### 18.6 asyncio 서버 작성\n",
    "#### 18.6.1 asyncio TCP 서버\n",
    "[예제 18_14]의 모든 입출력은 bytes 형을 읽거나 쓴다. 네트워크에서 받은 문자열은 디코딩해야하며, 보내기 전에 인코딩해야한다. 주의할 점은 입출력 메서드들 중 일부는 코루틴이므로 yield from으로 구동해야 하며, 그 외 일반 함수들은 호출해야 한다. (현재 asyncio API 문서는 코루틴을 쉽게 구분할 수 있도록 레이블을 붙이는 개선 작업이 진행되고 있다.)"
   ]
  },
  {
   "cell_type": "code",
   "execution_count": null,
   "metadata": {},
   "outputs": [],
   "source": [
    "\"\"\" [예제 18-14] tcp_charfinder.py: asyncio.start_server()를 사용한 간단한 TCP 서버 \"\"\"\n",
    "import sys\n",
    "import asyncio\n",
    "\n",
    "#from charfinder import UnicodeNameIndex # 문자영 인덱스를 생성하고 쿼리 메서드를 제공한다.\n",
    "\n",
    "CRLF = b'\\r\\n'\n",
    "PROMPT = b'?>'\n",
    "\n",
    "#index = UnicodeNameIndex() # 객체를 생성할 때 charfinder_index.pickle이 없는 경우에는 인덱스를 빌드하므로 시간이 걸릴 수 있다.\n",
    "\n",
    "@asyncio.coroutine\n",
    "def handle_gueries(reader, writer):\n",
    "    while True: # 클라이언트에서 제어 문자를 받을 때까지 이 루프는 계속 세션을 처리한다.\n",
    "        writer.write(PROMPT) # 코루틴이 아니라 일반함수이며 '?>' 문자열 프롬프트를 전송한다.\n",
    "        yield from writer.drain() # 출력 버퍼를 플러시한다. 이 메서드는 코루틴이므로 yield from으로 호출해야 한다.\n",
    "        data = yield from reader.readline() # 코루틴이며 bytes형을 반환한다.\n",
    "        try:\n",
    "            query = data.decode().strip()\n",
    "        except UnicodeDecodeError: # 텔넷 클라이언트가 제어 문자를 보내면 UnicodeDecodeError 예외가 발생한다.\n",
    "            query = '\\x00'         # 간편함을 위해 제어 문자를 받으면 널 문자가 보내진 것처럼 처리한다. \n",
    "        client = writer.get_extra_info('peername')\n",
    "        print('Received from {}: {!r}'.format(client, query))\n",
    "        if query:\n",
    "            if ord(query[:1]) < 32: # 제어 문자나 널 문자를 받으면 루프를 종료한다.\n",
    "                break\n",
    "            lines = list(index.find_description_strs(query)) # U+0039\\t9\\tDIGIT NINE과 같은 현대로 유니코드 포인트, 실제 문자, 문자명을 문자열로\n",
    "                                                             # 생성하는 제너레이터를 반환한다. 여기서는 간단히 처리하기 위해 리스트를 반환한다.\n",
    "            if lines:\n",
    "                writer.writelines(line.encode() + CRLF for line in lines) # 각 행을 bytes 형으로 변환하고 기본 인코딩 방식인 UTF-8로 인코딩한\n",
    "                                                                          # 데이터에 CR, LF 문자를 추가해서 전송한다.\n",
    "            writer.write(index.status(query, len(line)).encode() + CRLF) # 627 matches for 'digit'와 같은 형태로 상태 메시지를 보낸다.\n",
    "            \n",
    "            yield from writer.drain() # 출력 버퍼를 플러시한다.\n",
    "            print('Sent {} results'.format(len(lines))) # 응답 메시지를 서버 콘솔에 출력한다.\n",
    "        \n",
    "    print('Close the client socket') # 세션 종료 메시지를 서버 콘솔에 출력한다.\n",
    "    writer.close() # StreamWriter를 닫는다."
   ]
  },
  {
   "cell_type": "code",
   "execution_count": null,
   "metadata": {},
   "outputs": [],
   "source": [
    "\"\"\" [예제 18-15] tcp_charfinder.py: main() 함수가 이벤트 루프와 소켓 서버를 생성 및 해제한다. \"\"\"\n",
    "def main(address='127.0.0.1', port=2323): # 인수없이 호출할 수 있다.\n",
    "    port = int(port)\n",
    "    loop = asyncio.get_event_loop()\n",
    "    server_coro = asyncio.start_server(handle_queries, address, port, loop=loop) # TCP 소켓 서버인 asyncio.Server 객체를 반환한다.\n",
    "    server = loop.run_until_complete(server_coro) # 서버를 가져오기 위해 server_coro를 구동한다.\n",
    "    host = server.sockerts[0].getsockname() # 서버의 첫 번째 소켓의 주소와 포트를 가져온다.\n",
    "    print('Serving on {}. Hit CTRL-C to stop.'.format(host))\n",
    "    try:\n",
    "        loop.run_forever() # 이벤트 루프를 실행한다. main() 함수는 서버 콘솔에서 CTRL-C를 눌러 종료될 때까지 여기에서 블로킹된다.\n",
    "    except KeyboardInterrupt: \n",
    "        pass\n",
    "    \n",
    "    print('Server shutting down.')\n",
    "    server.close()\n",
    "    loop.run_until_complete(server.wait_closed()) # server.wait_closed()는 Future 객체를 반환한다. 이 객체가 작업을 완료할 때까지 기다리기 위해\n",
    "                                                  # loop.run_until_complete()을 실행한다.\n",
    "    loop.close()\n",
    "    \n",
    "if __name__ == '__main__':\n",
    "    main(*sys.argv[1:])"
   ]
  },
  {
   "cell_type": "markdown",
   "metadata": {},
   "source": [
    "### 18.6.2 aiohttp 웹 서버 \n"
   ]
  },
  {
   "cell_type": "code",
   "execution_count": null,
   "metadata": {},
   "outputs": [],
   "source": [
    "\"\"\" [예제 18-17] http_charfinder.py: main()과 init() 함수 \"\"\"\n",
    "\n",
    "@asyncio.coroutine\n",
    "def init(loop, address, port): \n",
    "    \"\"\"\n",
    "    이벤트 루프가 구동할 서버를 생성한다.\n",
    "    \"\"\"\n",
    "    app = web.Application(loop=loop) # 웹 애플리케이션을 나타낸다.\n",
    "    app.router.add_route('GET', '/', home) # URL을 처리하는 함수를 매핑한다. 여기서는 GET / 요청을 home() 함수에서 처리하도록 한다.\n",
    "    handler = app.make_handler()\n",
    "    server = yield from loop.create_server(handler, address, port) # handler를 프로토콜 처리기로 사용하고\n",
    "                                                                   # address와 port에 바인딩해서 서버를 실행한다. \n",
    "    return server.sockets[0].getsockname() # 첫 번째 서버 소켓의 주소와 포트를 반환한다.\n",
    "\n",
    "def main(address='127.0.0.1', port=8888):\n",
    "    port = int(port)\n",
    "    loop = asyncio.get_event_loop()\n",
    "    host = loop.run_until_complete(init(loop, address, port)) # 서버를 기동하고 주소와 포트를 가져온다.\n",
    "    print('Serving on {}. Hit CTRL-C to stop.'.format(host))\n",
    "    try:\n",
    "        loop.run_forever() # 이벤트 루프를 실행한다. 이벤트 루프가 제어권을 가지는 동안 main() 함수는 여기에서 블로킹된다.  \n",
    "    except KeyboardInterrupt: # CTRL-C를 누른 경우\n",
    "        pass\n",
    "    \n",
    "    print('Server shutting down')"
   ]
  },
  {
   "cell_type": "code",
   "execution_count": null,
   "metadata": {},
   "outputs": [],
   "source": [
    "\"\"\" [예제 18-18] http_charfinder.py: home() 함수 \"\"\"\n",
    "def home(request): # aiohttp.web.Request 객체를 받는다.\n",
    "    query = request.GET.get('query', '').strip()\n",
    "    print('Query: {!r}'.format(query)) # 쿼리를 서버 콘솔에 출력한다.\n",
    "    \n",
    "    if query: # 쿼리가 있으면, 인덱스에 대한 쿼리 결과로 생성된 HTML 테이블 행에 res를 상태 메시지에 msg를 바인딩 한다.\n",
    "        descriptions = list(index.find_descriptions(query))\n",
    "        res = '\\n'.join(ROW_TPL.format(**vars(descr))\n",
    "                        for descr in descriptions)\n",
    "        msg = index.status(query, len(descriptions))\n",
    "        \n",
    "    else:\n",
    "        descriptions = []\n",
    "        res = ''\n",
    "        msg = 'Enter words describing characters'\n",
    "            \n",
    "    html = template.format(query=query, result=res, message=msg) # html 페이지를 생성\n",
    "    print('Sending {} results'.format(len(descriptions)))        # 응답을 서버 콘솔에 출력\n",
    "    return web.Response(content_type=CONTENT_TYPE, text=html)    # Response 응답을 생성해서 반환"
   ]
  }
 ],
 "metadata": {
  "kernelspec": {
   "display_name": "Python 3",
   "language": "python",
   "name": "python3"
  },
  "language_info": {
   "codemirror_mode": {
    "name": "ipython",
    "version": 3
   },
   "file_extension": ".py",
   "mimetype": "text/x-python",
   "name": "python",
   "nbconvert_exporter": "python",
   "pygments_lexer": "ipython3",
   "version": "3.5.2"
  }
 },
 "nbformat": 4,
 "nbformat_minor": 2
}
