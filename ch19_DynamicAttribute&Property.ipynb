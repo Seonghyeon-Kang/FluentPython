{
 "cells": [
  {
   "cell_type": "markdown",
   "metadata": {},
   "source": [
    "## 19. 동적 속성과 프로퍼티\n",
    "### 19.1 동석 속성을 이용한 데이터 랭글링\n",
    "다음에 나올 몇 가지 예제에서는 OSCON 2014 콘퍼런스에서 오라일리가 공개한 JSON 데이터 피드를 사용하기 위해 동적 속성을 이용한다."
   ]
  },
  {
   "cell_type": "code",
   "execution_count": 1,
   "metadata": {},
   "outputs": [],
   "source": [
    "\"\"\" [예제 19-2] osconfeed.py: osconfeed.json 내려받기 \"\"\"\n",
    "\n",
    "from urllib.request import urlopen\n",
    "import warnings\n",
    "import os \n",
    "import json\n",
    "\n",
    "URL = 'http://www.oreilly.com/pub/sc/osconfeed'\n",
    "JSON = 'data/osconfeed.json'\n",
    "\n",
    "def load():\n",
    "    if not os.path.exists(JSON):\n",
    "        msg = 'downloading {} to {}'.format(URL, JSON)\n",
    "        warnings.warn(msg) # 새로 내려받아야 하는 경우 경고 메시지를 출력\n",
    "        with urlopen(URL) as remote, open(JSON, 'wb') as local: # 두 개의 콘텍스트 관리자를 이용해서 원격 파일을 읽고 저장하는 with 문\n",
    "            local.write(remote.read())\n",
    "            \n",
    "    with open(JSON) as fp:\n",
    "        return json.load(fp) # JSON 파일을 파싱하고 네이티브 파이썬 객체로 반환하며, 이 피드에는 dict, list, str, int 형의 데이터가 있음"
   ]
  },
  {
   "cell_type": "code",
   "execution_count": 2,
   "metadata": {},
   "outputs": [
    {
     "data": {
      "text/plain": [
       "['conferences', 'events', 'speakers', 'venues']"
      ]
     },
     "execution_count": 2,
     "metadata": {},
     "output_type": "execute_result"
    }
   ],
   "source": [
    "feed = load()\n",
    "sorted(feed['Schedule'].keys())"
   ]
  },
  {
   "cell_type": "code",
   "execution_count": 3,
   "metadata": {},
   "outputs": [
    {
     "name": "stdout",
     "output_type": "stream",
     "text": [
      "  1 conferences\n",
      "494 events\n",
      "357 speakers\n",
      " 53 venues\n"
     ]
    }
   ],
   "source": [
    "for key, value in sorted(feed['Schedule'].items()):\n",
    "    print(\"{:3} {}\".format(len(value), key))"
   ]
  },
  {
   "cell_type": "code",
   "execution_count": 4,
   "metadata": {},
   "outputs": [
    {
     "data": {
      "text/plain": [
       "'Carina C. Zona'"
      ]
     },
     "execution_count": 4,
     "metadata": {},
     "output_type": "execute_result"
    }
   ],
   "source": [
    "feed['Schedule']['speakers'][-1]['name'] # 마지막 발표자의 이름"
   ]
  },
  {
   "cell_type": "markdown",
   "metadata": {},
   "source": [
    "### 19.1.1 동적 속성을 이용해서 JSON과 유사한 데이터 둘러보기\n",
    "[예제 19-2]는 아주 간단하지만 feed['Schedule']['event'][40]['name']과 같은 구문은 번거롭다. 예제 19-5의 FrozenJSON을 사용하면 자바스크립트처럼 feed.Schedule.event[40].name과 같은 구문으로 동일한 값을 가져올 수 있다. \n",
    "\n",
    "FrozenJSON의 핵심은 \\_\\_getattr\\_\\_( ) 메서드다.  \\_\\_getattr\\_\\_( ) 특별 메서드는 속성을 가져오기 위한 일반적인 과정이 실패할 때(즉, 지명한 속성을 객체, 클래스, 슈퍼클래스에서 찾을 수 없을 때)만 인터프리터에서 호출한다."
   ]
  },
  {
   "cell_type": "code",
   "execution_count": 5,
   "metadata": {},
   "outputs": [],
   "source": [
    "\"\"\" [예제 19-5] explore0.py: JSON 데이터셋을 내포한 FrozenJSON 객체, 리스트, 기본형을 담고 있는 FrozenJSON으로 변환 \"\"\"\n",
    "\n",
    "from collections import abc\n",
    "\n",
    "class FrozenJSON:\n",
    "    \"\"\"\n",
    "    점 표기법을 이용해서 JSON과 유사한 객체를 순회하는 읽기 전용 퍼사드 클래스\n",
    "    \"\"\"\n",
    "    \n",
    "    def __init__(self, mapping):\n",
    "        self.__data = dict(mapping) # 딕셔너리 메서드를 사용할 수 있으며, 원본을 변경하지 않는다.\n",
    "        \n",
    "    def __getattr__(self, name): # name 속성이 없을 때만 __getattr__() 메서드가 호출된다.\n",
    "        if hasattr(self.__data, name):\n",
    "            return getattr(self.__data, name) # __data에 들어 있는 객체가 name 속성을 가지고 있으면 그 속성을 반환한다.\n",
    "        else:\n",
    "            return FrozenJSON.build(self.__data[name])  # 그렇지 않으면 self.__data에 name을 키로 사용해서 항목을 가져오고 가져온 항목에\n",
    "                                                        # FrozenJSON.build()를 호출한 결과를 반환한다.\n",
    "        \n",
    "    @classmethod # 일반적으로 대안 생성자로 @classmethod를 사용한다.\n",
    "    def build(cls, obj):\n",
    "        if isinstance(obj, abc.Mapping): # obj가 매핑형이면 이 객체로부터 FrozenJSON 객체를 생성한다.\n",
    "            return cls(obj)\n",
    "        elif isinstance(obj, abc.MutableSequence): # obj가 MutableSequence 형이면 리스트이므로 obj안에 있는 모든 항목에 build() 메서드를 적용해서 생성된 객체들의 리스트를 반환한다.\n",
    "            return [cls.build(item) for item in obj]\n",
    "        else:\n",
    "            return obj # obj가 매핑도 아니고 리스트도 아니면 항목을 그대로 반환한다."
   ]
  },
  {
   "cell_type": "code",
   "execution_count": 6,
   "metadata": {},
   "outputs": [
    {
     "data": {
      "text/plain": [
       "357"
      ]
     },
     "execution_count": 6,
     "metadata": {},
     "output_type": "execute_result"
    }
   ],
   "source": [
    "raw_feed = load()\n",
    "feed = FrozenJSON(raw_feed)\n",
    "len(feed.Schedule.speakers)"
   ]
  },
  {
   "cell_type": "code",
   "execution_count": 7,
   "metadata": {},
   "outputs": [
    {
     "data": {
      "text/plain": [
       "['conferences', 'events', 'speakers', 'venues']"
      ]
     },
     "execution_count": 7,
     "metadata": {},
     "output_type": "execute_result"
    }
   ],
   "source": [
    "sorted(feed.Schedule.keys())"
   ]
  },
  {
   "cell_type": "code",
   "execution_count": 8,
   "metadata": {},
   "outputs": [
    {
     "name": "stdout",
     "output_type": "stream",
     "text": [
      "  1 conferences\n",
      "494 events\n",
      "357 speakers\n",
      " 53 venues\n"
     ]
    }
   ],
   "source": [
    "for key, value in sorted(feed.Schedule.items()):\n",
    "    print(\"{:3} {}\".format(len(value), key))"
   ]
  },
  {
   "cell_type": "code",
   "execution_count": 9,
   "metadata": {},
   "outputs": [
    {
     "data": {
      "text/plain": [
       "'Carina C. Zona'"
      ]
     },
     "execution_count": 9,
     "metadata": {},
     "output_type": "execute_result"
    }
   ],
   "source": [
    "feed.Schedule.speakers[-1].name"
   ]
  },
  {
   "cell_type": "code",
   "execution_count": 10,
   "metadata": {},
   "outputs": [
    {
     "data": {
      "text/plain": [
       "__main__.FrozenJSON"
      ]
     },
     "execution_count": 10,
     "metadata": {},
     "output_type": "execute_result"
    }
   ],
   "source": [
    "talk = feed.Schedule.events[40]\n",
    "type(talk) # JSON 객체였지만 이제는 FrozenJSON 객체가 되었다."
   ]
  },
  {
   "cell_type": "code",
   "execution_count": 11,
   "metadata": {},
   "outputs": [
    {
     "data": {
      "text/plain": [
       "'There *Will* Be Bugs'"
      ]
     },
     "execution_count": 11,
     "metadata": {},
     "output_type": "execute_result"
    }
   ],
   "source": [
    "talk.name"
   ]
  },
  {
   "cell_type": "code",
   "execution_count": 12,
   "metadata": {},
   "outputs": [
    {
     "data": {
      "text/plain": [
       "[3471, 5199]"
      ]
     },
     "execution_count": 12,
     "metadata": {},
     "output_type": "execute_result"
    }
   ],
   "source": [
    "talk.speakers"
   ]
  },
  {
   "cell_type": "code",
   "execution_count": 13,
   "metadata": {},
   "outputs": [
    {
     "ename": "KeyError",
     "evalue": "'flavor'",
     "output_type": "error",
     "traceback": [
      "\u001b[0;31m\u001b[0m",
      "\u001b[0;31mKeyError\u001b[0mTraceback (most recent call last)",
      "\u001b[0;32m<ipython-input-13-983cc7490a19>\u001b[0m in \u001b[0;36m<module>\u001b[0;34m\u001b[0m\n\u001b[0;32m----> 1\u001b[0;31m \u001b[0mtalk\u001b[0m\u001b[0;34m.\u001b[0m\u001b[0mflavor\u001b[0m \u001b[0;31m# 없는 속성을 읽으려 시도하면 일반적으로 발생하는 AttributeError 대신 KeyError 예외가 발생한다.\u001b[0m\u001b[0;34m\u001b[0m\u001b[0m\n\u001b[0m",
      "\u001b[0;32m<ipython-input-5-1ec5bd72d911>\u001b[0m in \u001b[0;36m__getattr__\u001b[0;34m(self, name)\u001b[0m\n\u001b[1;32m     15\u001b[0m             \u001b[0;32mreturn\u001b[0m \u001b[0mgetattr\u001b[0m\u001b[0;34m(\u001b[0m\u001b[0mself\u001b[0m\u001b[0;34m.\u001b[0m\u001b[0m__data\u001b[0m\u001b[0;34m,\u001b[0m \u001b[0mname\u001b[0m\u001b[0;34m)\u001b[0m \u001b[0;31m# __data에 들어 있는 객체가 name 속성을 가지고 있으면 그 속성을 반환한다.\u001b[0m\u001b[0;34m\u001b[0m\u001b[0m\n\u001b[1;32m     16\u001b[0m         \u001b[0;32melse\u001b[0m\u001b[0;34m:\u001b[0m\u001b[0;34m\u001b[0m\u001b[0m\n\u001b[0;32m---> 17\u001b[0;31m             \u001b[0;32mreturn\u001b[0m \u001b[0mFrozenJSON\u001b[0m\u001b[0;34m.\u001b[0m\u001b[0mbuild\u001b[0m\u001b[0;34m(\u001b[0m\u001b[0mself\u001b[0m\u001b[0;34m.\u001b[0m\u001b[0m__data\u001b[0m\u001b[0;34m[\u001b[0m\u001b[0mname\u001b[0m\u001b[0;34m]\u001b[0m\u001b[0;34m)\u001b[0m  \u001b[0;31m# 그렇지 않으면 self.__data에 name을 키로 사용해서 항목을 가져오고 가져온 항목에\u001b[0m\u001b[0;34m\u001b[0m\u001b[0m\n\u001b[0m\u001b[1;32m     18\u001b[0m                                                         \u001b[0;31m# FrozenJSON.build()를 호출한 결과를 반환한다.\u001b[0m\u001b[0;34m\u001b[0m\u001b[0;34m\u001b[0m\u001b[0m\n\u001b[1;32m     19\u001b[0m \u001b[0;34m\u001b[0m\u001b[0m\n",
      "\u001b[0;31mKeyError\u001b[0m: 'flavor'"
     ]
    }
   ],
   "source": [
    "talk.flavor # 없는 속성을 읽으려 시도하면 일반적으로 발생하는 AttributeError 대신 KeyError 예외가 발생한다."
   ]
  },
  {
   "cell_type": "markdown",
   "metadata": {},
   "source": [
    "### 19.1.2 잘못된 속성명 문제\n",
    "FrozenJSON 클래스는 파이썬 키워드가 속성명으로 사용된 경우를 처리하지 못한다. 때문에 전달된 매핑 안의 키가 파이썬 키워드인지 검사하고, 파이썬 키워드인 경우에는 뒤에 \\_를 붙여 속성을 읽을 수 있게 만드는 것이 좋다."
   ]
  },
  {
   "cell_type": "code",
   "execution_count": 14,
   "metadata": {},
   "outputs": [],
   "source": [
    "\"\"\" [예제 19-6] 파이썬 키워드인 속성명에 언더바 붙이기 \"\"\"\n",
    "\n",
    "def __init__(self, mapping):\n",
    "    self.__data = {}\n",
    "    for key, value in mapping.items():\n",
    "        if keyword.iskeyword(key):\n",
    "            key += '_'\n",
    "        self.__data[key] = value"
   ]
  },
  {
   "cell_type": "code",
   "execution_count": 15,
   "metadata": {},
   "outputs": [],
   "source": [
    "x = FrozenJSON({'2be':'or not'})"
   ]
  },
  {
   "cell_type": "code",
   "execution_count": 16,
   "metadata": {},
   "outputs": [
    {
     "ename": "SyntaxError",
     "evalue": "invalid syntax (<ipython-input-16-8694215ab5bd>, line 1)",
     "output_type": "error",
     "traceback": [
      "\u001b[0;36m  File \u001b[0;32m\"<ipython-input-16-8694215ab5bd>\"\u001b[0;36m, line \u001b[0;32m1\u001b[0m\n\u001b[0;31m    x.2be\u001b[0m\n\u001b[0m      ^\u001b[0m\n\u001b[0;31mSyntaxError\u001b[0m\u001b[0;31m:\u001b[0m invalid syntax\n"
     ]
    }
   ],
   "source": [
    "x.2be"
   ]
  },
  {
   "cell_type": "markdown",
   "metadata": {},
   "source": [
    "### 19.1.3 \\_\\_new\\_\\_( )를 이용한 융통성 있는 객체 생성\n",
    "이전에 build() 클래스에서 처리하던 논리를 \\_\\_new\\_\\_( ) 메서드로 옮긴 새로운 버전의 FronzenJson 클래스를 보여준다."
   ]
  },
  {
   "cell_type": "code",
   "execution_count": 17,
   "metadata": {},
   "outputs": [],
   "source": [
    "\"\"\" [예제 19-7] FronzenJson 객체든 아니든 새로운 객체를 생성하는 대신 __new__() 사용하기 \"\"\"\n",
    "\n",
    "from collections import abc\n",
    "from keyword import iskeyword\n",
    "\n",
    "class FrozenJSON:\n",
    "    \"\"\"\n",
    "    점 표기법을 이용해서 JSON과 유사한 객체를 둘러보기 위한 읽기 전용 퍼사드 클래스\n",
    "    \"\"\"\n",
    "    \n",
    "    def __new__(cls, arg): \n",
    "        \"\"\"\n",
    "        클래스 메서드로서 첫번째 인수는 클래스 자신, 나머지 인수는 __init__() 과 동일하다.\n",
    "        \"\"\"\n",
    "        if isinstance(arg, abc.Mapping):\n",
    "            return super().__new__(cls) # 기본적으로 슈퍼클래스에 위임한다. \n",
    "                                        # 이 경우 FrozenJSON을 인수로 전달하고 object 클래스에서 __new__() 메서드를 호출한다. \n",
    "        elif isinstance(arg, abc.MutableSequence):\n",
    "            return [cls(item) for item in arg]\n",
    "        else:\n",
    "            return arg\n",
    "        \n",
    "    def __init__(self, mapping):\n",
    "        self.__data = {}\n",
    "        for key, value in mapping.items():\n",
    "            if iskeyword(key):\n",
    "                key += '_'\n",
    "            self.__data[key] = value\n",
    "            \n",
    "    def __getattr__(self, name):\n",
    "        if hasattr(self.__data, name):\n",
    "            return getattr(self.__data, name)\n",
    "        else:\n",
    "            return FrozenJSON(self.__data[name]) # 생성자 호출"
   ]
  },
  {
   "cell_type": "code",
   "execution_count": 18,
   "metadata": {},
   "outputs": [
    {
     "data": {
      "text/plain": [
       "357"
      ]
     },
     "execution_count": 18,
     "metadata": {},
     "output_type": "execute_result"
    }
   ],
   "source": [
    "raw_feed = load()\n",
    "feed = FrozenJSON(raw_feed)\n",
    "len(feed.Schedule.speakers)"
   ]
  },
  {
   "cell_type": "code",
   "execution_count": 19,
   "metadata": {},
   "outputs": [
    {
     "name": "stdout",
     "output_type": "stream",
     "text": [
      "  1 conferences\n",
      "494 events\n",
      "357 speakers\n",
      " 53 venues\n"
     ]
    }
   ],
   "source": [
    "for key, value in sorted(feed.Schedule.items()):\n",
    "    print(\"{:3} {}\".format(len(value), key))"
   ]
  },
  {
   "cell_type": "markdown",
   "metadata": {},
   "source": [
    "#### 19.1.4 shelve를 이용해서 OSCON 피드 구조 변경하기\n",
    "shelve.open() 고위 함수는 shelve.Shelf 객체를 반환한다. shelve.Shelf는 dbm 모듈을 이용해서 키-값 객체를 보관하는 단순한 객체로서 아래과 같은 특징이 있다. 우리는 Json 파일에서 레코드를 모두 읽어 shelve.Shelf에 저장할 것이다. 각 키는 'event.33950' 처럼 레코드 유형과 일련번호로 만들며, 값은 이제 설명할 대로 만든 Record 클래스 객체가 된다.\n",
    "\n",
    "+ shelve.Shelf는 abc.MutableMapping 클래스를 상속하므로, 매핑형이 제공하는 핵심 메서드들을 제공한다.\n",
    "+ shelve.Shelf는 sync(), close() 등의 입출력을 관리하는 메서드도 제공한다. 콘텍스트 관리자이기도 하다.\n",
    "+ 새로운 값이 키에 할당될 때마다 기와 값이 저장된다.\n",
    "+ 깂은 반드시 pickle 모듈이 처리할 수 있는 객체여야 한다."
   ]
  },
  {
   "cell_type": "code",
   "execution_count": 20,
   "metadata": {},
   "outputs": [],
   "source": [
    "\"\"\" [예제 19-9] shedule1.py: shelve.Shelf에 저장된 OSCON 일정 데이터 둘러보기 \"\"\"\n",
    "import warnings\n",
    "\n",
    "DB_NAME = 'data/schedule1_db'\n",
    "CONFERENCE = 'conference.115'\n",
    "\n",
    "class Record:\n",
    "    def __init__(self, **kwargs):\n",
    "        self.__dict__.update(kwargs) # 키워드 인수로부터 생성된 속성으로 객체를 생성할 때 간편히 사용하는 방법(잠시 후에 다시 설명한다.)\n",
    "        \n",
    "def load_db(db):\n",
    "    raw_data = load()\n",
    "    warnings.warn(\"loading\" + DB_NAME)\n",
    "    for collection, rec_list in raw_data['Schedule'].items():\n",
    "        record_type = collection[:-1] # 키값의 마지막 s자를 제거한다.(confrerence, event, speaker, venue)\n",
    "        for record in rec_list:\n",
    "            key = '{}.{}'.format(record_type, record['serial']) \n",
    "            record['serial'] = key\n",
    "            db[key] = Record(**record) "
   ]
  },
  {
   "cell_type": "code",
   "execution_count": 23,
   "metadata": {},
   "outputs": [
    {
     "name": "stderr",
     "output_type": "stream",
     "text": [
      "/usr/local/lib/python3.5/dist-packages/ipykernel_launcher.py:13: UserWarning: loadingdata/schedule1_db\n",
      "  del sys.path[0]\n"
     ]
    },
    {
     "data": {
      "text/plain": [
       "('Anna Ravenscroft', 'annaraven')"
      ]
     },
     "execution_count": 23,
     "metadata": {},
     "output_type": "execute_result"
    }
   ],
   "source": [
    "import shelve\n",
    "\n",
    "db = shelve.open(DB_NAME)\n",
    "if CONFERENCE not in db:\n",
    "    load_db(db)"
   ]
  },
  {
   "cell_type": "code",
   "execution_count": 24,
   "metadata": {},
   "outputs": [
    {
     "data": {
      "text/plain": [
       "__main__.Record"
      ]
     },
     "execution_count": 24,
     "metadata": {},
     "output_type": "execute_result"
    }
   ],
   "source": [
    "speaker = db['speaker.3471']\n",
    "type(speaker)"
   ]
  },
  {
   "cell_type": "code",
   "execution_count": 25,
   "metadata": {},
   "outputs": [
    {
     "data": {
      "text/plain": [
       "('Anna Ravenscroft', 'annaraven')"
      ]
     },
     "execution_count": 25,
     "metadata": {},
     "output_type": "execute_result"
    }
   ],
   "source": [
    "speaker.name, speaker.twitter"
   ]
  },
  {
   "cell_type": "code",
   "execution_count": 26,
   "metadata": {},
   "outputs": [],
   "source": [
    "db.close()"
   ]
  }
 ],
 "metadata": {
  "kernelspec": {
   "display_name": "Python 3",
   "language": "python",
   "name": "python3"
  },
  "language_info": {
   "codemirror_mode": {
    "name": "ipython",
    "version": 3
   },
   "file_extension": ".py",
   "mimetype": "text/x-python",
   "name": "python",
   "nbconvert_exporter": "python",
   "pygments_lexer": "ipython3",
   "version": "3.5.2"
  }
 },
 "nbformat": 4,
 "nbformat_minor": 2
}
